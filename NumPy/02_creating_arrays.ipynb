{
 "cells": [
  {
   "cell_type": "markdown",
   "id": "9843b61b",
   "metadata": {},
   "source": [
    "## Creating an Array using NumPy\n",
    "- Using NumPy we can create n-dimensional arrays.\n",
    "- We can input the values of the array from the user and make the numpy array."
   ]
  },
  {
   "cell_type": "code",
   "execution_count": 1,
   "id": "52dd0e8e",
   "metadata": {},
   "outputs": [
    {
     "data": {
      "text/plain": [
       "array([1, 2, 3, 4, 5])"
      ]
     },
     "execution_count": 1,
     "metadata": {},
     "output_type": "execute_result"
    }
   ],
   "source": [
    "import numpy as np\n",
    "a = [1, 2, 3, 4, 5]\n",
    "arr = np.array(a)\n",
    "arr"
   ]
  },
  {
   "cell_type": "code",
   "execution_count": 2,
   "id": "c9fad04b",
   "metadata": {},
   "outputs": [
    {
     "data": {
      "text/plain": [
       "array([1, 2, 3, 4, 5])"
      ]
     },
     "execution_count": 2,
     "metadata": {},
     "output_type": "execute_result"
    }
   ],
   "source": [
    "arr = np.array([1, 2, 3, 4, 5])\n",
    "arr"
   ]
  },
  {
   "cell_type": "code",
   "execution_count": 5,
   "id": "54c16f05",
   "metadata": {},
   "outputs": [
    {
     "name": "stdout",
     "output_type": "stream",
     "text": [
      "\n",
      "The created array is: [11 23 65 20 44]\n"
     ]
    }
   ],
   "source": [
    "a = []\n",
    "n = int(input(\"Enter the size of an array: \"))\n",
    "for i in range(n):\n",
    "    val = int(input(f\"Enter input number {i+1}: \"))\n",
    "    a.append(val)\n",
    "arr = np.array(a)\n",
    "print(\"\\nThe created array is:\", arr)"
   ]
  },
  {
   "cell_type": "markdown",
   "id": "1e8f6d04",
   "metadata": {},
   "source": [
    "## Creating Higher Dimensional Arrays using NumPy"
   ]
  },
  {
   "cell_type": "code",
   "execution_count": 6,
   "id": "23cf5233",
   "metadata": {},
   "outputs": [
    {
     "data": {
      "text/plain": [
       "array([[1, 2, 3],\n",
       "       [4, 5, 6],\n",
       "       [7, 8, 9]])"
      ]
     },
     "execution_count": 6,
     "metadata": {},
     "output_type": "execute_result"
    }
   ],
   "source": [
    "import numpy as np\n",
    "a = [[1, 2, 3],[4, 5, 6], [7, 8, 9]]\n",
    "arr = np.array(a)\n",
    "arr"
   ]
  },
  {
   "cell_type": "code",
   "execution_count": 7,
   "id": "cc2e7f9b",
   "metadata": {},
   "outputs": [
    {
     "data": {
      "text/plain": [
       "2"
      ]
     },
     "execution_count": 7,
     "metadata": {},
     "output_type": "execute_result"
    }
   ],
   "source": [
    "arr.ndim # Checking the dimension of the array"
   ]
  },
  {
   "cell_type": "code",
   "execution_count": 8,
   "id": "48fce1c1",
   "metadata": {},
   "outputs": [
    {
     "data": {
      "text/plain": [
       "(3, 3)"
      ]
     },
     "execution_count": 8,
     "metadata": {},
     "output_type": "execute_result"
    }
   ],
   "source": [
    "arr.shape # Checking the shape of the array"
   ]
  },
  {
   "cell_type": "code",
   "execution_count": null,
   "id": "36cc252b",
   "metadata": {},
   "outputs": [],
   "source": []
  }
 ],
 "metadata": {
  "kernelspec": {
   "display_name": "test_env",
   "language": "python",
   "name": "python3"
  },
  "language_info": {
   "codemirror_mode": {
    "name": "ipython",
    "version": 3
   },
   "file_extension": ".py",
   "mimetype": "text/x-python",
   "name": "python",
   "nbconvert_exporter": "python",
   "pygments_lexer": "ipython3",
   "version": "3.13.5"
  }
 },
 "nbformat": 4,
 "nbformat_minor": 5
}
