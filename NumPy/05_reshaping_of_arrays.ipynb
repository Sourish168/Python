{
 "cells": [
  {
   "cell_type": "markdown",
   "id": "7db61c74",
   "metadata": {},
   "source": [
    "## Reshaping of Array\n",
    "- We can reshape an array as required.\n",
    "- But always remember that original array shape and reshaping array shape should be matching, or there is an error."
   ]
  },
  {
   "cell_type": "code",
   "execution_count": 1,
   "id": "876b721c",
   "metadata": {},
   "outputs": [
    {
     "data": {
      "text/plain": [
       "array([[82, 45,  3],\n",
       "       [30, 70, 19],\n",
       "       [75, 91, 88],\n",
       "       [34, 61, 68]])"
      ]
     },
     "execution_count": 1,
     "metadata": {},
     "output_type": "execute_result"
    }
   ],
   "source": [
    "import numpy as np\n",
    "a = np.random.randint(0, 99, (4, 3))\n",
    "a"
   ]
  },
  {
   "cell_type": "code",
   "execution_count": 2,
   "id": "13bf69f8",
   "metadata": {},
   "outputs": [
    {
     "data": {
      "text/plain": [
       "(4, 3)"
      ]
     },
     "execution_count": 2,
     "metadata": {},
     "output_type": "execute_result"
    }
   ],
   "source": [
    "a.shape # Total 12 elements are there"
   ]
  },
  {
   "cell_type": "code",
   "execution_count": 3,
   "id": "42a45fb8",
   "metadata": {},
   "outputs": [
    {
     "data": {
      "text/plain": [
       "array([[82, 45,  3, 30, 70, 19],\n",
       "       [75, 91, 88, 34, 61, 68]])"
      ]
     },
     "execution_count": 3,
     "metadata": {},
     "output_type": "execute_result"
    }
   ],
   "source": [
    "a.reshape(2, 6) # 2 rows and 6 columns, 12 elements"
   ]
  },
  {
   "cell_type": "code",
   "execution_count": 4,
   "id": "a5a304bb",
   "metadata": {},
   "outputs": [
    {
     "data": {
      "text/plain": [
       "array([[82, 45,  3, 30],\n",
       "       [70, 19, 75, 91],\n",
       "       [88, 34, 61, 68]])"
      ]
     },
     "execution_count": 4,
     "metadata": {},
     "output_type": "execute_result"
    }
   ],
   "source": [
    "a.reshape(3, 4) # 3 rows and 4 columns, 12 elements"
   ]
  },
  {
   "cell_type": "code",
   "execution_count": 5,
   "id": "4b08d916",
   "metadata": {},
   "outputs": [
    {
     "data": {
      "text/plain": [
       "array([[[82, 45],\n",
       "        [ 3, 30],\n",
       "        [70, 19]],\n",
       "\n",
       "       [[75, 91],\n",
       "        [88, 34],\n",
       "        [61, 68]]])"
      ]
     },
     "execution_count": 5,
     "metadata": {},
     "output_type": "execute_result"
    }
   ],
   "source": [
    "a.reshape(2, 3, 2) # 3D array"
   ]
  },
  {
   "cell_type": "code",
   "execution_count": 6,
   "id": "232cab38",
   "metadata": {},
   "outputs": [
    {
     "data": {
      "text/plain": [
       "array([[[[82, 45,  3],\n",
       "         [30, 70, 19]]],\n",
       "\n",
       "\n",
       "       [[[75, 91, 88],\n",
       "         [34, 61, 68]]]])"
      ]
     },
     "execution_count": 6,
     "metadata": {},
     "output_type": "execute_result"
    }
   ],
   "source": [
    "a.reshape(2, 1, 2, 3) # 4D array"
   ]
  },
  {
   "cell_type": "code",
   "execution_count": 7,
   "id": "d30e1670",
   "metadata": {},
   "outputs": [
    {
     "data": {
      "text/plain": [
       "array([[82, 45,  3, 30, 70, 19, 75, 91, 88, 34, 61, 68]])"
      ]
     },
     "execution_count": 7,
     "metadata": {},
     "output_type": "execute_result"
    }
   ],
   "source": [
    "a.reshape(1, 12) # 2D array"
   ]
  },
  {
   "cell_type": "code",
   "execution_count": 8,
   "id": "08c70750",
   "metadata": {},
   "outputs": [
    {
     "data": {
      "text/plain": [
       "array([82, 45,  3, 30, 70, 19, 75, 91, 88, 34, 61, 68])"
      ]
     },
     "execution_count": 8,
     "metadata": {},
     "output_type": "execute_result"
    }
   ],
   "source": [
    "a.reshape(12) # 1D array"
   ]
  },
  {
   "cell_type": "code",
   "execution_count": 9,
   "id": "86500f58",
   "metadata": {},
   "outputs": [
    {
     "ename": "ValueError",
     "evalue": "cannot reshape array of size 12 into shape (2,7)",
     "output_type": "error",
     "traceback": [
      "\u001b[31m---------------------------------------------------------------------------\u001b[39m",
      "\u001b[31mValueError\u001b[39m                                Traceback (most recent call last)",
      "\u001b[36mCell\u001b[39m\u001b[36m \u001b[39m\u001b[32mIn[9]\u001b[39m\u001b[32m, line 1\u001b[39m\n\u001b[32m----> \u001b[39m\u001b[32m1\u001b[39m \u001b[43ma\u001b[49m\u001b[43m.\u001b[49m\u001b[43mreshape\u001b[49m\u001b[43m(\u001b[49m\u001b[32;43m2\u001b[39;49m\u001b[43m,\u001b[49m\u001b[43m \u001b[49m\u001b[32;43m7\u001b[39;49m\u001b[43m)\u001b[49m \u001b[38;5;66;03m# 2 rows and 7 columns, 14 elements, not 12 elements, gives error\u001b[39;00m\n",
      "\u001b[31mValueError\u001b[39m: cannot reshape array of size 12 into shape (2,7)"
     ]
    }
   ],
   "source": [
    "a.reshape(2, 7) # 2 rows and 7 columns, 14 elements, not 12 elements, gives error"
   ]
  },
  {
   "cell_type": "code",
   "execution_count": 10,
   "id": "7284c838",
   "metadata": {},
   "outputs": [
    {
     "data": {
      "text/plain": [
       "array([[82, 45,  3],\n",
       "       [30, 70, 19],\n",
       "       [75, 91, 88],\n",
       "       [34, 61, 68]])"
      ]
     },
     "execution_count": 10,
     "metadata": {},
     "output_type": "execute_result"
    }
   ],
   "source": [
    "a # The actual array is not changing"
   ]
  },
  {
   "cell_type": "code",
   "execution_count": 11,
   "id": "3012e10d",
   "metadata": {},
   "outputs": [
    {
     "data": {
      "text/plain": [
       "array([[[82, 45,  3],\n",
       "        [30, 70, 19]],\n",
       "\n",
       "       [[75, 91, 88],\n",
       "        [34, 61, 68]]])"
      ]
     },
     "execution_count": 11,
     "metadata": {},
     "output_type": "execute_result"
    }
   ],
   "source": [
    "a = a.reshape(2, 2, 3) # To change the actual array\n",
    "a"
   ]
  },
  {
   "cell_type": "code",
   "execution_count": 12,
   "id": "a5c45c87",
   "metadata": {},
   "outputs": [
    {
     "data": {
      "text/plain": [
       "array([[82, 45,  3, 30, 70, 19],\n",
       "       [75, 91, 88, 34, 61, 68]])"
      ]
     },
     "execution_count": 12,
     "metadata": {},
     "output_type": "execute_result"
    }
   ],
   "source": [
    "a.reshape(-1, 6) # Only assigning the column value"
   ]
  },
  {
   "cell_type": "code",
   "execution_count": 13,
   "id": "5df9e8a2",
   "metadata": {},
   "outputs": [
    {
     "data": {
      "text/plain": [
       "array([[82, 45],\n",
       "       [ 3, 30],\n",
       "       [70, 19],\n",
       "       [75, 91],\n",
       "       [88, 34],\n",
       "       [61, 68]])"
      ]
     },
     "execution_count": 13,
     "metadata": {},
     "output_type": "execute_result"
    }
   ],
   "source": [
    "a.reshape(6, -1) # Only assigning the row value"
   ]
  },
  {
   "cell_type": "code",
   "execution_count": 14,
   "id": "91d51fe9",
   "metadata": {},
   "outputs": [
    {
     "data": {
      "text/plain": [
       "array([[[82, 45,  3],\n",
       "        [30, 70, 19]],\n",
       "\n",
       "       [[75, 91, 88],\n",
       "        [34, 61, 68]]])"
      ]
     },
     "execution_count": 14,
     "metadata": {},
     "output_type": "execute_result"
    }
   ],
   "source": [
    "a.reshape(2, 2, -1) # Only assigning the row and column"
   ]
  },
  {
   "cell_type": "code",
   "execution_count": 15,
   "id": "dde6ed7a",
   "metadata": {},
   "outputs": [
    {
     "data": {
      "text/plain": [
       "array([[82, 45,  3, 30],\n",
       "       [70, 19, 75, 91],\n",
       "       [88, 34, 61, 68]])"
      ]
     },
     "execution_count": 15,
     "metadata": {},
     "output_type": "execute_result"
    }
   ],
   "source": [
    "a.reshape(-4, 4) # Only assigning the column value"
   ]
  },
  {
   "cell_type": "code",
   "execution_count": 16,
   "id": "c9bd1e02",
   "metadata": {},
   "outputs": [
    {
     "ename": "ValueError",
     "evalue": "cannot reshape array of size 12 into shape (0,12)",
     "output_type": "error",
     "traceback": [
      "\u001b[31m---------------------------------------------------------------------------\u001b[39m",
      "\u001b[31mValueError\u001b[39m                                Traceback (most recent call last)",
      "\u001b[36mCell\u001b[39m\u001b[36m \u001b[39m\u001b[32mIn[16]\u001b[39m\u001b[32m, line 1\u001b[39m\n\u001b[32m----> \u001b[39m\u001b[32m1\u001b[39m \u001b[43ma\u001b[49m\u001b[43m.\u001b[49m\u001b[43mreshape\u001b[49m\u001b[43m(\u001b[49m\u001b[32;43m0\u001b[39;49m\u001b[43m,\u001b[49m\u001b[43m \u001b[49m\u001b[32;43m12\u001b[39;49m\u001b[43m)\u001b[49m \u001b[38;5;66;03m# Since 0 cannot be a dimension\u001b[39;00m\n",
      "\u001b[31mValueError\u001b[39m: cannot reshape array of size 12 into shape (0,12)"
     ]
    }
   ],
   "source": [
    "a.reshape(0, 12) # Since 0 cannot be a dimension"
   ]
  },
  {
   "cell_type": "code",
   "execution_count": null,
   "id": "30f0fc59",
   "metadata": {},
   "outputs": [],
   "source": []
  }
 ],
 "metadata": {
  "kernelspec": {
   "display_name": "test_env",
   "language": "python",
   "name": "python3"
  },
  "language_info": {
   "codemirror_mode": {
    "name": "ipython",
    "version": 3
   },
   "file_extension": ".py",
   "mimetype": "text/x-python",
   "name": "python",
   "nbconvert_exporter": "python",
   "pygments_lexer": "ipython3",
   "version": "3.13.5"
  }
 },
 "nbformat": 4,
 "nbformat_minor": 5
}
