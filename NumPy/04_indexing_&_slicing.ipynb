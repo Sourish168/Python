{
 "cells": [
  {
   "cell_type": "markdown",
   "id": "1950006f",
   "metadata": {},
   "source": [
    "## Indexing & Slicing of NumPy Array\n",
    "- To get any values from a NumPy array we can use indexing and slicing method.\n",
    "- Always remember indexing in python starts from 0 upto n-1, where n = lenth of the array.\n",
    "- For a n-dimensional array, we have to mention n different indexes, not more than that.\n",
    "- In some cases less number of indexing by default considers the first m indexes of the array (m<n).\n",
    "- We can use negetive indexing and slicing. Rule: index(n-k) = index(-k)"
   ]
  },
  {
   "cell_type": "code",
   "execution_count": 1,
   "id": "8e565c80",
   "metadata": {},
   "outputs": [
    {
     "name": "stdout",
     "output_type": "stream",
     "text": [
      "Array a:\n",
      " [1 2 3 4 5 6 7 8 9] \n",
      "\n",
      "The 0 indexed element is: 1\n",
      "The 1 indexed element is: 2\n",
      "The 2 indexed element is: 3\n",
      "The 3 indexed element is: 4\n",
      "The 4 indexed element is: 5\n",
      "The 5 indexed element is: 6\n",
      "The 6 indexed element is: 7\n",
      "The 7 indexed element is: 8\n",
      "The 8 indexed element is: 9\n"
     ]
    }
   ],
   "source": [
    "import numpy as np\n",
    "a = np.array([1, 2, 3, 4, 5, 6, 7, 8, 9]) # 1D array\n",
    "print(\"Array a:\\n\", a, \"\\n\")\n",
    "\n",
    "for i in range(len(a)):\n",
    "    print(f\"The {i} indexed element is:\", a[i]) # 1D array indexing"
   ]
  },
  {
   "cell_type": "code",
   "execution_count": 2,
   "id": "ba38a276",
   "metadata": {},
   "outputs": [
    {
     "name": "stdout",
     "output_type": "stream",
     "text": [
      "Array a:\n",
      " [[1 2 3]\n",
      " [4 5 6]\n",
      " [7 8 9]] \n",
      "\n",
      "The 0 indexed element is: [1 2 3]\n",
      "The 1 indexed element is: [4 5 6]\n",
      "The 2 indexed element is: [7 8 9]\n"
     ]
    }
   ],
   "source": [
    "a = np.array([[1, 2, 3],[4, 5, 6], [7, 8, 9]]) # 2D array\n",
    "print(\"Array a:\\n\", a, \"\\n\")\n",
    "\n",
    "for i in range(len(a)):\n",
    "    print(f\"The {i} indexed element is:\", a[i]) # 1D array indexing but for each index it is giving a 1D array"
   ]
  },
  {
   "cell_type": "code",
   "execution_count": 3,
   "id": "9171057f",
   "metadata": {},
   "outputs": [
    {
     "name": "stdout",
     "output_type": "stream",
     "text": [
      "Array a:\n",
      " [[[ 1  2  3]\n",
      "  [ 4  5  6]\n",
      "  [ 7  8  9]]\n",
      "\n",
      " [[11 12 13]\n",
      "  [14 15 16]\n",
      "  [17 18 19]]\n",
      "\n",
      " [[21 22 23]\n",
      "  [24 25 26]\n",
      "  [27 28 29]]] \n",
      "\n",
      "\n",
      "The 0 indexed element is:\n",
      " [[1 2 3]\n",
      " [4 5 6]\n",
      " [7 8 9]]\n",
      "\n",
      "The 1 indexed element is:\n",
      " [[11 12 13]\n",
      " [14 15 16]\n",
      " [17 18 19]]\n",
      "\n",
      "The 2 indexed element is:\n",
      " [[21 22 23]\n",
      " [24 25 26]\n",
      " [27 28 29]]\n",
      "\n",
      "The (0, 0) indexed element is:\n",
      " [1 2 3]\n",
      "\n",
      "The (0, 1) indexed element is:\n",
      " [4 5 6]\n",
      "\n",
      "The (0, 2) indexed element is:\n",
      " [7 8 9]\n",
      "\n",
      "The (1, 0) indexed element is:\n",
      " [11 12 13]\n",
      "\n",
      "The (1, 1) indexed element is:\n",
      " [14 15 16]\n",
      "\n",
      "The (1, 2) indexed element is:\n",
      " [17 18 19]\n",
      "\n",
      "The (2, 0) indexed element is:\n",
      " [21 22 23]\n",
      "\n",
      "The (2, 1) indexed element is:\n",
      " [24 25 26]\n",
      "\n",
      "The (2, 2) indexed element is:\n",
      " [27 28 29]\n"
     ]
    }
   ],
   "source": [
    "a = np.array([[[1, 2, 3], [4, 5, 6], [7, 8, 9]],\n",
    "              [[11, 12, 13], [14, 15, 16], [17, 18, 19]],\n",
    "              [[21, 22, 23], [24, 25, 26], [27, 28, 29]]]) # 3D array\n",
    "print(\"Array a:\\n\", a, \"\\n\")\n",
    "\n",
    "for i in range(len(a)):\n",
    "    print(f\"\\nThe {i} indexed element is:\\n\", a[i]) # 1D array indexing but for each index it is giving a 2D array\n",
    "\n",
    "for i in range(len(a)):\n",
    "    for j in range(len(a[i])):\n",
    "        print(f\"\\nThe ({i}, {j}) indexed element is:\\n\", a[i][j]) # 2D array indexing but for each index it is giving a 1D array"
   ]
  },
  {
   "cell_type": "code",
   "execution_count": 4,
   "id": "3fd6540b",
   "metadata": {},
   "outputs": [
    {
     "name": "stdout",
     "output_type": "stream",
     "text": [
      "The (0, 1, 2) indexed element of a is: 6\n",
      "The (2, 1, 0) indexed element of a is: 24\n",
      "True\n",
      "[ True  True  True]\n",
      "[[False False  True]\n",
      " [False False False]\n",
      " [False False False]]\n"
     ]
    }
   ],
   "source": [
    "a = np.array([[[1, 2, 3], [4, 5, 6], [7, 8, 9]],\n",
    "              [[11, 12, 13], [14, 15, 16], [17, 18, 19]],\n",
    "              [[21, 22, 23], [24, 25, 26], [27, 28, 29]]]) # 3D array\n",
    "\n",
    "print(\"The (0, 1, 2) indexed element of a is:\", a[0, 1, 2]) # Indexing a 3D array\n",
    "print(\"The (2, 1, 0) indexed element of a is:\", a[2, 1, 0]) # Indexing a 3D array\n",
    "\n",
    "print(a[1, 0, 2] == a[1][0][2]) # Checking if both are same, another way of indexing\n",
    "print(a[1, 0] == a[1][0]) # Checking if both are same, another way of indexing\n",
    "print(a[1] == a[1][0][2]) # Checking if both are same, another way of indexing\n",
    "# For the 2nd and 3rd case it is checking element wise equality for both the arrays"
   ]
  },
  {
   "cell_type": "code",
   "execution_count": 5,
   "id": "7f9e6188",
   "metadata": {},
   "outputs": [
    {
     "name": "stdout",
     "output_type": "stream",
     "text": [
      "The slicing of b from 3rd index to 7th index is: [4 5 6 7 8]\n",
      "\n",
      "The slicing of a from 3rd index to 7th index is:\n",
      " []\n",
      "\n",
      "The slicing of b from 0th index to 2nd index is:\n",
      " [[[ 1  2  3]\n",
      "  [ 4  5  6]\n",
      "  [ 7  8  9]]\n",
      "\n",
      " [[11 12 13]\n",
      "  [14 15 16]\n",
      "  [17 18 19]]]\n"
     ]
    }
   ],
   "source": [
    "a = np.array([[[1, 2, 3], [4, 5, 6], [7, 8, 9]],\n",
    "              [[11, 12, 13], [14, 15, 16], [17, 18, 19]],\n",
    "              [[21, 22, 23], [24, 25, 26], [27, 28, 29]]]) # 3D array\n",
    "b = np.array([1, 2, 3, 4, 5, 6, 7, 8, 9]) # 1D array\n",
    "print(\"The slicing of b from 3rd index to 7th index is:\", b[3:8])\n",
    "print(\"\\nThe slicing of a from 3rd index to 7th index is:\\n\", a[3:8]) # Since the index are empty\n",
    "print(\"\\nThe slicing of b from 0th index to 2nd index is:\\n\", a[0:2])"
   ]
  },
  {
   "cell_type": "code",
   "execution_count": 6,
   "id": "5b0a2442",
   "metadata": {},
   "outputs": [
    {
     "name": "stdout",
     "output_type": "stream",
     "text": [
      "a[1:] =\n",
      " [[[11 12 13]\n",
      "  [14 15 16]\n",
      "  [17 18 19]]\n",
      "\n",
      " [[21 22 23]\n",
      "  [24 25 26]\n",
      "  [27 28 29]]]\n",
      "\n",
      "a[:2] =\n",
      " [[[ 1  2  3]\n",
      "  [ 4  5  6]\n",
      "  [ 7  8  9]]\n",
      "\n",
      " [[11 12 13]\n",
      "  [14 15 16]\n",
      "  [17 18 19]]]\n",
      "\n",
      "a[1:, 1:] =\n",
      " [[[14 15 16]\n",
      "  [17 18 19]]\n",
      "\n",
      " [[24 25 26]\n",
      "  [27 28 29]]]\n",
      "\n",
      "a[:2, :2] =\n",
      " [[[ 1  2  3]\n",
      "  [ 4  5  6]]\n",
      "\n",
      " [[11 12 13]\n",
      "  [14 15 16]]]\n"
     ]
    }
   ],
   "source": [
    "a = np.array([[[1, 2, 3], [4, 5, 6], [7, 8, 9]],\n",
    "              [[11, 12, 13], [14, 15, 16], [17, 18, 19]],\n",
    "              [[21, 22, 23], [24, 25, 26], [27, 28, 29]]]) # 3D array\n",
    "print(\"a[1:] =\\n\", a[1:]) # Returns every element after and including 1\n",
    "print(\"\\na[:2] =\\n\", a[:2]) # Returns every element before 2 (excluding 2)\n",
    "print(\"\\na[1:, 1:] =\\n\", a[1:, 1:]) # Returns every element after and including [1, 1]\n",
    "print(\"\\na[:2, :2] =\\n\", a[:2, :2]) # Returns every element before [2, 2] (excluding [2, 2])"
   ]
  },
  {
   "cell_type": "code",
   "execution_count": 7,
   "id": "6ddc9e49",
   "metadata": {},
   "outputs": [
    {
     "data": {
      "text/plain": [
       "array([[ True,  True,  True],\n",
       "       [ True,  True,  True]])"
      ]
     },
     "execution_count": 7,
     "metadata": {},
     "output_type": "execute_result"
    }
   ],
   "source": [
    "a = np.array([[[1, 2, 3], [4, 5, 6], [7, 8, 9]],\n",
    "              [[11, 12, 13], [14, 15, 16], [17, 18, 19]],\n",
    "              [[21, 22, 23], [24, 25, 26], [27, 28, 29]]]) # 3D array\n",
    "\n",
    "a[0:2, -1] == a[0:2, 2] # Checking if both are same, index(n-k) = index(-k), here k=1, n=3"
   ]
  },
  {
   "cell_type": "code",
   "execution_count": 8,
   "id": "a08a577e",
   "metadata": {},
   "outputs": [
    {
     "name": "stdout",
     "output_type": "stream",
     "text": [
      "a[0:2] =\n",
      " [[[ 1  2  3]\n",
      "  [ 4  5  6]\n",
      "  [ 7  8  9]]\n",
      "\n",
      " [[11 12 13]\n",
      "  [14 15 16]\n",
      "  [17 18 19]]]\n",
      "\n",
      "a[1:3] =\n",
      " [[[11 12 13]\n",
      "  [14 15 16]\n",
      "  [17 18 19]]\n",
      "\n",
      " [[21 22 23]\n",
      "  [24 25 26]\n",
      "  [27 28 29]]]\n",
      "\n",
      "Sum of the above array slices is:\n",
      " [[[12 14 16]\n",
      "  [18 20 22]\n",
      "  [24 26 28]]\n",
      "\n",
      " [[32 34 36]\n",
      "  [38 40 42]\n",
      "  [44 46 48]]]\n",
      "\n",
      "Let's divide the array sum by 2:\n",
      " [[[ 6.  7.  8.]\n",
      "  [ 9. 10. 11.]\n",
      "  [12. 13. 14.]]\n",
      "\n",
      " [[16. 17. 18.]\n",
      "  [19. 20. 21.]\n",
      "  [22. 23. 24.]]]\n",
      "\n",
      "Let's divide the array sum by 8:\n",
      " [[[1.5  1.75 2.  ]\n",
      "  [2.25 2.5  2.75]\n",
      "  [3.   3.25 3.5 ]]\n",
      "\n",
      " [[4.   4.25 4.5 ]\n",
      "  [4.75 5.   5.25]\n",
      "  [5.5  5.75 6.  ]]]\n",
      "\n",
      "Let's now convert the final array into integer array:\n"
     ]
    },
    {
     "data": {
      "text/plain": [
       "array([[[1, 1, 2],\n",
       "        [2, 2, 2],\n",
       "        [3, 3, 3]],\n",
       "\n",
       "       [[4, 4, 4],\n",
       "        [4, 5, 5],\n",
       "        [5, 5, 6]]])"
      ]
     },
     "execution_count": 8,
     "metadata": {},
     "output_type": "execute_result"
    }
   ],
   "source": [
    "a = np.array([[[1, 2, 3], [4, 5, 6], [7, 8, 9]],\n",
    "              [[11, 12, 13], [14, 15, 16], [17, 18, 19]],\n",
    "              [[21, 22, 23], [24, 25, 26], [27, 28, 29]]]) # 3D array\n",
    "\n",
    "print(\"a[0:2] =\\n\", a[0:2])\n",
    "print(\"\\na[1:3] =\\n\", a[1:3])\n",
    "print(\"\\nSum of the above array slices is:\\n\", a[0:2]+a[1:3])\n",
    "print(\"\\nLet's divide the array sum by 2:\\n\", (a[0:2]+a[1:3])/2) # Note there is float value now\n",
    "print(\"\\nLet's divide the array sum by 8:\\n\", (a[0:2]+a[1:3])/8) # The float is clear now\n",
    "print(\"\\nLet's now convert the final array into integer array:\")\n",
    "np.array((a[0:2]+a[1:3])/8, dtype = np.int64)"
   ]
  },
  {
   "cell_type": "code",
   "execution_count": null,
   "id": "3d1125ec",
   "metadata": {},
   "outputs": [],
   "source": []
  }
 ],
 "metadata": {
  "kernelspec": {
   "display_name": "test_env",
   "language": "python",
   "name": "python3"
  },
  "language_info": {
   "codemirror_mode": {
    "name": "ipython",
    "version": 3
   },
   "file_extension": ".py",
   "mimetype": "text/x-python",
   "name": "python",
   "nbconvert_exporter": "python",
   "pygments_lexer": "ipython3",
   "version": "3.13.5"
  }
 },
 "nbformat": 4,
 "nbformat_minor": 5
}
