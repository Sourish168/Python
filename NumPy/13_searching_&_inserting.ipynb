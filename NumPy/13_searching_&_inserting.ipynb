{
  "cells": [
    {
      "cell_type": "markdown",
      "metadata": {
        "colab_type": "text",
        "id": "view-in-github"
      },
      "source": [
        "<a href=\"https://colab.research.google.com/github/Sourish168/Python/blob/main/NumPy/NumPy_Tutorial.ipynb\" target=\"_parent\"><img src=\"https://colab.research.google.com/assets/colab-badge.svg\" alt=\"Open In Colab\"/></a>"
      ]
    },
    {
      "cell_type": "markdown",
      "metadata": {
        "id": "9wQSutLvpmrz"
      },
      "source": [
        "## Searching and Inserting an Element in NumPy Array\n",
        "- After finding the value in the array the function returns the index of the value in the array.\n",
        "- For this inserting method the array should be sorted. Since it performs a Binary search to the array and then inserts the element."
      ]
    },
    {
      "cell_type": "code",
      "execution_count": 1,
      "metadata": {
        "colab": {
          "base_uri": "https://localhost:8080/"
        },
        "id": "HGgnaR1opDoR",
        "outputId": "3719c419-1909-4f4d-b32a-537625f377d3"
      },
      "outputs": [
        {
          "data": {
            "text/plain": [
              "array([1, 1, 4, 2, 1, 3, 3, 2, 0, 3, 4, 7])"
            ]
          },
          "execution_count": 1,
          "metadata": {},
          "output_type": "execute_result"
        }
      ],
      "source": [
        "import numpy as np\n",
        "np.random.seed(24)\n",
        "a = np.random.randint(0, 10, 12)\n",
        "np.random.shuffle(a)\n",
        "a"
      ]
    },
    {
      "cell_type": "code",
      "execution_count": 2,
      "metadata": {
        "colab": {
          "base_uri": "https://localhost:8080/"
        },
        "id": "1tPxT-FyqcXH",
        "outputId": "b14d0fb3-739b-4a56-d98a-1c01cf1c3c96"
      },
      "outputs": [
        {
          "data": {
            "text/plain": [
              "(array([5, 6, 9]),)"
            ]
          },
          "execution_count": 2,
          "metadata": {},
          "output_type": "execute_result"
        }
      ],
      "source": [
        "x = np.where(a == 3) # Returns the index of the value\n",
        "x"
      ]
    },
    {
      "cell_type": "code",
      "execution_count": 3,
      "metadata": {
        "colab": {
          "base_uri": "https://localhost:8080/"
        },
        "id": "08MOHuoSrj-V",
        "outputId": "b639d4fb-67b6-4c1c-8b85-74518b027b94"
      },
      "outputs": [
        {
          "data": {
            "text/plain": [
              "array([3, 3, 3])"
            ]
          },
          "execution_count": 3,
          "metadata": {},
          "output_type": "execute_result"
        }
      ],
      "source": [
        "a[x] # Returns the value of the index"
      ]
    },
    {
      "cell_type": "code",
      "execution_count": 4,
      "metadata": {
        "colab": {
          "base_uri": "https://localhost:8080/"
        },
        "id": "6YvlN6CPrs3T",
        "outputId": "1410b03d-9c78-4e0e-d6d1-e8378e0284f7"
      },
      "outputs": [
        {
          "data": {
            "text/plain": [
              "array([[[1, 1],\n",
              "        [4, 2],\n",
              "        [1, 3]],\n",
              "\n",
              "       [[3, 2],\n",
              "        [0, 3],\n",
              "        [4, 7]]])"
            ]
          },
          "execution_count": 4,
          "metadata": {},
          "output_type": "execute_result"
        }
      ],
      "source": [
        "a = a.reshape((2, 3, 2))\n",
        "a"
      ]
    },
    {
      "cell_type": "code",
      "execution_count": 5,
      "metadata": {
        "colab": {
          "base_uri": "https://localhost:8080/"
        },
        "id": "d8ONVeOur2Id",
        "outputId": "0b9308d3-26cd-4271-c35c-e8940b763664"
      },
      "outputs": [
        {
          "data": {
            "text/plain": [
              "(array([0, 1]), array([1, 2]), array([0, 0]))"
            ]
          },
          "execution_count": 5,
          "metadata": {},
          "output_type": "execute_result"
        }
      ],
      "source": [
        "x = np.where(a == 4) # Returns the index of the value\n",
        "x"
      ]
    },
    {
      "cell_type": "code",
      "execution_count": 6,
      "metadata": {
        "colab": {
          "base_uri": "https://localhost:8080/"
        },
        "id": "Zp0hCuzhr6Zw",
        "outputId": "0edabcc1-ba27-476a-b071-83e31744eca1"
      },
      "outputs": [
        {
          "data": {
            "text/plain": [
              "array([4, 4])"
            ]
          },
          "execution_count": 6,
          "metadata": {},
          "output_type": "execute_result"
        }
      ],
      "source": [
        "a[x] # Returns the value of the index"
      ]
    },
    {
      "cell_type": "code",
      "execution_count": 7,
      "metadata": {
        "colab": {
          "base_uri": "https://localhost:8080/"
        },
        "id": "z42p0jLcr_gQ",
        "outputId": "719acd52-e936-4279-90cd-d0a33e77f60b"
      },
      "outputs": [
        {
          "data": {
            "text/plain": [
              "(array([1, 3, 5, 7]),)"
            ]
          },
          "execution_count": 7,
          "metadata": {},
          "output_type": "execute_result"
        }
      ],
      "source": [
        "b = np.arange(1, 9)\n",
        "evens = np.where(b%2 == 0) # Returns the index of the value\n",
        "evens"
      ]
    },
    {
      "cell_type": "code",
      "execution_count": 8,
      "metadata": {
        "colab": {
          "base_uri": "https://localhost:8080/"
        },
        "id": "nftv_goBsvvo",
        "outputId": "dda4ca90-2b02-465a-c314-38cb62838965"
      },
      "outputs": [
        {
          "data": {
            "text/plain": [
              "array([2, 4, 6, 8])"
            ]
          },
          "execution_count": 8,
          "metadata": {},
          "output_type": "execute_result"
        }
      ],
      "source": [
        "b[evens] # Returns the value of the index"
      ]
    },
    {
      "cell_type": "code",
      "execution_count": 9,
      "metadata": {
        "colab": {
          "base_uri": "https://localhost:8080/"
        },
        "id": "q57rmaLDsylk",
        "outputId": "d610aaa4-ba4c-47c9-d7aa-f520c8d0beb7"
      },
      "outputs": [
        {
          "data": {
            "text/plain": [
              "array([0, 1, 4, 4, 5, 9, 9, 9])"
            ]
          },
          "execution_count": 9,
          "metadata": {},
          "output_type": "execute_result"
        }
      ],
      "source": [
        "np.random.seed(16)\n",
        "c = np.random.randint(0, 10, 8)\n",
        "c.sort() # We always have to sort it, else it give us a baseless output\n",
        "c"
      ]
    },
    {
      "cell_type": "code",
      "execution_count": 10,
      "metadata": {
        "colab": {
          "base_uri": "https://localhost:8080/"
        },
        "id": "OxSkh7L8t2LW",
        "outputId": "03117751-9564-4f95-c928-e118f02c91aa"
      },
      "outputs": [
        {
          "data": {
            "text/plain": [
              "np.int64(5)"
            ]
          },
          "execution_count": 10,
          "metadata": {},
          "output_type": "execute_result"
        }
      ],
      "source": [
        "x = 7\n",
        "np.searchsorted(c, x) # Returns the index of the value"
      ]
    },
    {
      "cell_type": "code",
      "execution_count": 11,
      "metadata": {
        "colab": {
          "base_uri": "https://localhost:8080/"
        },
        "id": "jhTw4MlUvGR_",
        "outputId": "73bcab9b-9082-47fd-e875-fa785b307f47"
      },
      "outputs": [
        {
          "data": {
            "text/plain": [
              "array([0, 1, 4, 4, 5, 9, 9, 9])"
            ]
          },
          "execution_count": 11,
          "metadata": {},
          "output_type": "execute_result"
        }
      ],
      "source": [
        "np.insert(c, np.searchsorted(c, x), x) # Inserts the value at the given index\n",
        "c"
      ]
    },
    {
      "cell_type": "code",
      "execution_count": null,
      "metadata": {
        "id": "BozoxT7dwxbb"
      },
      "outputs": [],
      "source": []
    }
  ],
  "metadata": {
    "colab": {
      "authorship_tag": "ABX9TyPzReM2850dK0NipWcEIXE8",
      "collapsed_sections": [
        "UhkjljIV9hrJ",
        "fwi-m3viJla5",
        "1oOx7zjZ9Nqi",
        "Hn_qKcRiD1Jt",
        "hIfHTX8IB20j",
        "IKavqWuFCoNl",
        "3rcTNYw9RxbV",
        "W7kAWcdxXWx8",
        "9PfkooDVZ-KC",
        "I84a44xCPcmT",
        "1VMMSCk5DvC9",
        "Y6N-kfSglj7T",
        "HtXBtOB4sxMW",
        "mEoDH4mes3sC"
      ],
      "include_colab_link": true,
      "provenance": []
    },
    "kernelspec": {
      "display_name": "test_env",
      "language": "python",
      "name": "python3"
    },
    "language_info": {
      "codemirror_mode": {
        "name": "ipython",
        "version": 3
      },
      "file_extension": ".py",
      "mimetype": "text/x-python",
      "name": "python",
      "nbconvert_exporter": "python",
      "pygments_lexer": "ipython3",
      "version": "3.13.5"
    }
  },
  "nbformat": 4,
  "nbformat_minor": 0
}
