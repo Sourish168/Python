{
 "cells": [
  {
   "cell_type": "markdown",
   "id": "59dac812",
   "metadata": {},
   "source": [
    "## NumPy Seed Function\n",
    "- Used for many important purpose where we need to fix our randomly generated array.\n",
    "- The pseudo number generator gives us the same output for a particular seed number."
   ]
  },
  {
   "cell_type": "code",
   "execution_count": 1,
   "id": "76945caa",
   "metadata": {},
   "outputs": [
    {
     "data": {
      "text/plain": [
       "array([ 9, 15, 64, 28, 89, 93, 29,  8, 73,  0])"
      ]
     },
     "execution_count": 1,
     "metadata": {},
     "output_type": "execute_result"
    }
   ],
   "source": [
    "import numpy as np\n",
    "np.random.seed(10)\n",
    "arr = np.random.randint(0, 100, 10)\n",
    "arr # Seed always comes with Random number"
   ]
  },
  {
   "cell_type": "code",
   "execution_count": 2,
   "id": "9026e17e",
   "metadata": {},
   "outputs": [
    {
     "data": {
      "text/plain": [
       "array([ 9, 15, 64, 28, 89, 93, 29,  8, 73,  0])"
      ]
     },
     "execution_count": 2,
     "metadata": {},
     "output_type": "execute_result"
    }
   ],
   "source": [
    "np.random.seed(10)\n",
    "arr = np.random.randint(0, 100, 10)\n",
    "arr # Note the same random number is generated"
   ]
  },
  {
   "cell_type": "code",
   "execution_count": 3,
   "id": "aa2ed3a5",
   "metadata": {},
   "outputs": [
    {
     "data": {
      "text/plain": [
       "array([ 9, 36, 15,  0, 49, 28, 25, 29, 48, 29])"
      ]
     },
     "execution_count": 3,
     "metadata": {},
     "output_type": "execute_result"
    }
   ],
   "source": [
    "np.random.seed(10)\n",
    "arr = np.random.randint(0, 50, 10)\n",
    "arr # Seed is same but the variation in range or dimension can change the array"
   ]
  },
  {
   "cell_type": "code",
   "execution_count": 4,
   "id": "880d075a",
   "metadata": {},
   "outputs": [
    {
     "data": {
      "text/plain": [
       "10"
      ]
     },
     "execution_count": 4,
     "metadata": {},
     "output_type": "execute_result"
    }
   ],
   "source": [
    "arr.size # Checking the size of the array"
   ]
  },
  {
   "cell_type": "code",
   "execution_count": null,
   "id": "3ecb05d1",
   "metadata": {},
   "outputs": [],
   "source": []
  }
 ],
 "metadata": {
  "kernelspec": {
   "display_name": "test_env",
   "language": "python",
   "name": "python3"
  },
  "language_info": {
   "codemirror_mode": {
    "name": "ipython",
    "version": 3
   },
   "file_extension": ".py",
   "mimetype": "text/x-python",
   "name": "python",
   "nbconvert_exporter": "python",
   "pygments_lexer": "ipython3",
   "version": "3.13.5"
  }
 },
 "nbformat": 4,
 "nbformat_minor": 5
}
