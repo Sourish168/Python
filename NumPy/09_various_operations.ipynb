{
 "cells": [
  {
   "cell_type": "markdown",
   "id": "fb159738",
   "metadata": {},
   "source": [
    "## Various Operations on NumPy Array\n",
    "- There are various operations in NumPy  array which are not our usual operations."
   ]
  },
  {
   "cell_type": "code",
   "execution_count": 1,
   "id": "9378d161",
   "metadata": {},
   "outputs": [
    {
     "data": {
      "text/plain": [
       "array([1, 2, 3, 4, 5])"
      ]
     },
     "execution_count": 1,
     "metadata": {},
     "output_type": "execute_result"
    }
   ],
   "source": [
    "import numpy as np\n",
    "a = np.arange(1, 6)\n",
    "a"
   ]
  },
  {
   "cell_type": "code",
   "execution_count": 2,
   "id": "9111278a",
   "metadata": {},
   "outputs": [
    {
     "data": {
      "text/plain": [
       "array([3, 4, 5, 6, 7])"
      ]
     },
     "execution_count": 2,
     "metadata": {},
     "output_type": "execute_result"
    }
   ],
   "source": [
    "a+2 # Adding 2 to each element"
   ]
  },
  {
   "cell_type": "code",
   "execution_count": 3,
   "id": "36970575",
   "metadata": {},
   "outputs": [
    {
     "data": {
      "text/plain": [
       "array([-1,  0,  1,  2,  3])"
      ]
     },
     "execution_count": 3,
     "metadata": {},
     "output_type": "execute_result"
    }
   ],
   "source": [
    "a-2 # Substracting 2 to each element"
   ]
  },
  {
   "cell_type": "code",
   "execution_count": 4,
   "id": "8b9834e9",
   "metadata": {},
   "outputs": [
    {
     "data": {
      "text/plain": [
       "array([ 2,  4,  6,  8, 10])"
      ]
     },
     "execution_count": 4,
     "metadata": {},
     "output_type": "execute_result"
    }
   ],
   "source": [
    "a*2 # Multiplying 2 to each element"
   ]
  },
  {
   "cell_type": "code",
   "execution_count": 5,
   "id": "4f795ed3",
   "metadata": {},
   "outputs": [
    {
     "data": {
      "text/plain": [
       "array([0.5, 1. , 1.5, 2. , 2.5])"
      ]
     },
     "execution_count": 5,
     "metadata": {},
     "output_type": "execute_result"
    }
   ],
   "source": [
    "a/2 # Dividing 2 to each element"
   ]
  },
  {
   "cell_type": "code",
   "execution_count": 6,
   "id": "489858b9",
   "metadata": {},
   "outputs": [
    {
     "data": {
      "text/plain": [
       "array([0, 1, 1, 2, 2])"
      ]
     },
     "execution_count": 6,
     "metadata": {},
     "output_type": "execute_result"
    }
   ],
   "source": [
    "a//2 # Integer Dividing 2 to each element"
   ]
  },
  {
   "cell_type": "code",
   "execution_count": 7,
   "id": "902c41a8",
   "metadata": {},
   "outputs": [
    {
     "data": {
      "text/plain": [
       "array([ 1,  4,  9, 16, 25])"
      ]
     },
     "execution_count": 7,
     "metadata": {},
     "output_type": "execute_result"
    }
   ],
   "source": [
    "a**2 # Powering 2 to each element"
   ]
  },
  {
   "cell_type": "code",
   "execution_count": 8,
   "id": "0286e8d8",
   "metadata": {},
   "outputs": [
    {
     "data": {
      "text/plain": [
       "array([1, 0, 1, 0, 1])"
      ]
     },
     "execution_count": 8,
     "metadata": {},
     "output_type": "execute_result"
    }
   ],
   "source": [
    "a%2 # Modulus Dividing 2 to each element"
   ]
  },
  {
   "cell_type": "code",
   "execution_count": 9,
   "id": "70b8bdd6",
   "metadata": {},
   "outputs": [
    {
     "name": "stderr",
     "output_type": "stream",
     "text": [
      "/var/folders/tl/hdrnf2y12_dfs7brk68x42yc0000gn/T/ipykernel_4828/1984730862.py:1: RuntimeWarning: divide by zero encountered in divide\n",
      "  a/0 # Dividing 0 to each element, giving \"inf\" i.e. infinite as output\n"
     ]
    },
    {
     "data": {
      "text/plain": [
       "array([inf, inf, inf, inf, inf])"
      ]
     },
     "execution_count": 9,
     "metadata": {},
     "output_type": "execute_result"
    }
   ],
   "source": [
    "a/0 # Dividing 0 to each element, giving \"inf\" i.e. infinite as output"
   ]
  },
  {
   "cell_type": "code",
   "execution_count": 10,
   "id": "df19a989",
   "metadata": {},
   "outputs": [
    {
     "name": "stdout",
     "output_type": "stream",
     "text": [
      "a = [1 2 3 4 5]\n",
      "\n",
      "b = [0 1 2 3 4]\n"
     ]
    }
   ],
   "source": [
    "b = np.arange(0, 5)\n",
    "print(\"a =\", a)\n",
    "print(\"\\nb =\", b)"
   ]
  },
  {
   "cell_type": "code",
   "execution_count": 11,
   "id": "e8138a12",
   "metadata": {},
   "outputs": [
    {
     "data": {
      "text/plain": [
       "array([1, 3, 5, 7, 9])"
      ]
     },
     "execution_count": 11,
     "metadata": {},
     "output_type": "execute_result"
    }
   ],
   "source": [
    "a+b # Addition of two arrays, elementwise addition"
   ]
  },
  {
   "cell_type": "code",
   "execution_count": 12,
   "id": "88b45245",
   "metadata": {},
   "outputs": [
    {
     "data": {
      "text/plain": [
       "array([1, 1, 1, 1, 1])"
      ]
     },
     "execution_count": 12,
     "metadata": {},
     "output_type": "execute_result"
    }
   ],
   "source": [
    "a-b # Substraction of two arrays, elementwise substraction"
   ]
  },
  {
   "cell_type": "code",
   "execution_count": 13,
   "id": "8361e582",
   "metadata": {},
   "outputs": [
    {
     "data": {
      "text/plain": [
       "array([ 0,  2,  6, 12, 20])"
      ]
     },
     "execution_count": 13,
     "metadata": {},
     "output_type": "execute_result"
    }
   ],
   "source": [
    "a*b # Multiplication of two arrays, elementwise multiplication"
   ]
  },
  {
   "cell_type": "code",
   "execution_count": 14,
   "id": "8f3b8d1a",
   "metadata": {},
   "outputs": [
    {
     "name": "stderr",
     "output_type": "stream",
     "text": [
      "/var/folders/tl/hdrnf2y12_dfs7brk68x42yc0000gn/T/ipykernel_4828/3578863175.py:1: RuntimeWarning: divide by zero encountered in divide\n",
      "  a/b # Division of two arrays, elementwise division\n"
     ]
    },
    {
     "data": {
      "text/plain": [
       "array([       inf, 2.        , 1.5       , 1.33333333, 1.25      ])"
      ]
     },
     "execution_count": 14,
     "metadata": {},
     "output_type": "execute_result"
    }
   ],
   "source": [
    "a/b # Division of two arrays, elementwise division"
   ]
  },
  {
   "cell_type": "code",
   "execution_count": 15,
   "id": "faa82c69",
   "metadata": {},
   "outputs": [
    {
     "data": {
      "text/plain": [
       "array([  1,   2,   9,  64, 625])"
      ]
     },
     "execution_count": 15,
     "metadata": {},
     "output_type": "execute_result"
    }
   ],
   "source": [
    "a**b # Powering of two arrays, elementwise powering"
   ]
  },
  {
   "cell_type": "code",
   "execution_count": 16,
   "id": "a71307ce",
   "metadata": {},
   "outputs": [
    {
     "name": "stderr",
     "output_type": "stream",
     "text": [
      "/var/folders/tl/hdrnf2y12_dfs7brk68x42yc0000gn/T/ipykernel_4828/2372629425.py:1: RuntimeWarning: divide by zero encountered in remainder\n",
      "  a%b # Modulus of two arrays, elementwise modulus, carefully look the output\n"
     ]
    },
    {
     "data": {
      "text/plain": [
       "array([0, 0, 1, 1, 1])"
      ]
     },
     "execution_count": 16,
     "metadata": {},
     "output_type": "execute_result"
    }
   ],
   "source": [
    "a%b # Modulus of two arrays, elementwise modulus, carefully look the output"
   ]
  },
  {
   "cell_type": "code",
   "execution_count": 17,
   "id": "65629d10",
   "metadata": {},
   "outputs": [
    {
     "name": "stderr",
     "output_type": "stream",
     "text": [
      "/var/folders/tl/hdrnf2y12_dfs7brk68x42yc0000gn/T/ipykernel_4828/1331603338.py:1: RuntimeWarning: divide by zero encountered in floor_divide\n",
      "  a//b # Integer Division of two arrays, elementwise integer division, look the output carefully\n"
     ]
    },
    {
     "data": {
      "text/plain": [
       "array([0, 2, 1, 1, 1])"
      ]
     },
     "execution_count": 17,
     "metadata": {},
     "output_type": "execute_result"
    }
   ],
   "source": [
    "a//b # Integer Division of two arrays, elementwise integer division, look the output carefully"
   ]
  },
  {
   "cell_type": "code",
   "execution_count": 18,
   "id": "f045296f",
   "metadata": {},
   "outputs": [
    {
     "name": "stdout",
     "output_type": "stream",
     "text": [
      "a =\n",
      " [[1 2]\n",
      " [3 4]]\n",
      "\n",
      "b =\n",
      " [[5 6]\n",
      " [7 8]]\n"
     ]
    }
   ],
   "source": [
    "a = np.array([1, 2, 3, 4]).reshape(2, 2)\n",
    "print(\"a =\\n\", a)\n",
    "b = np.array([5, 6, 7, 8]).reshape(2, 2)\n",
    "print(\"\\nb =\\n\", b)"
   ]
  },
  {
   "cell_type": "code",
   "execution_count": 19,
   "id": "ad73623e",
   "metadata": {},
   "outputs": [
    {
     "data": {
      "text/plain": [
       "array([[ 5, 12],\n",
       "       [21, 32]])"
      ]
     },
     "execution_count": 19,
     "metadata": {},
     "output_type": "execute_result"
    }
   ],
   "source": [
    "a*b # Elementwise multiplication"
   ]
  },
  {
   "cell_type": "code",
   "execution_count": 20,
   "id": "f00ceee5",
   "metadata": {},
   "outputs": [
    {
     "data": {
      "text/plain": [
       "array([[19, 22],\n",
       "       [43, 50]])"
      ]
     },
     "execution_count": 20,
     "metadata": {},
     "output_type": "execute_result"
    }
   ],
   "source": [
    "a.dot(b) # Matrix Multiplication i.e. ab"
   ]
  },
  {
   "cell_type": "code",
   "execution_count": null,
   "id": "01a3bf4d",
   "metadata": {},
   "outputs": [],
   "source": []
  }
 ],
 "metadata": {
  "kernelspec": {
   "display_name": "test_env",
   "language": "python",
   "name": "python3"
  },
  "language_info": {
   "codemirror_mode": {
    "name": "ipython",
    "version": 3
   },
   "file_extension": ".py",
   "mimetype": "text/x-python",
   "name": "python",
   "nbconvert_exporter": "python",
   "pygments_lexer": "ipython3",
   "version": "3.13.5"
  }
 },
 "nbformat": 4,
 "nbformat_minor": 5
}
