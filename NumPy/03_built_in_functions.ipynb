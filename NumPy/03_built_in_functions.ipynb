{
 "cells": [
  {
   "cell_type": "markdown",
   "id": "6ce93e05",
   "metadata": {},
   "source": [
    "## NumPy Built-in Functions\n",
    "- Special Functions, that can easily implemented by NumPy.\n",
    "- E.g. numpy.zeros, numpy.ones, numpy.eye, numpy.random etc."
   ]
  },
  {
   "cell_type": "code",
   "execution_count": 1,
   "id": "bef1e654",
   "metadata": {},
   "outputs": [
    {
     "name": "stdout",
     "output_type": "stream",
     "text": [
      "Array a:\n",
      " [0. 0. 0. 0.]\n",
      "\n",
      "Array b:\n",
      " [[0. 0. 0. 0.]\n",
      " [0. 0. 0. 0.]\n",
      " [0. 0. 0. 0.]]\n",
      "\n",
      "Array c:\n",
      " [[[0. 0.]\n",
      "  [0. 0.]\n",
      "  [0. 0.]\n",
      "  [0. 0.]]\n",
      "\n",
      " [[0. 0.]\n",
      "  [0. 0.]\n",
      "  [0. 0.]\n",
      "  [0. 0.]]\n",
      "\n",
      " [[0. 0.]\n",
      "  [0. 0.]\n",
      "  [0. 0.]\n",
      "  [0. 0.]]]\n"
     ]
    }
   ],
   "source": [
    "import numpy as np\n",
    "a = np.zeros(4) # Creating an one dimensional array of zeros\n",
    "b = np.zeros((3, 4)) # Creating a two dimensional array of zeros\n",
    "c = np.zeros((3, 4, 2)) # Creating a three dimensional array of zeros\n",
    "print(\"Array a:\\n\", a)\n",
    "print(\"\\nArray b:\\n\", b)\n",
    "print(\"\\nArray c:\\n\", c)"
   ]
  },
  {
   "cell_type": "code",
   "execution_count": 2,
   "id": "d66f589b",
   "metadata": {},
   "outputs": [
    {
     "name": "stdout",
     "output_type": "stream",
     "text": [
      "Array a:\n",
      " [1. 1. 1. 1.]\n",
      "\n",
      "Array b:\n",
      " [[1. 1. 1. 1.]\n",
      " [1. 1. 1. 1.]\n",
      " [1. 1. 1. 1.]]\n",
      "\n",
      "Array c:\n",
      " [[[1. 1.]\n",
      "  [1. 1.]\n",
      "  [1. 1.]\n",
      "  [1. 1.]]\n",
      "\n",
      " [[1. 1.]\n",
      "  [1. 1.]\n",
      "  [1. 1.]\n",
      "  [1. 1.]]\n",
      "\n",
      " [[1. 1.]\n",
      "  [1. 1.]\n",
      "  [1. 1.]\n",
      "  [1. 1.]]]\n"
     ]
    }
   ],
   "source": [
    "a = np.ones(4) # Creating an one dimensional array of ones\n",
    "b = np.ones((3, 4)) # Creating a two dimensional array of ones\n",
    "c = np.ones((3, 4, 2)) # Creating a three dimensional array of ones\n",
    "print(\"Array a:\\n\", a)\n",
    "print(\"\\nArray b:\\n\", b)\n",
    "print(\"\\nArray c:\\n\", c)"
   ]
  },
  {
   "cell_type": "code",
   "execution_count": 3,
   "id": "def6ce35",
   "metadata": {},
   "outputs": [
    {
     "name": "stdout",
     "output_type": "stream",
     "text": [
      "Array a:\n",
      " [[1. 0. 0.]\n",
      " [0. 1. 0.]\n",
      " [0. 0. 1.]]\n",
      "\n",
      "Array b:\n",
      " [[1. 0. 0. 0.]\n",
      " [0. 1. 0. 0.]\n",
      " [0. 0. 1. 0.]]\n",
      "\n",
      "Array c:\n",
      " [[0. 1. 0. 0.]\n",
      " [0. 0. 1. 0.]\n",
      " [0. 0. 0. 1.]]\n"
     ]
    }
   ],
   "source": [
    "a = np.eye(3) # Creating an identity matrix\n",
    "b = np.eye(3, 4) # Creating a matrix with ones on the diagonal\n",
    "c = np.eye(3, 4, 1) # Creating a matrix with ones on the diagonal with a shift of 1\n",
    "print(\"Array a:\\n\", a)\n",
    "print(\"\\nArray b:\\n\", b)\n",
    "print(\"\\nArray c:\\n\", c)"
   ]
  },
  {
   "cell_type": "code",
   "execution_count": 4,
   "id": "7ddfeeb8",
   "metadata": {},
   "outputs": [
    {
     "name": "stdout",
     "output_type": "stream",
     "text": [
      "Array a:\n",
      " [[1 0 0 0]\n",
      " [0 2 0 0]\n",
      " [0 0 3 0]\n",
      " [0 0 0 4]]\n",
      "\n",
      "Array b:\n",
      " [1 2 3 4]\n",
      "\n",
      "Array c:\n",
      " [0 0 0]\n"
     ]
    }
   ],
   "source": [
    "a = np.diag([1, 2, 3, 4]) # Creating a diagonal matrix\n",
    "b = np.diag(a) # Extracting the diagonal elements of a matrix\n",
    "c = np.diag(a, 1) # Extracting the diagonal elements of a matrix with a shift of 1\n",
    "print(\"Array a:\\n\", a)\n",
    "print(\"\\nArray b:\\n\", b)\n",
    "print(\"\\nArray c:\\n\", c)"
   ]
  },
  {
   "cell_type": "code",
   "execution_count": 5,
   "id": "4c398ac3",
   "metadata": {},
   "outputs": [
    {
     "name": "stdout",
     "output_type": "stream",
     "text": [
      "Array a:\n",
      " [9 1 3]\n",
      "\n",
      "Array b:\n",
      " [[4 8 7 2]\n",
      " [7 4 8 6]\n",
      " [5 8 6 4]]\n"
     ]
    }
   ],
   "source": [
    "a = np.random.randint(1, 10, 3) # Creating an array of random integers\n",
    "print(\"Array a:\\n\", a) # Generating 3 random integers from [1, 10)\n",
    "b = np.random.randint(1, 10, (3, 4)) # Creating a 2D array of random integers\n",
    "print(\"\\nArray b:\\n\", b) # Generating 3x4 random integers from [1, 10)"
   ]
  },
  {
   "cell_type": "code",
   "execution_count": 6,
   "id": "eae6e3aa",
   "metadata": {},
   "outputs": [
    {
     "name": "stdout",
     "output_type": "stream",
     "text": [
      "Array a:\n",
      " [0.19352342 0.86609126 0.83663857 0.24512949 0.35117626]\n",
      "\n",
      "Array b:\n",
      " [[0.98397677 0.28575315 0.30274071]\n",
      " [0.51678141 0.80579931 0.47502927]]\n"
     ]
    }
   ],
   "source": [
    "a = np.random.rand(5) # Creating an array of random floats\n",
    "print(\"Array a:\\n\", a) # Generating 5 random floats from [0, 1)\n",
    "b = np.random.rand(2, 3) # Creating a 2D array of random floats\n",
    "print(\"\\nArray b:\\n\", b) # Generating 2x3 random floats from [0, 1)"
   ]
  },
  {
   "cell_type": "code",
   "execution_count": 7,
   "id": "93d44f69",
   "metadata": {},
   "outputs": [
    {
     "name": "stdout",
     "output_type": "stream",
     "text": [
      "Array a:\n",
      " [ 0.08575089 -0.50800939 -0.2529933  -0.87146088  0.05838016]\n",
      "\n",
      "Array b:\n",
      " [[ 0.44061252 -1.17566646 -1.02456364]\n",
      " [ 0.71260893 -0.48998469 -0.19192676]]\n"
     ]
    }
   ],
   "source": [
    "a = np.random.randn(5) # Creating an array of random floats from Normal Distribution\n",
    "print(\"Array a:\\n\", a) # Generating 5 random floats from N(0, 1)\n",
    "b = np.random.randn(2, 3) # Creating a 2D array of random floats from Normal Distribution\n",
    "print(\"\\nArray b:\\n\", b) # Generating 2x3 random floats from N(0, 1)"
   ]
  },
  {
   "cell_type": "code",
   "execution_count": null,
   "id": "38a6c1fe",
   "metadata": {},
   "outputs": [],
   "source": []
  }
 ],
 "metadata": {
  "kernelspec": {
   "display_name": "test_env",
   "language": "python",
   "name": "python3"
  },
  "language_info": {
   "codemirror_mode": {
    "name": "ipython",
    "version": 3
   },
   "file_extension": ".py",
   "mimetype": "text/x-python",
   "name": "python",
   "nbconvert_exporter": "python",
   "pygments_lexer": "ipython3",
   "version": "3.13.5"
  }
 },
 "nbformat": 4,
 "nbformat_minor": 5
}
