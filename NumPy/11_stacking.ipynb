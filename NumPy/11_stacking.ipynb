{
 "cells": [
  {
   "cell_type": "markdown",
   "id": "2dbfb67f",
   "metadata": {},
   "source": [
    "## Stacking in NumPy Arrays\n",
    "- There are mainly two types of stacking in 2D array, i.e. vertical stacking and horizontal stacking."
   ]
  },
  {
   "cell_type": "code",
   "execution_count": 1,
   "id": "f643936e",
   "metadata": {},
   "outputs": [
    {
     "name": "stdout",
     "output_type": "stream",
     "text": [
      "a = [4 4 0 4]\n",
      "\n",
      "b = [8 9 5 9]\n"
     ]
    }
   ],
   "source": [
    "import numpy as np\n",
    "np.random.seed(22)\n",
    "a = np.random.randint(0, 5, 4)\n",
    "b = np.random.randint(5, 10, 4)\n",
    "print(\"a =\", a)\n",
    "print(\"\\nb =\", b)"
   ]
  },
  {
   "cell_type": "code",
   "execution_count": 2,
   "id": "ef80fb93",
   "metadata": {},
   "outputs": [
    {
     "data": {
      "text/plain": [
       "array([4, 4, 0, 4, 8, 9, 5, 9])"
      ]
     },
     "execution_count": 2,
     "metadata": {},
     "output_type": "execute_result"
    }
   ],
   "source": [
    "np.hstack((a, b)) # Horizontal stacking of a and b"
   ]
  },
  {
   "cell_type": "code",
   "execution_count": 3,
   "id": "144e8ac1",
   "metadata": {},
   "outputs": [
    {
     "data": {
      "text/plain": [
       "array([[4, 4, 0, 4],\n",
       "       [8, 9, 5, 9]])"
      ]
     },
     "execution_count": 3,
     "metadata": {},
     "output_type": "execute_result"
    }
   ],
   "source": [
    "np.vstack((a, b)) # Vertical stacking of a and b"
   ]
  },
  {
   "cell_type": "code",
   "execution_count": 4,
   "id": "48ca823d",
   "metadata": {},
   "outputs": [
    {
     "name": "stdout",
     "output_type": "stream",
     "text": [
      "a = [[4 4 0 4]\n",
      " [3 4 0 4]\n",
      " [2 4 0 2]]\n",
      "\n",
      "b = [[7 6 5 5]\n",
      " [8 9 7 7]\n",
      " [6 6 8 8]]\n"
     ]
    }
   ],
   "source": [
    "np.random.seed(22)\n",
    "a = np.random.randint(0, 5, (3, 4))\n",
    "b = np.random.randint(5, 10, (3, 4))\n",
    "print(\"a =\", a)\n",
    "print(\"\\nb =\", b)"
   ]
  },
  {
   "cell_type": "code",
   "execution_count": 5,
   "id": "87b32811",
   "metadata": {},
   "outputs": [
    {
     "data": {
      "text/plain": [
       "array([[4, 4, 0, 4, 7, 6, 5, 5],\n",
       "       [3, 4, 0, 4, 8, 9, 7, 7],\n",
       "       [2, 4, 0, 2, 6, 6, 8, 8]])"
      ]
     },
     "execution_count": 5,
     "metadata": {},
     "output_type": "execute_result"
    }
   ],
   "source": [
    "np.hstack((a, b)) # Horizontal stacking of a and b"
   ]
  },
  {
   "cell_type": "code",
   "execution_count": 6,
   "id": "5a242e9f",
   "metadata": {},
   "outputs": [
    {
     "data": {
      "text/plain": [
       "array([[4, 4, 0, 4],\n",
       "       [3, 4, 0, 4],\n",
       "       [2, 4, 0, 2],\n",
       "       [7, 6, 5, 5],\n",
       "       [8, 9, 7, 7],\n",
       "       [6, 6, 8, 8]])"
      ]
     },
     "execution_count": 6,
     "metadata": {},
     "output_type": "execute_result"
    }
   ],
   "source": [
    "np.vstack((a, b)) # Vertical stacking of a and b"
   ]
  },
  {
   "cell_type": "code",
   "execution_count": null,
   "id": "215a2d1b",
   "metadata": {},
   "outputs": [],
   "source": []
  }
 ],
 "metadata": {
  "kernelspec": {
   "display_name": "test_env",
   "language": "python",
   "name": "python3"
  },
  "language_info": {
   "codemirror_mode": {
    "name": "ipython",
    "version": 3
   },
   "file_extension": ".py",
   "mimetype": "text/x-python",
   "name": "python",
   "nbconvert_exporter": "python",
   "pygments_lexer": "ipython3",
   "version": "3.13.5"
  }
 },
 "nbformat": 4,
 "nbformat_minor": 5
}
