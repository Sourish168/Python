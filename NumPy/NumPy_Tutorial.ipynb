{
  "nbformat": 4,
  "nbformat_minor": 0,
  "metadata": {
    "colab": {
      "provenance": [],
      "authorship_tag": "ABX9TyMD8ZUAxY/1o0cKEFLFc3gl",
      "include_colab_link": true
    },
    "kernelspec": {
      "name": "python3",
      "display_name": "Python 3"
    },
    "language_info": {
      "name": "python"
    }
  },
  "cells": [
    {
      "cell_type": "markdown",
      "metadata": {
        "id": "view-in-github",
        "colab_type": "text"
      },
      "source": [
        "<a href=\"https://colab.research.google.com/github/Sourish168/Python/blob/main/NumPy/NumPy_Tutorial.ipynb\" target=\"_parent\"><img src=\"https://colab.research.google.com/assets/colab-badge.svg\" alt=\"Open In Colab\"/></a>"
      ]
    },
    {
      "cell_type": "markdown",
      "source": [
        "## Introduction to NumPy\n",
        "- <B>NumPy = Num(Numerical) + Py(Python)</B>\n",
        "- Mainly use for Mathematical and Logical calculations on arrays(Vector, Matrix, Tensor, n-dimentional array etc).\n",
        "- NumPy arrays are much more faster than Python Lists. Some reasons for this are \"Array is a collection of similar types of data\", NumPy is associated with C Programming etc.\n",
        "- There are many built-in functions for Linear Algebra and many more scientific calculations in NumPy.\n",
        "- For using all library functions of NumPy we can use the documentation: https://numpy.org/doc/stable/user/basics.html"
      ],
      "metadata": {
        "id": "rAF3SP4p6Fxi"
      }
    },
    {
      "cell_type": "markdown",
      "source": [
        "## Importing NumPy Library"
      ],
      "metadata": {
        "id": "UhkjljIV9hrJ"
      }
    },
    {
      "cell_type": "code",
      "execution_count": null,
      "metadata": {
        "colab": {
          "base_uri": "https://localhost:8080/"
        },
        "id": "bU-EG5dJ59PG",
        "outputId": "b10898dd-b57d-4ed4-cfc6-d833ff23719b"
      },
      "outputs": [
        {
          "output_type": "stream",
          "name": "stdout",
          "text": [
            "Requirement already satisfied: numpy in /usr/local/lib/python3.10/dist-packages (1.26.4)\n"
          ]
        }
      ],
      "source": [
        "!pip install numpy # Installing NumPy Library (Only for Jupyter Command Line)"
      ]
    },
    {
      "cell_type": "code",
      "source": [
        "import numpy as np # Importing NumPy Library for using"
      ],
      "metadata": {
        "id": "v2n6m84b-JQ2"
      },
      "execution_count": null,
      "outputs": []
    },
    {
      "cell_type": "markdown",
      "source": [
        "## Executing Programs in NumPy\n",
        "- There are 2 modes in a Jupyter Notebook cell <B>(i)Command Mode</B> and <B> (ii)Edit Mode.</B>\n",
        "- We can write a code in a cell only in edit mode and after running the code it is in command mode.\n",
        "- We can use <B><I><U>HTML Tags for our markdown cell.</B></I></U>"
      ],
      "metadata": {
        "id": "fwi-m3viJla5"
      }
    },
    {
      "cell_type": "code",
      "source": [
        "import numpy as np\n",
        "a = [1, 2, 3, 5]\n",
        "a"
      ],
      "metadata": {
        "colab": {
          "base_uri": "https://localhost:8080/"
        },
        "id": "eT6d1SAn-aRd",
        "outputId": "b6da5bc6-4cfa-46aa-f5fa-a3daaaa90ad1"
      },
      "execution_count": null,
      "outputs": [
        {
          "output_type": "execute_result",
          "data": {
            "text/plain": [
              "[1, 2, 3, 5]"
            ]
          },
          "metadata": {},
          "execution_count": 3
        }
      ]
    },
    {
      "cell_type": "code",
      "source": [],
      "metadata": {
        "id": "nsJbA9RSK9w-"
      },
      "execution_count": null,
      "outputs": []
    },
    {
      "cell_type": "code",
      "source": [],
      "metadata": {
        "id": "6f_KNAFke2j0"
      },
      "execution_count": null,
      "outputs": []
    }
  ]
}