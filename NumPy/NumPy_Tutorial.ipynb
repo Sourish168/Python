{
  "nbformat": 4,
  "nbformat_minor": 0,
  "metadata": {
    "colab": {
      "provenance": [],
      "authorship_tag": "ABX9TyMzY1BGXIEC3iC3/Q5xmypp",
      "include_colab_link": true
    },
    "kernelspec": {
      "name": "python3",
      "display_name": "Python 3"
    },
    "language_info": {
      "name": "python"
    }
  },
  "cells": [
    {
      "cell_type": "markdown",
      "metadata": {
        "id": "view-in-github",
        "colab_type": "text"
      },
      "source": [
        "<a href=\"https://colab.research.google.com/github/Sourish168/Python/blob/main/NumPy/NumPy_Tutorial.ipynb\" target=\"_parent\"><img src=\"https://colab.research.google.com/assets/colab-badge.svg\" alt=\"Open In Colab\"/></a>"
      ]
    },
    {
      "cell_type": "markdown",
      "source": [
        "## Introduction to NumPy\n",
        "- <B>NumPy = Num(Numerical) + Py(Python)</B>\n",
        "- Mainly use for Mathematical and Logical calculations on arrays(Vector, Matrix, Tensor, n-dimensional array etc).\n",
        "- NumPy arrays are much more faster than Python Lists. Some reasons for this are \"Array is a collection of similar types of data\", NumPy is associated with C Programming etc.\n",
        "- There are many built-in functions for Linear Algebra and many more scientific calculations in NumPy.\n",
        "- For using all library functions of NumPy we can use the documentation: https://numpy.org/doc/stable/user/basics.html"
      ],
      "metadata": {
        "id": "rAF3SP4p6Fxi"
      }
    },
    {
      "cell_type": "markdown",
      "source": [
        "## Importing NumPy Library"
      ],
      "metadata": {
        "id": "UhkjljIV9hrJ"
      }
    },
    {
      "cell_type": "code",
      "execution_count": null,
      "metadata": {
        "colab": {
          "base_uri": "https://localhost:8080/"
        },
        "id": "bU-EG5dJ59PG",
        "outputId": "b10898dd-b57d-4ed4-cfc6-d833ff23719b"
      },
      "outputs": [
        {
          "output_type": "stream",
          "name": "stdout",
          "text": [
            "Requirement already satisfied: numpy in /usr/local/lib/python3.10/dist-packages (1.26.4)\n"
          ]
        }
      ],
      "source": [
        "!pip install numpy # Installing NumPy Library (Only for Jupyter Command Line)"
      ]
    },
    {
      "cell_type": "code",
      "source": [
        "import numpy as np # Importing NumPy Library for using\n",
        "# Using this command we can use \"np\" in place of \"numpy\""
      ],
      "metadata": {
        "id": "v2n6m84b-JQ2"
      },
      "execution_count": null,
      "outputs": []
    },
    {
      "cell_type": "markdown",
      "source": [
        "## Executing Programs in NumPy\n",
        "- There are 2 modes in a Jupyter Notebook cell <B>(i)Command Mode</B> and <B> (ii)Edit Mode.</B>\n",
        "- We can write a code in a cell only in edit mode and after running the code it is in command mode.\n",
        "- We can use <B><I><U>HTML Tags for our markdown cell.</B></I></U>"
      ],
      "metadata": {
        "id": "fwi-m3viJla5"
      }
    },
    {
      "cell_type": "code",
      "source": [
        "import numpy as np\n",
        "a = [1, 2, 3, 5]\n",
        "a"
      ],
      "metadata": {
        "colab": {
          "base_uri": "https://localhost:8080/"
        },
        "id": "eT6d1SAn-aRd",
        "outputId": "b6da5bc6-4cfa-46aa-f5fa-a3daaaa90ad1"
      },
      "execution_count": null,
      "outputs": [
        {
          "output_type": "execute_result",
          "data": {
            "text/plain": [
              "[1, 2, 3, 5]"
            ]
          },
          "metadata": {},
          "execution_count": 3
        }
      ]
    },
    {
      "cell_type": "markdown",
      "source": [
        "## Creating an Array using NumPy\n",
        "- Using NumPy we can create n-dimensional arrays.\n",
        "- We can input the values of the array from the user and make the numpy array."
      ],
      "metadata": {
        "id": "1oOx7zjZ9Nqi"
      }
    },
    {
      "cell_type": "code",
      "source": [
        "import numpy as np\n",
        "a = [1, 2, 3, 4, 5]\n",
        "arr = np.array(a)\n",
        "arr"
      ],
      "metadata": {
        "id": "nsJbA9RSK9w-",
        "colab": {
          "base_uri": "https://localhost:8080/"
        },
        "outputId": "e2ea52bb-ac1b-4f0d-f45e-78e12af381cb"
      },
      "execution_count": 3,
      "outputs": [
        {
          "output_type": "execute_result",
          "data": {
            "text/plain": [
              "array([1, 2, 3, 4, 5])"
            ]
          },
          "metadata": {},
          "execution_count": 3
        }
      ]
    },
    {
      "cell_type": "code",
      "source": [
        "arr = np.array([1, 2, 3, 4, 5])\n",
        "arr"
      ],
      "metadata": {
        "id": "6f_KNAFke2j0",
        "colab": {
          "base_uri": "https://localhost:8080/"
        },
        "outputId": "8e1fb356-9073-4dc8-a595-cd497d242e07"
      },
      "execution_count": 4,
      "outputs": [
        {
          "output_type": "execute_result",
          "data": {
            "text/plain": [
              "array([1, 2, 3, 4, 5])"
            ]
          },
          "metadata": {},
          "execution_count": 4
        }
      ]
    },
    {
      "cell_type": "code",
      "source": [
        "a = []\n",
        "n = int(input(\"Enter the size of an array: \"))\n",
        "for i in range(n):\n",
        "    val = int(input(f\"Enter input number {i+1}: \"))\n",
        "    a.append(val)\n",
        "arr = np.array(a)\n",
        "print(\"\\nThe created array is:\", arr)"
      ],
      "metadata": {
        "colab": {
          "base_uri": "https://localhost:8080/"
        },
        "id": "IEVZwvBaBYze",
        "outputId": "6a511ba1-afdf-4b5a-ed1e-4f70ab3e0124"
      },
      "execution_count": 9,
      "outputs": [
        {
          "output_type": "stream",
          "name": "stdout",
          "text": [
            "Enter the size of an array: 5\n",
            "Enter input number 1: 5\n",
            "Enter input number 2: 4\n",
            "Enter input number 3: 3\n",
            "Enter input number 4: 2\n",
            "Enter input number 5: 9\n",
            "\n",
            "The created array is: [5 4 3 2 9]\n"
          ]
        }
      ]
    },
    {
      "cell_type": "markdown",
      "source": [
        "## Creating Higher Dimensional Arrays using NumPy"
      ],
      "metadata": {
        "id": "Hn_qKcRiD1Jt"
      }
    },
    {
      "cell_type": "code",
      "source": [],
      "metadata": {
        "id": "K6xVbLxmDGck"
      },
      "execution_count": null,
      "outputs": []
    }
  ]
}