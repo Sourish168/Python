{
  "nbformat": 4,
  "nbformat_minor": 0,
  "metadata": {
    "colab": {
      "provenance": [],
      "collapsed_sections": [
        "UhkjljIV9hrJ",
        "fwi-m3viJla5",
        "1oOx7zjZ9Nqi",
        "Hn_qKcRiD1Jt",
        "hIfHTX8IB20j",
        "IKavqWuFCoNl",
        "3rcTNYw9RxbV",
        "W7kAWcdxXWx8",
        "9PfkooDVZ-KC",
        "I84a44xCPcmT",
        "1VMMSCk5DvC9",
        "Y6N-kfSglj7T",
        "HtXBtOB4sxMW",
        "mEoDH4mes3sC"
      ],
      "authorship_tag": "ABX9TyPZhHz8uinLG4pFC+yp/vOu",
      "include_colab_link": true
    },
    "kernelspec": {
      "name": "python3",
      "display_name": "Python 3"
    },
    "language_info": {
      "name": "python"
    }
  },
  "cells": [
    {
      "cell_type": "markdown",
      "metadata": {
        "id": "view-in-github",
        "colab_type": "text"
      },
      "source": [
        "<a href=\"https://colab.research.google.com/github/Sourish168/Python/blob/main/NumPy/NumPy_Tutorial.ipynb\" target=\"_parent\"><img src=\"https://colab.research.google.com/assets/colab-badge.svg\" alt=\"Open In Colab\"/></a>"
      ]
    },
    {
      "cell_type": "markdown",
      "source": [
        "## Introduction to NumPy\n",
        "- <B>NumPy = Num(Numerical) + Py(Python)</B>\n",
        "- Mainly use for Mathematical and Logical calculations on arrays(Vector, Matrix, Tensor, n-dimensional array etc).\n",
        "- NumPy arrays are much more faster than Python Lists. Some reasons for this are \"Array is a collection of similar types of data\", NumPy is associated with C Programming etc.\n",
        "- There are many built-in functions for Linear Algebra and many more scientific calculations in NumPy.\n",
        "- For using all library functions of NumPy we can use the documentation: https://numpy.org/doc/stable/user/basics.html"
      ],
      "metadata": {
        "id": "rAF3SP4p6Fxi"
      }
    },
    {
      "cell_type": "markdown",
      "source": [
        "## Importing NumPy Library"
      ],
      "metadata": {
        "id": "UhkjljIV9hrJ"
      }
    },
    {
      "cell_type": "code",
      "execution_count": null,
      "metadata": {
        "colab": {
          "base_uri": "https://localhost:8080/"
        },
        "id": "bU-EG5dJ59PG",
        "outputId": "dcc606d2-414a-4e96-e7b8-1e435802aa12"
      },
      "outputs": [
        {
          "output_type": "stream",
          "name": "stdout",
          "text": [
            "Requirement already satisfied: numpy in /usr/local/lib/python3.10/dist-packages (1.26.4)\n"
          ]
        }
      ],
      "source": [
        "!pip install numpy # Installing NumPy Library (Only for Jupyter Command Line)"
      ]
    },
    {
      "cell_type": "code",
      "source": [
        "import numpy as np # Importing NumPy Library for using\n",
        "# Using this command we can use \"np\" in place of \"numpy\""
      ],
      "metadata": {
        "id": "v2n6m84b-JQ2"
      },
      "execution_count": null,
      "outputs": []
    },
    {
      "cell_type": "markdown",
      "source": [
        "## Executing Programs in NumPy\n",
        "- There are 2 modes in a Jupyter Notebook cell <B>(i)Command Mode</B> and <B> (ii)Edit Mode.</B>\n",
        "- We can write a code in a cell only in edit mode and after running the code it is in command mode.\n",
        "- We can use <B><I><U>HTML Tags for our markdown cell.</B></I></U>"
      ],
      "metadata": {
        "id": "fwi-m3viJla5"
      }
    },
    {
      "cell_type": "code",
      "source": [
        "import numpy as np\n",
        "a = [1, 2, 3, 5]\n",
        "a"
      ],
      "metadata": {
        "colab": {
          "base_uri": "https://localhost:8080/"
        },
        "id": "eT6d1SAn-aRd",
        "outputId": "b44d00e7-3a70-41f3-8305-c07c7cc76dcc"
      },
      "execution_count": null,
      "outputs": [
        {
          "output_type": "execute_result",
          "data": {
            "text/plain": [
              "[1, 2, 3, 5]"
            ]
          },
          "metadata": {},
          "execution_count": 3
        }
      ]
    },
    {
      "cell_type": "markdown",
      "source": [
        "## Creating an Array using NumPy\n",
        "- Using NumPy we can create n-dimensional arrays.\n",
        "- We can input the values of the array from the user and make the numpy array."
      ],
      "metadata": {
        "id": "1oOx7zjZ9Nqi"
      }
    },
    {
      "cell_type": "code",
      "source": [
        "import numpy as np\n",
        "a = [1, 2, 3, 4, 5]\n",
        "arr = np.array(a)\n",
        "arr"
      ],
      "metadata": {
        "id": "nsJbA9RSK9w-",
        "colab": {
          "base_uri": "https://localhost:8080/"
        },
        "outputId": "0df45232-3ea4-4def-f9bb-defdb77c645e"
      },
      "execution_count": null,
      "outputs": [
        {
          "output_type": "execute_result",
          "data": {
            "text/plain": [
              "array([1, 2, 3, 4, 5])"
            ]
          },
          "metadata": {},
          "execution_count": 4
        }
      ]
    },
    {
      "cell_type": "code",
      "source": [
        "arr = np.array([1, 2, 3, 4, 5])\n",
        "arr"
      ],
      "metadata": {
        "id": "6f_KNAFke2j0",
        "colab": {
          "base_uri": "https://localhost:8080/"
        },
        "outputId": "d6f07b00-8e73-4478-d1ac-b5d3dd94ee19"
      },
      "execution_count": null,
      "outputs": [
        {
          "output_type": "execute_result",
          "data": {
            "text/plain": [
              "array([1, 2, 3, 4, 5])"
            ]
          },
          "metadata": {},
          "execution_count": 5
        }
      ]
    },
    {
      "cell_type": "code",
      "source": [
        "a = []\n",
        "n = int(input(\"Enter the size of an array: \"))\n",
        "for i in range(n):\n",
        "    val = int(input(f\"Enter input number {i+1}: \"))\n",
        "    a.append(val)\n",
        "arr = np.array(a)\n",
        "print(\"\\nThe created array is:\", arr)"
      ],
      "metadata": {
        "colab": {
          "base_uri": "https://localhost:8080/"
        },
        "id": "IEVZwvBaBYze",
        "outputId": "dd5de859-2f5a-4155-a678-8a452d03901a"
      },
      "execution_count": null,
      "outputs": [
        {
          "output_type": "stream",
          "name": "stdout",
          "text": [
            "Enter the size of an array: 5\n",
            "Enter input number 1: 6\n",
            "Enter input number 2: 11\n",
            "Enter input number 3: 5\n",
            "Enter input number 4: 2\n",
            "Enter input number 5: 9\n",
            "\n",
            "The created array is: [ 6 11  5  2  9]\n"
          ]
        }
      ]
    },
    {
      "cell_type": "markdown",
      "source": [
        "## Creating Higher Dimensional Arrays using NumPy"
      ],
      "metadata": {
        "id": "Hn_qKcRiD1Jt"
      }
    },
    {
      "cell_type": "code",
      "source": [
        "import numpy as np\n",
        "a = [[1, 2, 3],[4, 5, 6], [7, 8, 9]]\n",
        "arr = np.array(a)\n",
        "arr"
      ],
      "metadata": {
        "colab": {
          "base_uri": "https://localhost:8080/"
        },
        "id": "K6xVbLxmDGck",
        "outputId": "192c2dee-ec25-4dd8-e8e3-6d9864f3d398"
      },
      "execution_count": null,
      "outputs": [
        {
          "output_type": "execute_result",
          "data": {
            "text/plain": [
              "array([[1, 2, 3],\n",
              "       [4, 5, 6],\n",
              "       [7, 8, 9]])"
            ]
          },
          "metadata": {},
          "execution_count": 7
        }
      ]
    },
    {
      "cell_type": "code",
      "source": [
        "arr.ndim # Checking the dimension of the array"
      ],
      "metadata": {
        "colab": {
          "base_uri": "https://localhost:8080/"
        },
        "id": "FzGO3uxbAZlD",
        "outputId": "48ffa7bd-183d-41af-c763-8ebf801cfb53"
      },
      "execution_count": null,
      "outputs": [
        {
          "output_type": "execute_result",
          "data": {
            "text/plain": [
              "2"
            ]
          },
          "metadata": {},
          "execution_count": 9
        }
      ]
    },
    {
      "cell_type": "code",
      "source": [
        "arr.shape # Checking the shape of the array"
      ],
      "metadata": {
        "colab": {
          "base_uri": "https://localhost:8080/"
        },
        "id": "XLCXri5GAdaL",
        "outputId": "a32ceabb-b30a-42a0-d1e3-834a257b5ac8"
      },
      "execution_count": null,
      "outputs": [
        {
          "output_type": "execute_result",
          "data": {
            "text/plain": [
              "(3, 3)"
            ]
          },
          "metadata": {},
          "execution_count": 14
        }
      ]
    },
    {
      "cell_type": "markdown",
      "source": [
        "## NumPy Built-in Functions\n",
        "- Special Functions, that can easily implemented by NumPy.\n",
        "- E.g. numpy.zeros, numpy.ones, numpy.eye, numpy.random etc."
      ],
      "metadata": {
        "id": "hIfHTX8IB20j"
      }
    },
    {
      "cell_type": "code",
      "source": [
        "import numpy as np\n",
        "a = np.zeros(4) # Creating an one dimensional array of zeros\n",
        "b = np.zeros((3, 4)) # Creating a two dimensional array of zeros\n",
        "c = np.zeros((3, 4, 2)) # Creating a three dimensional array of zeros\n",
        "print(\"Array a:\\n\", a)\n",
        "print(\"\\nArray b:\\n\", b)\n",
        "print(\"\\nArray c:\\n\", c)"
      ],
      "metadata": {
        "id": "QA6GWKC5BjPx",
        "colab": {
          "base_uri": "https://localhost:8080/"
        },
        "outputId": "79bd5f52-32a5-469d-ddb1-73b04d8e2c00"
      },
      "execution_count": null,
      "outputs": [
        {
          "output_type": "stream",
          "name": "stdout",
          "text": [
            "Array a:\n",
            " [0. 0. 0. 0.]\n",
            "\n",
            "Array b:\n",
            " [[0. 0. 0. 0.]\n",
            " [0. 0. 0. 0.]\n",
            " [0. 0. 0. 0.]]\n",
            "\n",
            "Array c:\n",
            " [[[0. 0.]\n",
            "  [0. 0.]\n",
            "  [0. 0.]\n",
            "  [0. 0.]]\n",
            "\n",
            " [[0. 0.]\n",
            "  [0. 0.]\n",
            "  [0. 0.]\n",
            "  [0. 0.]]\n",
            "\n",
            " [[0. 0.]\n",
            "  [0. 0.]\n",
            "  [0. 0.]\n",
            "  [0. 0.]]]\n"
          ]
        }
      ]
    },
    {
      "cell_type": "code",
      "source": [
        "a = np.ones(4) # Creating an one dimensional array of ones\n",
        "b = np.ones((3, 4)) # Creating a two dimensional array of ones\n",
        "c = np.ones((3, 4, 2)) # Creating a three dimensional array of ones\n",
        "print(\"Array a:\\n\", a)\n",
        "print(\"\\nArray b:\\n\", b)\n",
        "print(\"\\nArray c:\\n\", c)"
      ],
      "metadata": {
        "colab": {
          "base_uri": "https://localhost:8080/"
        },
        "id": "QGulbm4fFqOi",
        "outputId": "0f5185d5-7635-4cb3-8b58-fc55255ff849"
      },
      "execution_count": null,
      "outputs": [
        {
          "output_type": "stream",
          "name": "stdout",
          "text": [
            "Array a:\n",
            " [1. 1. 1. 1.]\n",
            "\n",
            "Array b:\n",
            " [[1. 1. 1. 1.]\n",
            " [1. 1. 1. 1.]\n",
            " [1. 1. 1. 1.]]\n",
            "\n",
            "Array c:\n",
            " [[[1. 1.]\n",
            "  [1. 1.]\n",
            "  [1. 1.]\n",
            "  [1. 1.]]\n",
            "\n",
            " [[1. 1.]\n",
            "  [1. 1.]\n",
            "  [1. 1.]\n",
            "  [1. 1.]]\n",
            "\n",
            " [[1. 1.]\n",
            "  [1. 1.]\n",
            "  [1. 1.]\n",
            "  [1. 1.]]]\n"
          ]
        }
      ]
    },
    {
      "cell_type": "code",
      "source": [
        "a = np.eye(3) # Creating an identity matrix\n",
        "b = np.eye(3, 4) # Creating a matrix with ones on the diagonal\n",
        "c = np.eye(3, 4, 1) # Creating a matrix with ones on the diagonal with a shift of 1\n",
        "print(\"Array a:\\n\", a)\n",
        "print(\"\\nArray b:\\n\", b)\n",
        "print(\"\\nArray c:\\n\", c)"
      ],
      "metadata": {
        "colab": {
          "base_uri": "https://localhost:8080/"
        },
        "id": "n9bDw_JwF2ep",
        "outputId": "ee755ff5-877e-4db1-c6f6-63a48a1540b9"
      },
      "execution_count": null,
      "outputs": [
        {
          "output_type": "stream",
          "name": "stdout",
          "text": [
            "Array a:\n",
            " [[1. 0. 0.]\n",
            " [0. 1. 0.]\n",
            " [0. 0. 1.]]\n",
            "\n",
            "Array b:\n",
            " [[1. 0. 0. 0.]\n",
            " [0. 1. 0. 0.]\n",
            " [0. 0. 1. 0.]]\n",
            "\n",
            "Array c:\n",
            " [[0. 1. 0. 0.]\n",
            " [0. 0. 1. 0.]\n",
            " [0. 0. 0. 1.]]\n"
          ]
        }
      ]
    },
    {
      "cell_type": "code",
      "source": [
        "a = np.diag([1, 2, 3, 4]) # Creating a diagonal matrix\n",
        "b = np.diag(a) # Extracting the diagonal elements of a matrix\n",
        "c = np.diag(a, 1) # Extracting the diagonal elements of a matrix with a shift of 1\n",
        "print(\"Array a:\\n\", a)\n",
        "print(\"\\nArray b:\\n\", b)\n",
        "print(\"\\nArray c:\\n\", c)"
      ],
      "metadata": {
        "colab": {
          "base_uri": "https://localhost:8080/"
        },
        "id": "Tr5PSJ3pGEGL",
        "outputId": "51bc04b5-d888-4a3c-bbff-5697dc8a5f62"
      },
      "execution_count": null,
      "outputs": [
        {
          "output_type": "stream",
          "name": "stdout",
          "text": [
            "Array a:\n",
            " [[1 0 0 0]\n",
            " [0 2 0 0]\n",
            " [0 0 3 0]\n",
            " [0 0 0 4]]\n",
            "\n",
            "Array b:\n",
            " [1 2 3 4]\n",
            "\n",
            "Array c:\n",
            " [0 0 0]\n"
          ]
        }
      ]
    },
    {
      "cell_type": "code",
      "source": [
        "a = np.random.randint(1, 10, 3) # Creating an array of random integers\n",
        "print(\"Array a:\\n\", a) # Generating 3 random integers from [1, 10)\n",
        "b = np.random.randint(1, 10, (3, 4)) # Creating a 2D array of random integers\n",
        "print(\"\\nArray b:\\n\", b) # Generating 3x4 random integers from [1, 10)"
      ],
      "metadata": {
        "colab": {
          "base_uri": "https://localhost:8080/"
        },
        "id": "tmUC5OqZGpIv",
        "outputId": "730a383f-c442-4228-d34f-1213231b31e5"
      },
      "execution_count": null,
      "outputs": [
        {
          "output_type": "stream",
          "name": "stdout",
          "text": [
            "Array a:\n",
            " [7 4 1]\n",
            "\n",
            "Array b:\n",
            " [[1 5 8 1]\n",
            " [3 9 3 7]\n",
            " [4 6 7 8]]\n"
          ]
        }
      ]
    },
    {
      "cell_type": "code",
      "source": [
        "a = np.random.rand(5) # Creating an array of random floats\n",
        "print(\"Array a:\\n\", a) # Generating 5 random floats from [0, 1)\n",
        "b = np.random.rand(2, 3) # Creating a 2D array of random floats\n",
        "print(\"\\nArray b:\\n\", b) # Generating 2x3 random floats from [0, 1)"
      ],
      "metadata": {
        "colab": {
          "base_uri": "https://localhost:8080/"
        },
        "id": "gVTH_cpl_8ug",
        "outputId": "3d47ca7d-3497-4cd3-cb09-dad54894d92d"
      },
      "execution_count": null,
      "outputs": [
        {
          "output_type": "stream",
          "name": "stdout",
          "text": [
            "Array a:\n",
            " [0.55277799 0.5176199  0.40930526 0.72178699 0.76080423]\n",
            "\n",
            "Array b:\n",
            " [[0.48978169 0.25775549 0.58591398]\n",
            " [0.46457312 0.56777098 0.24875954]]\n"
          ]
        }
      ]
    },
    {
      "cell_type": "code",
      "source": [
        "a = np.random.randn(5) # Creating an array of random floats from Normal Distribution\n",
        "print(\"Array a:\\n\", a) # Generating 5 random floats from N(0, 1)\n",
        "b = np.random.randn(2, 3) # Creating a 2D array of random floats from Normal Distribution\n",
        "print(\"\\nArray b:\\n\", b) # Generating 2x3 random floats from N(0, 1)"
      ],
      "metadata": {
        "colab": {
          "base_uri": "https://localhost:8080/"
        },
        "id": "01G1E3KCAoQp",
        "outputId": "99334488-be56-4689-e99c-1f90d55d4e2e"
      },
      "execution_count": null,
      "outputs": [
        {
          "output_type": "stream",
          "name": "stdout",
          "text": [
            "Array a:\n",
            " [ 1.36204427  0.04571876 -1.57136699 -0.83153114  0.77537055]\n",
            "\n",
            "Array b:\n",
            " [[-0.81121094  0.9561041  -0.57351008]\n",
            " [ 0.12873472  1.83902549  0.13402432]]\n"
          ]
        }
      ]
    },
    {
      "cell_type": "markdown",
      "source": [
        "## Indexing & Slicing of NumPy Array\n",
        "- To get any values from a NumPy array we can use indexing and slicing method.\n",
        "- Always remember indexing in python starts from 0 upto n-1, where n = lenth of the array.\n",
        "- For a n-dimensional array, we have to mention n different indexes, not more than that.\n",
        "- In some cases less number of indexing by default considers the first m indexes of the array (m<n).\n",
        "- We can use negetive indexing and slicing. Rule: index(n-k) = index(-k)"
      ],
      "metadata": {
        "id": "IKavqWuFCoNl"
      }
    },
    {
      "cell_type": "code",
      "source": [
        "import numpy as np\n",
        "a = np.array([1, 2, 3, 4, 5, 6, 7, 8, 9]) # 1D array\n",
        "print(\"Array a:\\n\", a, \"\\n\")\n",
        "\n",
        "for i in range(len(a)):\n",
        "    print(f\"The {i} indexed element is:\", a[i]) # 1D array indexing"
      ],
      "metadata": {
        "colab": {
          "base_uri": "https://localhost:8080/"
        },
        "id": "WlulJy2-B5RA",
        "outputId": "b7584a6d-b1ad-4571-9294-a805524f6c09"
      },
      "execution_count": null,
      "outputs": [
        {
          "output_type": "stream",
          "name": "stdout",
          "text": [
            "Array a:\n",
            " [1 2 3 4 5 6 7 8 9] \n",
            "\n",
            "The 0 indexed element is: 1\n",
            "The 1 indexed element is: 2\n",
            "The 2 indexed element is: 3\n",
            "The 3 indexed element is: 4\n",
            "The 4 indexed element is: 5\n",
            "The 5 indexed element is: 6\n",
            "The 6 indexed element is: 7\n",
            "The 7 indexed element is: 8\n",
            "The 8 indexed element is: 9\n"
          ]
        }
      ]
    },
    {
      "cell_type": "code",
      "source": [
        "a = np.array([[1, 2, 3],[4, 5, 6], [7, 8, 9]]) # 2D array\n",
        "print(\"Array a:\\n\", a, \"\\n\")\n",
        "\n",
        "for i in range(len(a)):\n",
        "    print(f\"The {i} indexed element is:\", a[i]) # 1D array indexing but for each index it is giving a 1D array"
      ],
      "metadata": {
        "colab": {
          "base_uri": "https://localhost:8080/"
        },
        "id": "nJ_evqn6EliB",
        "outputId": "2d1c011b-3af1-48f5-c323-ed5193116de5"
      },
      "execution_count": null,
      "outputs": [
        {
          "output_type": "stream",
          "name": "stdout",
          "text": [
            "Array a:\n",
            " [[1 2 3]\n",
            " [4 5 6]\n",
            " [7 8 9]] \n",
            "\n",
            "The 0 indexed element is: [1 2 3]\n",
            "The 1 indexed element is: [4 5 6]\n",
            "The 2 indexed element is: [7 8 9]\n"
          ]
        }
      ]
    },
    {
      "cell_type": "code",
      "source": [
        "a = np.array([[[1, 2, 3], [4, 5, 6], [7, 8, 9]],\n",
        "              [[11, 12, 13], [14, 15, 16], [17, 18, 19]],\n",
        "              [[21, 22, 23], [24, 25, 26], [27, 28, 29]]]) # 3D array\n",
        "print(\"Array a:\\n\", a, \"\\n\")\n",
        "\n",
        "for i in range(len(a)):\n",
        "    print(f\"\\nThe {i} indexed element is:\\n\", a[i]) # 1D array indexing but for each index it is giving a 2D array\n",
        "\n",
        "for i in range(len(a)):\n",
        "    for j in range(len(a[i])):\n",
        "        print(f\"\\nThe ({i}, {j}) indexed element is:\\n\", a[i][j]) # 2D array indexing but for each index it is giving a 1D array"
      ],
      "metadata": {
        "colab": {
          "base_uri": "https://localhost:8080/"
        },
        "id": "mUHisFBCFQjq",
        "outputId": "e6ee4ab6-0a89-46a5-d553-6f4acc8f58b8"
      },
      "execution_count": null,
      "outputs": [
        {
          "output_type": "stream",
          "name": "stdout",
          "text": [
            "Array a:\n",
            " [[[ 1  2  3]\n",
            "  [ 4  5  6]\n",
            "  [ 7  8  9]]\n",
            "\n",
            " [[11 12 13]\n",
            "  [14 15 16]\n",
            "  [17 18 19]]\n",
            "\n",
            " [[21 22 23]\n",
            "  [24 25 26]\n",
            "  [27 28 29]]] \n",
            "\n",
            "\n",
            "The 0 indexed element is:\n",
            " [[1 2 3]\n",
            " [4 5 6]\n",
            " [7 8 9]]\n",
            "\n",
            "The 1 indexed element is:\n",
            " [[11 12 13]\n",
            " [14 15 16]\n",
            " [17 18 19]]\n",
            "\n",
            "The 2 indexed element is:\n",
            " [[21 22 23]\n",
            " [24 25 26]\n",
            " [27 28 29]]\n",
            "\n",
            "The (0,0) indexed element is:\n",
            " [1 2 3]\n",
            "\n",
            "The (0,1) indexed element is:\n",
            " [4 5 6]\n",
            "\n",
            "The (0,2) indexed element is:\n",
            " [7 8 9]\n",
            "\n",
            "The (1,0) indexed element is:\n",
            " [11 12 13]\n",
            "\n",
            "The (1,1) indexed element is:\n",
            " [14 15 16]\n",
            "\n",
            "The (1,2) indexed element is:\n",
            " [17 18 19]\n",
            "\n",
            "The (2,0) indexed element is:\n",
            " [21 22 23]\n",
            "\n",
            "The (2,1) indexed element is:\n",
            " [24 25 26]\n",
            "\n",
            "The (2,2) indexed element is:\n",
            " [27 28 29]\n"
          ]
        }
      ]
    },
    {
      "cell_type": "code",
      "source": [
        "a = np.array([[[1, 2, 3], [4, 5, 6], [7, 8, 9]],\n",
        "              [[11, 12, 13], [14, 15, 16], [17, 18, 19]],\n",
        "              [[21, 22, 23], [24, 25, 26], [27, 28, 29]]]) # 3D array\n",
        "\n",
        "print(\"The (0, 1, 2) indexed element of a is:\", a[0, 1, 2]) # Indexing a 3D array\n",
        "print(\"The (2, 1, 0) indexed element of a is:\", a[2, 1, 0]) # Indexing a 3D array\n",
        "\n",
        "print(a[1, 0, 2] == a[1][0][2]) # Checking if both are same, another way of indexing\n",
        "print(a[1, 0] == a[1][0]) # Checking if both are same, another way of indexing\n",
        "print(a[1] == a[1][0][2]) # Checking if both are same, another way of indexing\n",
        "# For the 2nd and 3rd case it is checking element wise equality for both the arrays"
      ],
      "metadata": {
        "colab": {
          "base_uri": "https://localhost:8080/"
        },
        "id": "WRCxt0ckG7aZ",
        "outputId": "ef566eda-b5b5-4077-d13b-642727386881"
      },
      "execution_count": null,
      "outputs": [
        {
          "output_type": "stream",
          "name": "stdout",
          "text": [
            "The (0, 1, 2) indexed element of a is: 6\n",
            "The (2, 1, 0) indexed element of a is: 24\n",
            "True\n",
            "[ True  True  True]\n",
            "[[False False  True]\n",
            " [False False False]\n",
            " [False False False]]\n"
          ]
        }
      ]
    },
    {
      "cell_type": "code",
      "source": [
        "a = np.array([[[1, 2, 3], [4, 5, 6], [7, 8, 9]],\n",
        "              [[11, 12, 13], [14, 15, 16], [17, 18, 19]],\n",
        "              [[21, 22, 23], [24, 25, 26], [27, 28, 29]]]) # 3D array\n",
        "b = np.array([1, 2, 3, 4, 5, 6, 7, 8, 9]) # 1D array\n",
        "print(\"The slicing of b from 3rd index to 7th index is:\", b[3:8])\n",
        "print(\"\\nThe slicing of a from 3rd index to 7th index is:\\n\", a[3:8]) # Since the index are empty\n",
        "print(\"\\nThe slicing of b from 0th index to 2nd index is:\\n\", a[0:2])"
      ],
      "metadata": {
        "colab": {
          "base_uri": "https://localhost:8080/"
        },
        "id": "_JbND2WoIX9s",
        "outputId": "39097e26-3bed-4446-fc23-c8610717743f"
      },
      "execution_count": null,
      "outputs": [
        {
          "output_type": "stream",
          "name": "stdout",
          "text": [
            "The slicing of b from 3rd index to 7th index is: [4 5 6 7 8]\n",
            "\n",
            "The slicing of a from 3rd index to 7th index is:\n",
            " []\n",
            "\n",
            "The slicing of b from 0th index to 2nd index is:\n",
            " [[[ 1  2  3]\n",
            "  [ 4  5  6]\n",
            "  [ 7  8  9]]\n",
            "\n",
            " [[11 12 13]\n",
            "  [14 15 16]\n",
            "  [17 18 19]]]\n"
          ]
        }
      ]
    },
    {
      "cell_type": "code",
      "source": [
        "a = np.array([[[1, 2, 3], [4, 5, 6], [7, 8, 9]],\n",
        "              [[11, 12, 13], [14, 15, 16], [17, 18, 19]],\n",
        "              [[21, 22, 23], [24, 25, 26], [27, 28, 29]]]) # 3D array\n",
        "print(\"a[1:] =\\n\", a[1:]) # Returns every element after and including 1\n",
        "print(\"\\na[:2] =\\n\", a[:2]) # Returns every element before 2 (excluding 2)\n",
        "print(\"\\na[1:, 1:] =\\n\", a[1:, 1:]) # Returns every element after and including [1, 1]\n",
        "print(\"\\na[:2, :2] =\\n\", a[:2, :2]) # Returns every element before [2, 2] (excluding [2, 2])"
      ],
      "metadata": {
        "colab": {
          "base_uri": "https://localhost:8080/"
        },
        "id": "bzE9x_rcMYMi",
        "outputId": "d4de6d5c-23f3-43d9-a03f-acc1f2943279"
      },
      "execution_count": null,
      "outputs": [
        {
          "output_type": "stream",
          "name": "stdout",
          "text": [
            "a[1:] =\n",
            " [[[11 12 13]\n",
            "  [14 15 16]\n",
            "  [17 18 19]]\n",
            "\n",
            " [[21 22 23]\n",
            "  [24 25 26]\n",
            "  [27 28 29]]]\n",
            "\n",
            "a[:2] =\n",
            " [[[ 1  2  3]\n",
            "  [ 4  5  6]\n",
            "  [ 7  8  9]]\n",
            "\n",
            " [[11 12 13]\n",
            "  [14 15 16]\n",
            "  [17 18 19]]]\n",
            "\n",
            "a[1:, 1:] =\n",
            " [[[14 15 16]\n",
            "  [17 18 19]]\n",
            "\n",
            " [[24 25 26]\n",
            "  [27 28 29]]]\n",
            "\n",
            "a[:2, :2] =\n",
            " [[[ 1  2  3]\n",
            "  [ 4  5  6]]\n",
            "\n",
            " [[11 12 13]\n",
            "  [14 15 16]]]\n"
          ]
        }
      ]
    },
    {
      "cell_type": "code",
      "source": [
        "a = np.array([[[1, 2, 3], [4, 5, 6], [7, 8, 9]],\n",
        "              [[11, 12, 13], [14, 15, 16], [17, 18, 19]],\n",
        "              [[21, 22, 23], [24, 25, 26], [27, 28, 29]]]) # 3D array\n",
        "\n",
        "a[0:2, -1] == a[0:2, 2] # Checking if both are same, index(n-k) = index(-k), here k=1, n=3"
      ],
      "metadata": {
        "colab": {
          "base_uri": "https://localhost:8080/"
        },
        "id": "iRXq4jwgNZvU",
        "outputId": "f3f869e8-f370-4a72-aebf-c5191ef7c41d"
      },
      "execution_count": null,
      "outputs": [
        {
          "output_type": "execute_result",
          "data": {
            "text/plain": [
              "array([[ True,  True,  True],\n",
              "       [ True,  True,  True]])"
            ]
          },
          "metadata": {},
          "execution_count": 36
        }
      ]
    },
    {
      "cell_type": "code",
      "source": [
        "a = np.array([[[1, 2, 3], [4, 5, 6], [7, 8, 9]],\n",
        "              [[11, 12, 13], [14, 15, 16], [17, 18, 19]],\n",
        "              [[21, 22, 23], [24, 25, 26], [27, 28, 29]]]) # 3D array\n",
        "\n",
        "print(\"a[0:2] =\\n\", a[0:2])\n",
        "print(\"\\na[1:3] =\\n\", a[1:3])\n",
        "print(\"\\nSum of the above array slices is:\\n\", a[0:2]+a[1:3])\n",
        "print(\"\\nLet's divide the array sum by 2:\\n\", (a[0:2]+a[1:3])/2) # Note there is float value now\n",
        "print(\"\\nLet's divide the array sum by 8:\\n\", (a[0:2]+a[1:3])/8) # The float is clear now\n",
        "print(\"\\nLet's now convert the final array into integer array:\")\n",
        "np.array((a[0:2]+a[1:3])/8, dtype = np.int64)"
      ],
      "metadata": {
        "colab": {
          "base_uri": "https://localhost:8080/"
        },
        "id": "mAWo_aetOwSd",
        "outputId": "9d7065e4-7966-44d7-9957-e18ba9b57bb4"
      },
      "execution_count": null,
      "outputs": [
        {
          "output_type": "stream",
          "name": "stdout",
          "text": [
            "a[0:2] =\n",
            " [[[ 1  2  3]\n",
            "  [ 4  5  6]\n",
            "  [ 7  8  9]]\n",
            "\n",
            " [[11 12 13]\n",
            "  [14 15 16]\n",
            "  [17 18 19]]]\n",
            "\n",
            "a[1:3] =\n",
            " [[[11 12 13]\n",
            "  [14 15 16]\n",
            "  [17 18 19]]\n",
            "\n",
            " [[21 22 23]\n",
            "  [24 25 26]\n",
            "  [27 28 29]]]\n",
            "\n",
            "Sum of the above array slices is:\n",
            " [[[12 14 16]\n",
            "  [18 20 22]\n",
            "  [24 26 28]]\n",
            "\n",
            " [[32 34 36]\n",
            "  [38 40 42]\n",
            "  [44 46 48]]]\n",
            "\n",
            "Let's divide the array sum by 2:\n",
            " [[[ 6.  7.  8.]\n",
            "  [ 9. 10. 11.]\n",
            "  [12. 13. 14.]]\n",
            "\n",
            " [[16. 17. 18.]\n",
            "  [19. 20. 21.]\n",
            "  [22. 23. 24.]]]\n",
            "\n",
            "Let's divide the array sum by 8:\n",
            " [[[1.5  1.75 2.  ]\n",
            "  [2.25 2.5  2.75]\n",
            "  [3.   3.25 3.5 ]]\n",
            "\n",
            " [[4.   4.25 4.5 ]\n",
            "  [4.75 5.   5.25]\n",
            "  [5.5  5.75 6.  ]]]\n",
            "\n",
            "Let's now convert the final array into integer array:\n"
          ]
        },
        {
          "output_type": "execute_result",
          "data": {
            "text/plain": [
              "array([[[1, 1, 2],\n",
              "        [2, 2, 2],\n",
              "        [3, 3, 3]],\n",
              "\n",
              "       [[4, 4, 4],\n",
              "        [4, 5, 5],\n",
              "        [5, 5, 6]]])"
            ]
          },
          "metadata": {},
          "execution_count": 51
        }
      ]
    },
    {
      "cell_type": "markdown",
      "source": [
        "## Reshaping of Array\n",
        "- We can reshape an array as required.\n",
        "- But always remember that original array shape and reshaping array shape should be matching, or there is an error."
      ],
      "metadata": {
        "id": "3rcTNYw9RxbV"
      }
    },
    {
      "cell_type": "code",
      "source": [
        "import numpy as np\n",
        "a = np.random.randint(0, 99, (4, 3))\n",
        "a"
      ],
      "metadata": {
        "colab": {
          "base_uri": "https://localhost:8080/"
        },
        "id": "lVqS7hR6Raie",
        "outputId": "178b4b54-94e3-4a2a-d32c-9bc2e89fbd9e"
      },
      "execution_count": null,
      "outputs": [
        {
          "output_type": "execute_result",
          "data": {
            "text/plain": [
              "array([[65, 48, 21],\n",
              "       [29, 30, 98],\n",
              "       [17, 18, 31],\n",
              "       [60, 67, 81]])"
            ]
          },
          "metadata": {},
          "execution_count": 52
        }
      ]
    },
    {
      "cell_type": "code",
      "source": [
        "a.shape # Total 12 elements are there"
      ],
      "metadata": {
        "colab": {
          "base_uri": "https://localhost:8080/"
        },
        "id": "iRurznUISb2-",
        "outputId": "1b17874a-eacd-4268-d9d0-7cba21b3d7bb"
      },
      "execution_count": null,
      "outputs": [
        {
          "output_type": "execute_result",
          "data": {
            "text/plain": [
              "(4, 3)"
            ]
          },
          "metadata": {},
          "execution_count": 53
        }
      ]
    },
    {
      "cell_type": "code",
      "source": [
        "a.reshape(2, 6) # 2 rows and 6 columns, 12 elements"
      ],
      "metadata": {
        "colab": {
          "base_uri": "https://localhost:8080/"
        },
        "id": "mTncRFNzT6UW",
        "outputId": "cd930376-91e2-4586-fa77-24804fb79775"
      },
      "execution_count": null,
      "outputs": [
        {
          "output_type": "execute_result",
          "data": {
            "text/plain": [
              "array([[65, 48, 21, 29, 30, 98],\n",
              "       [17, 18, 31, 60, 67, 81]])"
            ]
          },
          "metadata": {},
          "execution_count": 54
        }
      ]
    },
    {
      "cell_type": "code",
      "source": [
        "a.reshape(3, 4) # 3 rows and 4 columns, 12 elements"
      ],
      "metadata": {
        "colab": {
          "base_uri": "https://localhost:8080/"
        },
        "id": "hySAgWviUXeq",
        "outputId": "e05e849b-6f05-4f83-cfd0-1aad9c6a2321"
      },
      "execution_count": null,
      "outputs": [
        {
          "output_type": "execute_result",
          "data": {
            "text/plain": [
              "array([[65, 48, 21, 29],\n",
              "       [30, 98, 17, 18],\n",
              "       [31, 60, 67, 81]])"
            ]
          },
          "metadata": {},
          "execution_count": 58
        }
      ]
    },
    {
      "cell_type": "code",
      "source": [
        "a.reshape(2, 3, 2) # 3D array"
      ],
      "metadata": {
        "colab": {
          "base_uri": "https://localhost:8080/"
        },
        "id": "Ovpdn5yhUnmL",
        "outputId": "66f35e91-431c-4fae-9bc0-0c42da07f45b"
      },
      "execution_count": null,
      "outputs": [
        {
          "output_type": "execute_result",
          "data": {
            "text/plain": [
              "array([[[65, 48],\n",
              "        [21, 29],\n",
              "        [30, 98]],\n",
              "\n",
              "       [[17, 18],\n",
              "        [31, 60],\n",
              "        [67, 81]]])"
            ]
          },
          "metadata": {},
          "execution_count": 59
        }
      ]
    },
    {
      "cell_type": "code",
      "source": [
        "a.reshape(2, 1, 2, 3) # 4D array"
      ],
      "metadata": {
        "colab": {
          "base_uri": "https://localhost:8080/"
        },
        "id": "he3o0T-_Uy6t",
        "outputId": "c39c31a7-5724-4f32-85cd-4149e953894b"
      },
      "execution_count": null,
      "outputs": [
        {
          "output_type": "execute_result",
          "data": {
            "text/plain": [
              "array([[[[65, 48, 21],\n",
              "         [29, 30, 98]]],\n",
              "\n",
              "\n",
              "       [[[17, 18, 31],\n",
              "         [60, 67, 81]]]])"
            ]
          },
          "metadata": {},
          "execution_count": 61
        }
      ]
    },
    {
      "cell_type": "code",
      "source": [
        "a.reshape(1, 12) # 2D array"
      ],
      "metadata": {
        "colab": {
          "base_uri": "https://localhost:8080/"
        },
        "id": "Om4xrMRXUKk9",
        "outputId": "ee970e29-4704-412e-dd7f-8a37a9057364"
      },
      "execution_count": null,
      "outputs": [
        {
          "output_type": "execute_result",
          "data": {
            "text/plain": [
              "array([[65, 48, 21, 29, 30, 98, 17, 18, 31, 60, 67, 81]])"
            ]
          },
          "metadata": {},
          "execution_count": 62
        }
      ]
    },
    {
      "cell_type": "code",
      "source": [
        "a.reshape(12) # 1D array"
      ],
      "metadata": {
        "colab": {
          "base_uri": "https://localhost:8080/"
        },
        "id": "QnQPKIi3VPsC",
        "outputId": "ed8025db-6268-446e-9729-135c1e6ff8b6"
      },
      "execution_count": null,
      "outputs": [
        {
          "output_type": "execute_result",
          "data": {
            "text/plain": [
              "array([65, 48, 21, 29, 30, 98, 17, 18, 31, 60, 67, 81])"
            ]
          },
          "metadata": {},
          "execution_count": 63
        }
      ]
    },
    {
      "cell_type": "code",
      "source": [
        "a.reshape(2, 7) # 2 rows and 7 columns, 14 elements, not 12 elements, gives error"
      ],
      "metadata": {
        "colab": {
          "base_uri": "https://localhost:8080/",
          "height": 141
        },
        "id": "k2bqXDP9UTBU",
        "outputId": "1b2bb08a-bf08-4f64-f0ef-92f8f24f6a98"
      },
      "execution_count": null,
      "outputs": [
        {
          "output_type": "error",
          "ename": "ValueError",
          "evalue": "cannot reshape array of size 12 into shape (2,7)",
          "traceback": [
            "\u001b[0;31m---------------------------------------------------------------------------\u001b[0m",
            "\u001b[0;31mValueError\u001b[0m                                Traceback (most recent call last)",
            "\u001b[0;32m<ipython-input-56-5ef48755824a>\u001b[0m in \u001b[0;36m<cell line: 1>\u001b[0;34m()\u001b[0m\n\u001b[0;32m----> 1\u001b[0;31m \u001b[0ma\u001b[0m\u001b[0;34m.\u001b[0m\u001b[0mreshape\u001b[0m\u001b[0;34m(\u001b[0m\u001b[0;36m2\u001b[0m\u001b[0;34m,\u001b[0m \u001b[0;36m7\u001b[0m\u001b[0;34m)\u001b[0m \u001b[0;31m# 2 rows and 7 columns, 14 elements\u001b[0m\u001b[0;34m\u001b[0m\u001b[0;34m\u001b[0m\u001b[0m\n\u001b[0m",
            "\u001b[0;31mValueError\u001b[0m: cannot reshape array of size 12 into shape (2,7)"
          ]
        }
      ]
    },
    {
      "cell_type": "code",
      "source": [
        "a # The actual array is not changing"
      ],
      "metadata": {
        "colab": {
          "base_uri": "https://localhost:8080/"
        },
        "id": "sOWbhXU0UG-H",
        "outputId": "808ccd07-5e45-469d-aff9-ece0a99bab7b"
      },
      "execution_count": null,
      "outputs": [
        {
          "output_type": "execute_result",
          "data": {
            "text/plain": [
              "array([[65, 48, 21],\n",
              "       [29, 30, 98],\n",
              "       [17, 18, 31],\n",
              "       [60, 67, 81]])"
            ]
          },
          "metadata": {},
          "execution_count": 55
        }
      ]
    },
    {
      "cell_type": "code",
      "source": [
        "a = a.reshape(2, 2, 3) # To change the actual array\n",
        "a"
      ],
      "metadata": {
        "colab": {
          "base_uri": "https://localhost:8080/"
        },
        "id": "4YPC1R0EVbk_",
        "outputId": "d2da8b69-4725-4bfa-b4f4-c36ef6965522"
      },
      "execution_count": null,
      "outputs": [
        {
          "output_type": "execute_result",
          "data": {
            "text/plain": [
              "array([[[65, 48, 21],\n",
              "        [29, 30, 98]],\n",
              "\n",
              "       [[17, 18, 31],\n",
              "        [60, 67, 81]]])"
            ]
          },
          "metadata": {},
          "execution_count": 67
        }
      ]
    },
    {
      "cell_type": "code",
      "source": [
        "a.reshape(-1, 6) # Only assigning the column value"
      ],
      "metadata": {
        "colab": {
          "base_uri": "https://localhost:8080/"
        },
        "id": "zGcJ-8uLVnCO",
        "outputId": "b6e5a1ff-3f44-4966-e466-699ff18d3d11"
      },
      "execution_count": null,
      "outputs": [
        {
          "output_type": "execute_result",
          "data": {
            "text/plain": [
              "array([[65, 48, 21, 29, 30, 98],\n",
              "       [17, 18, 31, 60, 67, 81]])"
            ]
          },
          "metadata": {},
          "execution_count": 68
        }
      ]
    },
    {
      "cell_type": "code",
      "source": [
        "a.reshape(6, -1) # Only assigning the row value"
      ],
      "metadata": {
        "colab": {
          "base_uri": "https://localhost:8080/"
        },
        "id": "MUhL1_s1WSKA",
        "outputId": "19300796-0dff-4806-d97c-376a5fe5b1e6"
      },
      "execution_count": null,
      "outputs": [
        {
          "output_type": "execute_result",
          "data": {
            "text/plain": [
              "array([[65, 48],\n",
              "       [21, 29],\n",
              "       [30, 98],\n",
              "       [17, 18],\n",
              "       [31, 60],\n",
              "       [67, 81]])"
            ]
          },
          "metadata": {},
          "execution_count": 69
        }
      ]
    },
    {
      "cell_type": "code",
      "source": [
        "a.reshape(2, 2, -1) # Only assigning the row and column"
      ],
      "metadata": {
        "colab": {
          "base_uri": "https://localhost:8080/"
        },
        "id": "xynffya0WdLr",
        "outputId": "1f6c4242-3782-4a24-b602-ad635fa88947"
      },
      "execution_count": null,
      "outputs": [
        {
          "output_type": "execute_result",
          "data": {
            "text/plain": [
              "array([[[65, 48, 21],\n",
              "        [29, 30, 98]],\n",
              "\n",
              "       [[17, 18, 31],\n",
              "        [60, 67, 81]]])"
            ]
          },
          "metadata": {},
          "execution_count": 70
        }
      ]
    },
    {
      "cell_type": "code",
      "source": [
        "a.reshape(-4, 4) # Only assigning the column value"
      ],
      "metadata": {
        "colab": {
          "base_uri": "https://localhost:8080/"
        },
        "id": "Mgu3RvUvWuSN",
        "outputId": "d1c6bb82-dd9e-421c-ac90-bb29bdaba236"
      },
      "execution_count": null,
      "outputs": [
        {
          "output_type": "execute_result",
          "data": {
            "text/plain": [
              "array([[65, 48, 21, 29],\n",
              "       [30, 98, 17, 18],\n",
              "       [31, 60, 67, 81]])"
            ]
          },
          "metadata": {},
          "execution_count": 73
        }
      ]
    },
    {
      "cell_type": "code",
      "source": [
        "a.reshape(0, 12) # Since 0 cannot be a dimension"
      ],
      "metadata": {
        "colab": {
          "base_uri": "https://localhost:8080/",
          "height": 141
        },
        "id": "-JOqB7XtW-qd",
        "outputId": "4776a221-dc1f-4670-c8d3-2f789ee876fc"
      },
      "execution_count": null,
      "outputs": [
        {
          "output_type": "error",
          "ename": "ValueError",
          "evalue": "cannot reshape array of size 12 into shape (0,12)",
          "traceback": [
            "\u001b[0;31m---------------------------------------------------------------------------\u001b[0m",
            "\u001b[0;31mValueError\u001b[0m                                Traceback (most recent call last)",
            "\u001b[0;32m<ipython-input-76-b5e5a9ae39b7>\u001b[0m in \u001b[0;36m<cell line: 1>\u001b[0;34m()\u001b[0m\n\u001b[0;32m----> 1\u001b[0;31m \u001b[0ma\u001b[0m\u001b[0;34m.\u001b[0m\u001b[0mreshape\u001b[0m\u001b[0;34m(\u001b[0m\u001b[0;36m0\u001b[0m\u001b[0;34m,\u001b[0m \u001b[0;36m12\u001b[0m\u001b[0;34m)\u001b[0m \u001b[0;31m#\u001b[0m\u001b[0;34m\u001b[0m\u001b[0;34m\u001b[0m\u001b[0m\n\u001b[0m",
            "\u001b[0;31mValueError\u001b[0m: cannot reshape array of size 12 into shape (0,12)"
          ]
        }
      ]
    },
    {
      "cell_type": "markdown",
      "source": [
        "## NumPy Seed Function\n",
        "- Used for many important purpose where we need to fix our randomly generated array.\n",
        "- The pseudo number generator gives us the same output for a particular seed number."
      ],
      "metadata": {
        "id": "W7kAWcdxXWx8"
      }
    },
    {
      "cell_type": "code",
      "source": [
        "import numpy as np\n",
        "np.random.seed(10)\n",
        "arr = np.random.randint(0, 100, 10)\n",
        "arr # Seed always comes with Random number"
      ],
      "metadata": {
        "colab": {
          "base_uri": "https://localhost:8080/"
        },
        "id": "ArFxJiGqXWPc",
        "outputId": "94aa28f2-1310-4c28-e5e5-56077e0b2a73"
      },
      "execution_count": null,
      "outputs": [
        {
          "output_type": "execute_result",
          "data": {
            "text/plain": [
              "array([ 9, 15, 64, 28, 89, 93, 29,  8, 73,  0])"
            ]
          },
          "metadata": {},
          "execution_count": 83
        }
      ]
    },
    {
      "cell_type": "code",
      "source": [
        "np.random.seed(10)\n",
        "arr = np.random.randint(0, 100, 10)\n",
        "arr # Note the same random number is generated"
      ],
      "metadata": {
        "colab": {
          "base_uri": "https://localhost:8080/"
        },
        "id": "M-hFyWk5Ynhk",
        "outputId": "450ee7fd-eadf-4e8b-d5b8-df32213976cb"
      },
      "execution_count": null,
      "outputs": [
        {
          "output_type": "execute_result",
          "data": {
            "text/plain": [
              "array([ 9, 15, 64, 28, 89, 93, 29,  8, 73,  0])"
            ]
          },
          "metadata": {},
          "execution_count": 84
        }
      ]
    },
    {
      "cell_type": "code",
      "source": [
        "np.random.seed(10)\n",
        "arr = np.random.randint(0, 50, 10)\n",
        "arr # Seed is same but the variation in range or dimension can change the array"
      ],
      "metadata": {
        "colab": {
          "base_uri": "https://localhost:8080/"
        },
        "id": "OZBNhk_fYp5e",
        "outputId": "70d24ed9-3036-4c3e-c8cc-19f3df2ca0d5"
      },
      "execution_count": null,
      "outputs": [
        {
          "output_type": "execute_result",
          "data": {
            "text/plain": [
              "array([ 9, 36, 15,  0, 49, 28, 25, 29, 48, 29])"
            ]
          },
          "metadata": {},
          "execution_count": 85
        }
      ]
    },
    {
      "cell_type": "code",
      "source": [
        "arr.size # Checking the size of the array"
      ],
      "metadata": {
        "colab": {
          "base_uri": "https://localhost:8080/"
        },
        "id": "ETTptDsdZVPR",
        "outputId": "d00f0a97-5b5c-4b5f-9e98-319b335d905c"
      },
      "execution_count": null,
      "outputs": [
        {
          "output_type": "execute_result",
          "data": {
            "text/plain": [
              "10"
            ]
          },
          "metadata": {},
          "execution_count": 86
        }
      ]
    },
    {
      "cell_type": "markdown",
      "source": [
        "## NumPy Functions: View vs Copy\n",
        "- We can slice an array by two ways, making view or using a copy of it.\n",
        "- <B>View:</B> In this method if we change any part of the subarray then it is replicated in original.\n",
        "- <B>Copy:</B> In this method if we change any part of the subarray then it is not replicated in original."
      ],
      "metadata": {
        "id": "9PfkooDVZ-KC"
      }
    },
    {
      "cell_type": "code",
      "source": [
        "import numpy as np\n",
        "a = np.array([10, 20, 30, 40, 50, 60, 70, 80])\n",
        "b = a[4:7] # Slicing a subarray, by default it is using view technique\n",
        "print(\"b =\", b)\n",
        "b[:] = 0\n",
        "print(\"\\nModified b =\", b)\n",
        "print(\"\\nNote that, now a =\", a)"
      ],
      "metadata": {
        "id": "cl5zfakLZ7m5",
        "colab": {
          "base_uri": "https://localhost:8080/"
        },
        "outputId": "dd6d0011-9d71-4c3e-fbbb-a6829e031bb0"
      },
      "execution_count": 7,
      "outputs": [
        {
          "output_type": "stream",
          "name": "stdout",
          "text": [
            "b = [50 60 70]\n",
            "\n",
            "Modified b = [0 0 0]\n",
            "\n",
            "Note that, now a = [10 20 30 40  0  0  0 80]\n"
          ]
        }
      ]
    },
    {
      "cell_type": "code",
      "source": [
        "a = np.array([10, 20, 30, 40, 50, 60, 70, 80])\n",
        "b = a[4:7].copy() # Slicing a subarray, but this time using copy technique\n",
        "print(\"b =\", b)\n",
        "b[:] = 0\n",
        "print(\"\\nModified b =\", b)\n",
        "print(\"\\nNote that, now a =\", a)"
      ],
      "metadata": {
        "id": "C6uLa77-c9sE",
        "colab": {
          "base_uri": "https://localhost:8080/"
        },
        "outputId": "879664a3-e13f-43ac-b827-1e478118558f"
      },
      "execution_count": 8,
      "outputs": [
        {
          "output_type": "stream",
          "name": "stdout",
          "text": [
            "b = [50 60 70]\n",
            "\n",
            "Modified b = [0 0 0]\n",
            "\n",
            "Note that, now a = [10 20 30 40 50 60 70 80]\n"
          ]
        }
      ]
    },
    {
      "cell_type": "markdown",
      "source": [
        "## Conditional Selection in NumPy Array\n",
        "- We can use logical symbols for conditioning. E.g. logical or, logical and etc.\n",
        "- We can update an array using conditional selection rule."
      ],
      "metadata": {
        "id": "I84a44xCPcmT"
      }
    },
    {
      "cell_type": "code",
      "source": [
        "import numpy as np\n",
        "a = np.arange(1, 15) # Arranging array elements starting from 1 to 14\n",
        "a"
      ],
      "metadata": {
        "colab": {
          "base_uri": "https://localhost:8080/"
        },
        "id": "-6zwSt_kO5QY",
        "outputId": "089f41fc-e6cf-4b29-9707-b2b28b9c6f2f"
      },
      "execution_count": 1,
      "outputs": [
        {
          "output_type": "execute_result",
          "data": {
            "text/plain": [
              "array([ 1,  2,  3,  4,  5,  6,  7,  8,  9, 10, 11, 12, 13, 14])"
            ]
          },
          "metadata": {},
          "execution_count": 1
        }
      ]
    },
    {
      "cell_type": "code",
      "source": [
        "a > 7 # Elementwise condition checking, creating binary array"
      ],
      "metadata": {
        "colab": {
          "base_uri": "https://localhost:8080/"
        },
        "id": "QdzdvlTN9aQM",
        "outputId": "a9671eca-6cc9-4559-e980-19dfd6c66745"
      },
      "execution_count": 2,
      "outputs": [
        {
          "output_type": "execute_result",
          "data": {
            "text/plain": [
              "array([False, False, False, False, False, False, False,  True,  True,\n",
              "        True,  True,  True,  True,  True])"
            ]
          },
          "metadata": {},
          "execution_count": 2
        }
      ]
    },
    {
      "cell_type": "code",
      "source": [
        "a = np.arange(1, 15, 2) # Arranging array elements starting from 1 to 14 with gap 2\n",
        "print(\"a =\", a)\n",
        "b = a >= 7 # Conditional selection\n",
        "print(\"\\nb =\", b)\n",
        "print(\"\\na[b] =\", a[b]) # Binary Indexing for retriving elements"
      ],
      "metadata": {
        "colab": {
          "base_uri": "https://localhost:8080/"
        },
        "id": "jNWRezZS9gHf",
        "outputId": "bffd7dbc-e773-4bc1-90a3-72d4a5f6ddc6"
      },
      "execution_count": 7,
      "outputs": [
        {
          "output_type": "stream",
          "name": "stdout",
          "text": [
            "a = [ 1  3  5  7  9 11 13]\n",
            "\n",
            "b = [False False False  True  True  True  True]\n",
            "\n",
            "a[b] = [ 7  9 11 13]\n"
          ]
        }
      ]
    },
    {
      "cell_type": "code",
      "source": [
        "a = np.arange(0, 15)\n",
        "print(\"a =\", a, \"\\n\")\n",
        "a[a%2 == 0] # Conditional selection"
      ],
      "metadata": {
        "colab": {
          "base_uri": "https://localhost:8080/"
        },
        "id": "47sJUlVE-IsG",
        "outputId": "f5c31951-0fed-4727-a6b6-040e972f49d1"
      },
      "execution_count": 12,
      "outputs": [
        {
          "output_type": "stream",
          "name": "stdout",
          "text": [
            "a = [ 0  1  2  3  4  5  6  7  8  9 10 11 12 13 14] \n",
            "\n"
          ]
        },
        {
          "output_type": "execute_result",
          "data": {
            "text/plain": [
              "array([ 0,  2,  4,  6,  8, 10, 12, 14])"
            ]
          },
          "metadata": {},
          "execution_count": 12
        }
      ]
    },
    {
      "cell_type": "code",
      "source": [
        "print(\"a == 10:\\n\", a == 10, \"\\n\") # == is logical equal\n",
        "a[a == 10] # Conditional selection"
      ],
      "metadata": {
        "colab": {
          "base_uri": "https://localhost:8080/"
        },
        "id": "JgQzyZ4N_ITl",
        "outputId": "50b8d38d-fb66-481a-d6aa-33e8cd250fc3"
      },
      "execution_count": 18,
      "outputs": [
        {
          "output_type": "stream",
          "name": "stdout",
          "text": [
            "a == 10:\n",
            " [False False False False False False False False False False  True False\n",
            " False False False] \n",
            "\n"
          ]
        },
        {
          "output_type": "execute_result",
          "data": {
            "text/plain": [
              "array([10])"
            ]
          },
          "metadata": {},
          "execution_count": 18
        }
      ]
    },
    {
      "cell_type": "code",
      "source": [
        "print(\"(a > 5) & (a < 10):\\n\", (a > 5) & (a < 10), \"\\n\") # & is logical and\n",
        "a[(a > 5) & (a < 10)] # Conditional selection"
      ],
      "metadata": {
        "colab": {
          "base_uri": "https://localhost:8080/"
        },
        "id": "aF2AuN87_QeA",
        "outputId": "2574bf4a-20c5-4d41-9817-ebb293707bc3"
      },
      "execution_count": 19,
      "outputs": [
        {
          "output_type": "stream",
          "name": "stdout",
          "text": [
            "(a > 5) & (a < 10):\n",
            " [False False False False False False  True  True  True  True False False\n",
            " False False False] \n",
            "\n"
          ]
        },
        {
          "output_type": "execute_result",
          "data": {
            "text/plain": [
              "array([6, 7, 8, 9])"
            ]
          },
          "metadata": {},
          "execution_count": 19
        }
      ]
    },
    {
      "cell_type": "code",
      "source": [
        "print(\"(a < 5) & (a > 10):\\n\", (a < 5) & (a > 10), \"\\n\")\n",
        "a[(a < 5) & (a > 10)] # Conditional selection, everything is false, thus null array"
      ],
      "metadata": {
        "colab": {
          "base_uri": "https://localhost:8080/"
        },
        "id": "o26-xvP0_2Gz",
        "outputId": "a4ddaf16-e1bd-4ab7-ab79-f505ec0e77dd"
      },
      "execution_count": 20,
      "outputs": [
        {
          "output_type": "stream",
          "name": "stdout",
          "text": [
            "(a < 5) & (a > 10):\n",
            " [False False False False False False False False False False False False\n",
            " False False False] \n",
            "\n"
          ]
        },
        {
          "output_type": "execute_result",
          "data": {
            "text/plain": [
              "array([], dtype=int64)"
            ]
          },
          "metadata": {},
          "execution_count": 20
        }
      ]
    },
    {
      "cell_type": "code",
      "source": [
        "print(\"(a < 5) | (a > 10):\\n\", (a < 5) | (a > 10), \"\\n\") # | is logical or\n",
        "a[(a < 5) | (a > 10)] # Conditional selection"
      ],
      "metadata": {
        "colab": {
          "base_uri": "https://localhost:8080/"
        },
        "id": "QufExE5oAFBR",
        "outputId": "55cd1bd0-2084-4c82-cdbe-d3676cc9df18"
      },
      "execution_count": 21,
      "outputs": [
        {
          "output_type": "stream",
          "name": "stdout",
          "text": [
            "(a < 5) | (a > 10):\n",
            " [ True  True  True  True  True False False False False False False  True\n",
            "  True  True  True] \n",
            "\n"
          ]
        },
        {
          "output_type": "execute_result",
          "data": {
            "text/plain": [
              "array([ 0,  1,  2,  3,  4, 11, 12, 13, 14])"
            ]
          },
          "metadata": {},
          "execution_count": 21
        }
      ]
    },
    {
      "cell_type": "code",
      "source": [
        "a[a%2 == 0] = 0 # Conditional update\n",
        "a # Replacing 0 for all True values"
      ],
      "metadata": {
        "colab": {
          "base_uri": "https://localhost:8080/"
        },
        "id": "ncqEdjlEAxux",
        "outputId": "4147fc92-47fc-4cd1-ba0b-d6e7bfaf6871"
      },
      "execution_count": 23,
      "outputs": [
        {
          "output_type": "execute_result",
          "data": {
            "text/plain": [
              "array([ 0,  1,  0,  3,  0,  5,  0,  7,  0,  9,  0, 11,  0, 13,  0])"
            ]
          },
          "metadata": {},
          "execution_count": 23
        }
      ]
    },
    {
      "cell_type": "code",
      "source": [
        "a = np.arange(1, 25).reshape(3, 4, 2)\n",
        "a[(a%2 == 0) | (a%5 == 1)] = 0 # All even and 1, 11, 21 are in True position\n",
        "a"
      ],
      "metadata": {
        "colab": {
          "base_uri": "https://localhost:8080/"
        },
        "id": "Jpgl52FxBbzZ",
        "outputId": "052a7aa6-c223-4f3e-86e3-87103cf39c56"
      },
      "execution_count": 33,
      "outputs": [
        {
          "output_type": "execute_result",
          "data": {
            "text/plain": [
              "array([[[ 0,  0],\n",
              "        [ 3,  0],\n",
              "        [ 5,  0],\n",
              "        [ 7,  0]],\n",
              "\n",
              "       [[ 9,  0],\n",
              "        [ 0,  0],\n",
              "        [13,  0],\n",
              "        [15,  0]],\n",
              "\n",
              "       [[17,  0],\n",
              "        [19,  0],\n",
              "        [ 0,  0],\n",
              "        [23,  0]]])"
            ]
          },
          "metadata": {},
          "execution_count": 33
        }
      ]
    },
    {
      "cell_type": "markdown",
      "source": [
        "## Various Operations on NumPy Array\n",
        "- There are various operations in NumPy  array which are not our usual operations."
      ],
      "metadata": {
        "id": "1VMMSCk5DvC9"
      }
    },
    {
      "cell_type": "code",
      "source": [
        "import numpy as np\n",
        "a = np.arange(1, 6)\n",
        "a"
      ],
      "metadata": {
        "colab": {
          "base_uri": "https://localhost:8080/"
        },
        "id": "Q9th1-_RCkma",
        "outputId": "22f1016a-ae3d-4a15-878d-d8427e7d2c35"
      },
      "execution_count": 25,
      "outputs": [
        {
          "output_type": "execute_result",
          "data": {
            "text/plain": [
              "array([1, 2, 3, 4, 5])"
            ]
          },
          "metadata": {},
          "execution_count": 25
        }
      ]
    },
    {
      "cell_type": "code",
      "source": [
        "a+2 # Adding 2 to each element"
      ],
      "metadata": {
        "colab": {
          "base_uri": "https://localhost:8080/"
        },
        "id": "xwoSwanuELmp",
        "outputId": "27fcd179-fe12-41b6-bad4-dedc74c565cf"
      },
      "execution_count": 2,
      "outputs": [
        {
          "output_type": "execute_result",
          "data": {
            "text/plain": [
              "array([3, 4, 5, 6, 7])"
            ]
          },
          "metadata": {},
          "execution_count": 2
        }
      ]
    },
    {
      "cell_type": "code",
      "source": [
        "a-2 # Substracting 2 to each element"
      ],
      "metadata": {
        "colab": {
          "base_uri": "https://localhost:8080/"
        },
        "id": "-dYKUId-g7y8",
        "outputId": "da3fa690-5bb0-424a-9e18-aa18d1ae1e38"
      },
      "execution_count": 3,
      "outputs": [
        {
          "output_type": "execute_result",
          "data": {
            "text/plain": [
              "array([-1,  0,  1,  2,  3])"
            ]
          },
          "metadata": {},
          "execution_count": 3
        }
      ]
    },
    {
      "cell_type": "code",
      "source": [
        "a*2 # Multiplying 2 to each element"
      ],
      "metadata": {
        "colab": {
          "base_uri": "https://localhost:8080/"
        },
        "id": "aaQZAmmyg9nZ",
        "outputId": "1f66f647-7d82-4e5c-f64e-404c48c23402"
      },
      "execution_count": 4,
      "outputs": [
        {
          "output_type": "execute_result",
          "data": {
            "text/plain": [
              "array([ 2,  4,  6,  8, 10])"
            ]
          },
          "metadata": {},
          "execution_count": 4
        }
      ]
    },
    {
      "cell_type": "code",
      "source": [
        "a/2 # Dividing 2 to each element"
      ],
      "metadata": {
        "colab": {
          "base_uri": "https://localhost:8080/"
        },
        "id": "lpcNkJmWg_eJ",
        "outputId": "2c62ce93-3a9c-4fea-c3ac-936bf2cfe9ba"
      },
      "execution_count": 5,
      "outputs": [
        {
          "output_type": "execute_result",
          "data": {
            "text/plain": [
              "array([0.5, 1. , 1.5, 2. , 2.5])"
            ]
          },
          "metadata": {},
          "execution_count": 5
        }
      ]
    },
    {
      "cell_type": "code",
      "source": [
        "a//2 # Integer Dividing 2 to each element"
      ],
      "metadata": {
        "colab": {
          "base_uri": "https://localhost:8080/"
        },
        "id": "pSaW7-GEhC9-",
        "outputId": "4a3b44d5-6921-4722-960b-740efb03cfc3"
      },
      "execution_count": 6,
      "outputs": [
        {
          "output_type": "execute_result",
          "data": {
            "text/plain": [
              "array([0, 1, 1, 2, 2])"
            ]
          },
          "metadata": {},
          "execution_count": 6
        }
      ]
    },
    {
      "cell_type": "code",
      "source": [
        "a**2 # Powering 2 to each element"
      ],
      "metadata": {
        "colab": {
          "base_uri": "https://localhost:8080/"
        },
        "id": "5bWBKuz0hEaN",
        "outputId": "b5216433-156f-46d6-ab1b-8d927a2565eb"
      },
      "execution_count": 7,
      "outputs": [
        {
          "output_type": "execute_result",
          "data": {
            "text/plain": [
              "array([ 1,  4,  9, 16, 25])"
            ]
          },
          "metadata": {},
          "execution_count": 7
        }
      ]
    },
    {
      "cell_type": "code",
      "source": [
        "a%2 # Modulus Dividing 2 to each element"
      ],
      "metadata": {
        "colab": {
          "base_uri": "https://localhost:8080/"
        },
        "id": "OiN2xX09hwe3",
        "outputId": "7de92904-a272-4905-ae87-d820cccde91c"
      },
      "execution_count": 8,
      "outputs": [
        {
          "output_type": "execute_result",
          "data": {
            "text/plain": [
              "array([1, 0, 1, 0, 1])"
            ]
          },
          "metadata": {},
          "execution_count": 8
        }
      ]
    },
    {
      "cell_type": "code",
      "source": [
        "a/0 # Dividing 0 to each element, giving \"inf\" i.e. infinite as output"
      ],
      "metadata": {
        "colab": {
          "base_uri": "https://localhost:8080/"
        },
        "id": "NZoSvD2sh7jE",
        "outputId": "b3a85fea-a3ed-4aff-fcf7-818da35ef982"
      },
      "execution_count": 9,
      "outputs": [
        {
          "output_type": "stream",
          "name": "stderr",
          "text": [
            "<ipython-input-9-daca0b544057>:1: RuntimeWarning: divide by zero encountered in divide\n",
            "  a/0 # Dividing 0 to each element\n"
          ]
        },
        {
          "output_type": "execute_result",
          "data": {
            "text/plain": [
              "array([inf, inf, inf, inf, inf])"
            ]
          },
          "metadata": {},
          "execution_count": 9
        }
      ]
    },
    {
      "cell_type": "code",
      "source": [
        "b = np.arange(0, 5)\n",
        "print(\"a =\", a)\n",
        "print(\"\\nb =\", b)"
      ],
      "metadata": {
        "colab": {
          "base_uri": "https://localhost:8080/"
        },
        "id": "xuif4zfYiNpt",
        "outputId": "82ceb8c6-470a-404b-e4b2-8d6e2a0f5fdf"
      },
      "execution_count": 26,
      "outputs": [
        {
          "output_type": "stream",
          "name": "stdout",
          "text": [
            "a = [1 2 3 4 5]\n",
            "\n",
            "b = [0 1 2 3 4]\n"
          ]
        }
      ]
    },
    {
      "cell_type": "code",
      "source": [
        "a+b # Addition of two arrays, elementwise addition"
      ],
      "metadata": {
        "colab": {
          "base_uri": "https://localhost:8080/"
        },
        "id": "MToS_FocifhD",
        "outputId": "115e7845-b46c-4045-9eb7-c88a88662692"
      },
      "execution_count": 16,
      "outputs": [
        {
          "output_type": "execute_result",
          "data": {
            "text/plain": [
              "array([1, 3, 5, 7, 9])"
            ]
          },
          "metadata": {},
          "execution_count": 16
        }
      ]
    },
    {
      "cell_type": "code",
      "source": [
        "a-b # Substraction of two arrays, elementwise substraction"
      ],
      "metadata": {
        "colab": {
          "base_uri": "https://localhost:8080/"
        },
        "id": "GnMzBFxYjG4n",
        "outputId": "ec15485e-3192-49eb-cb9c-cdff40f13546"
      },
      "execution_count": 17,
      "outputs": [
        {
          "output_type": "execute_result",
          "data": {
            "text/plain": [
              "array([1, 1, 1, 1, 1])"
            ]
          },
          "metadata": {},
          "execution_count": 17
        }
      ]
    },
    {
      "cell_type": "code",
      "source": [
        "a*b # Multiplication of two arrays, elementwise multiplication"
      ],
      "metadata": {
        "colab": {
          "base_uri": "https://localhost:8080/"
        },
        "id": "vLdGkNSPihjb",
        "outputId": "1bdb5c1e-1b00-487a-b0e5-5289b584ff00"
      },
      "execution_count": 18,
      "outputs": [
        {
          "output_type": "execute_result",
          "data": {
            "text/plain": [
              "array([ 0,  2,  6, 12, 20])"
            ]
          },
          "metadata": {},
          "execution_count": 18
        }
      ]
    },
    {
      "cell_type": "code",
      "source": [
        "a/b # Division of two arrays, elementwise division"
      ],
      "metadata": {
        "colab": {
          "base_uri": "https://localhost:8080/"
        },
        "id": "Q6pzDoJvizts",
        "outputId": "bd5518f8-34b4-49e3-e7d5-5b03c0d89e72"
      },
      "execution_count": 19,
      "outputs": [
        {
          "output_type": "stream",
          "name": "stderr",
          "text": [
            "<ipython-input-19-c7ce1f903b76>:1: RuntimeWarning: divide by zero encountered in divide\n",
            "  a/b # Division of two arrays, elementwise division\n"
          ]
        },
        {
          "output_type": "execute_result",
          "data": {
            "text/plain": [
              "array([       inf, 2.        , 1.5       , 1.33333333, 1.25      ])"
            ]
          },
          "metadata": {},
          "execution_count": 19
        }
      ]
    },
    {
      "cell_type": "code",
      "source": [
        "a**b # Powering of two arrays, elementwise powering"
      ],
      "metadata": {
        "colab": {
          "base_uri": "https://localhost:8080/"
        },
        "id": "_4to7aRpkraW",
        "outputId": "c4426a43-a0c3-4b1f-fdb5-c6dce791de62"
      },
      "execution_count": 27,
      "outputs": [
        {
          "output_type": "execute_result",
          "data": {
            "text/plain": [
              "array([  1,   2,   9,  64, 625])"
            ]
          },
          "metadata": {},
          "execution_count": 27
        }
      ]
    },
    {
      "cell_type": "code",
      "source": [
        "a%b # Modulus of two arrays, elementwise modulus, carefully look the output"
      ],
      "metadata": {
        "colab": {
          "base_uri": "https://localhost:8080/"
        },
        "id": "r55IQKN7k4oD",
        "outputId": "84de309d-0a44-4c61-f04a-9581d76710fd"
      },
      "execution_count": 29,
      "outputs": [
        {
          "output_type": "stream",
          "name": "stderr",
          "text": [
            "<ipython-input-29-8c8a96040aed>:1: RuntimeWarning: divide by zero encountered in remainder\n",
            "  a%b # Modulus of two arrays, elementwise modulus, carefully look the output\n"
          ]
        },
        {
          "output_type": "execute_result",
          "data": {
            "text/plain": [
              "array([0, 0, 1, 1, 1])"
            ]
          },
          "metadata": {},
          "execution_count": 29
        }
      ]
    },
    {
      "cell_type": "code",
      "source": [
        "a//b # Integer Division of two arrays, elementwise integer division, look the output carefully"
      ],
      "metadata": {
        "colab": {
          "base_uri": "https://localhost:8080/"
        },
        "id": "mo1kTVCYk8cg",
        "outputId": "f43ee43e-0d9d-46b6-d65a-30e60b9ee64a"
      },
      "execution_count": 31,
      "outputs": [
        {
          "output_type": "stream",
          "name": "stderr",
          "text": [
            "<ipython-input-31-29a295f202ac>:1: RuntimeWarning: divide by zero encountered in floor_divide\n",
            "  a//b # Integer Division of two arrays, elementwise integer division, look the output carefully\n"
          ]
        },
        {
          "output_type": "execute_result",
          "data": {
            "text/plain": [
              "array([0, 2, 1, 1, 1])"
            ]
          },
          "metadata": {},
          "execution_count": 31
        }
      ]
    },
    {
      "cell_type": "code",
      "source": [
        "a = np.array([1, 2, 3, 4]).reshape(2, 2)\n",
        "print(\"a =\\n\", a)\n",
        "b = np.array([5, 6, 7, 8]).reshape(2, 2)\n",
        "print(\"\\nb =\\n\", b)"
      ],
      "metadata": {
        "colab": {
          "base_uri": "https://localhost:8080/"
        },
        "id": "ohXU6Q7oi_J5",
        "outputId": "e681175b-b4b5-4263-b718-14ef683a722a"
      },
      "execution_count": 22,
      "outputs": [
        {
          "output_type": "stream",
          "name": "stdout",
          "text": [
            "a =\n",
            " [[1 2]\n",
            " [3 4]]\n",
            "\n",
            "b =\n",
            " [[5 6]\n",
            " [7 8]]\n"
          ]
        }
      ]
    },
    {
      "cell_type": "code",
      "source": [
        "a*b # Elementwise multiplication"
      ],
      "metadata": {
        "colab": {
          "base_uri": "https://localhost:8080/"
        },
        "id": "M-s1rsvqkDHe",
        "outputId": "f9c9bf14-95fb-400f-d9fe-adb5813b84d6"
      },
      "execution_count": 23,
      "outputs": [
        {
          "output_type": "execute_result",
          "data": {
            "text/plain": [
              "array([[ 5, 12],\n",
              "       [21, 32]])"
            ]
          },
          "metadata": {},
          "execution_count": 23
        }
      ]
    },
    {
      "cell_type": "code",
      "source": [
        "a.dot(b) # Matrix Multiplication i.e. ab"
      ],
      "metadata": {
        "colab": {
          "base_uri": "https://localhost:8080/"
        },
        "id": "2tRJbHu0kIMb",
        "outputId": "f2829c68-6ede-4615-fe29-7a7ded8c8d77"
      },
      "execution_count": 24,
      "outputs": [
        {
          "output_type": "execute_result",
          "data": {
            "text/plain": [
              "array([[19, 22],\n",
              "       [43, 50]])"
            ]
          },
          "metadata": {},
          "execution_count": 24
        }
      ]
    },
    {
      "cell_type": "markdown",
      "source": [
        "## Various Built-in Functions in NumPy\n",
        "- There are many built-in functions in NumPy library.\n",
        "- These functions have very less computational cost i.e. cost effective."
      ],
      "metadata": {
        "id": "Y6N-kfSglj7T"
      }
    },
    {
      "cell_type": "markdown",
      "source": [
        "### For 1D Array"
      ],
      "metadata": {
        "id": "HtXBtOB4sxMW"
      }
    },
    {
      "cell_type": "code",
      "source": [
        "import numpy as np\n",
        "np.random.seed(36)\n",
        "a = np.random.randint(10, 99, 12)\n",
        "a"
      ],
      "metadata": {
        "colab": {
          "base_uri": "https://localhost:8080/"
        },
        "id": "4tageIGykTYi",
        "outputId": "c43219fe-6799-46d3-df02-13f6371926f3"
      },
      "execution_count": 33,
      "outputs": [
        {
          "output_type": "execute_result",
          "data": {
            "text/plain": [
              "array([15, 40, 50, 43, 54, 19, 47, 65, 16, 74, 80, 80])"
            ]
          },
          "metadata": {},
          "execution_count": 33
        }
      ]
    },
    {
      "cell_type": "code",
      "source": [
        "np.sum(a) # Sum of all elements in the array"
      ],
      "metadata": {
        "colab": {
          "base_uri": "https://localhost:8080/"
        },
        "id": "SG9CsJGQrjYF",
        "outputId": "077a561f-5106-4e0d-9add-bc6866fd8eaf"
      },
      "execution_count": 52,
      "outputs": [
        {
          "output_type": "execute_result",
          "data": {
            "text/plain": [
              "583"
            ]
          },
          "metadata": {},
          "execution_count": 52
        }
      ]
    },
    {
      "cell_type": "code",
      "source": [
        "np.min(a) # Minimum element in the array"
      ],
      "metadata": {
        "colab": {
          "base_uri": "https://localhost:8080/"
        },
        "id": "nWT34-ZZmBqB",
        "outputId": "8187c132-1bf6-4250-e3fd-175f8244012b"
      },
      "execution_count": 34,
      "outputs": [
        {
          "output_type": "execute_result",
          "data": {
            "text/plain": [
              "15"
            ]
          },
          "metadata": {},
          "execution_count": 34
        }
      ]
    },
    {
      "cell_type": "code",
      "source": [
        "np.max(a) # Maximum element in the array"
      ],
      "metadata": {
        "colab": {
          "base_uri": "https://localhost:8080/"
        },
        "id": "_rRoIlyVmQSz",
        "outputId": "91f5de8d-1cfb-4c6e-b4b4-4468365cf77f"
      },
      "execution_count": 35,
      "outputs": [
        {
          "output_type": "execute_result",
          "data": {
            "text/plain": [
              "80"
            ]
          },
          "metadata": {},
          "execution_count": 35
        }
      ]
    },
    {
      "cell_type": "code",
      "source": [
        "np.argmin(a) # Index of the minimum element in the array"
      ],
      "metadata": {
        "colab": {
          "base_uri": "https://localhost:8080/"
        },
        "id": "IDRIpj9rmXcb",
        "outputId": "6ede9b14-5d36-4c8d-b14f-b19bd5f04ff0"
      },
      "execution_count": 36,
      "outputs": [
        {
          "output_type": "execute_result",
          "data": {
            "text/plain": [
              "0"
            ]
          },
          "metadata": {},
          "execution_count": 36
        }
      ]
    },
    {
      "cell_type": "code",
      "source": [
        "np.argmax(a) # Index of the maximum element in the array"
      ],
      "metadata": {
        "colab": {
          "base_uri": "https://localhost:8080/"
        },
        "id": "cur2Bp6Pmesc",
        "outputId": "893f0acc-2b3a-4169-bb53-5b8a30147cf1"
      },
      "execution_count": 37,
      "outputs": [
        {
          "output_type": "execute_result",
          "data": {
            "text/plain": [
              "10"
            ]
          },
          "metadata": {},
          "execution_count": 37
        }
      ]
    },
    {
      "cell_type": "code",
      "source": [
        "np.sqrt(a) # Square root of each element in the array"
      ],
      "metadata": {
        "colab": {
          "base_uri": "https://localhost:8080/"
        },
        "id": "FbjSqoTimlMV",
        "outputId": "10345b72-8393-4d59-e3f8-f0eb642c515e"
      },
      "execution_count": 38,
      "outputs": [
        {
          "output_type": "execute_result",
          "data": {
            "text/plain": [
              "array([3.87298335, 6.32455532, 7.07106781, 6.55743852, 7.34846923,\n",
              "       4.35889894, 6.8556546 , 8.06225775, 4.        , 8.60232527,\n",
              "       8.94427191, 8.94427191])"
            ]
          },
          "metadata": {},
          "execution_count": 38
        }
      ]
    },
    {
      "cell_type": "code",
      "source": [
        "np.sin(a) # Sine of each element in the array"
      ],
      "metadata": {
        "colab": {
          "base_uri": "https://localhost:8080/"
        },
        "id": "7D1JadZjmv14",
        "outputId": "f595116c-ef84-4870-e294-beb86d495a0a"
      },
      "execution_count": 39,
      "outputs": [
        {
          "output_type": "execute_result",
          "data": {
            "text/plain": [
              "array([ 0.65028784,  0.74511316, -0.26237485, -0.83177474, -0.55878905,\n",
              "        0.14987721,  0.12357312,  0.82682868, -0.28790332, -0.98514626,\n",
              "       -0.99388865, -0.99388865])"
            ]
          },
          "metadata": {},
          "execution_count": 39
        }
      ]
    },
    {
      "cell_type": "code",
      "source": [
        "np.cos(a) # Cosine of each element in the array"
      ],
      "metadata": {
        "colab": {
          "base_uri": "https://localhost:8080/"
        },
        "id": "soG5MPP0mzI2",
        "outputId": "34f38393-1139-4af3-b486-947185fabd83"
      },
      "execution_count": 40,
      "outputs": [
        {
          "output_type": "execute_result",
          "data": {
            "text/plain": [
              "array([-0.75968791, -0.66693806,  0.96496603,  0.5551133 , -0.82930983,\n",
              "        0.98870462, -0.99233547, -0.56245385, -0.95765948,  0.17171734,\n",
              "       -0.11038724, -0.11038724])"
            ]
          },
          "metadata": {},
          "execution_count": 40
        }
      ]
    },
    {
      "cell_type": "code",
      "source": [
        "np.tan(a) # Tangent of each element in the array"
      ],
      "metadata": {
        "colab": {
          "base_uri": "https://localhost:8080/"
        },
        "id": "lDNxIM3Cm09n",
        "outputId": "1e01848c-9cd5-4d73-b41f-061a3bdfd1f6"
      },
      "execution_count": 44,
      "outputs": [
        {
          "output_type": "execute_result",
          "data": {
            "text/plain": [
              "array([-0.8559934 , -1.11721493, -0.27190061, -1.49838734,  0.6738001 ,\n",
              "        0.15158947, -0.12452757, -1.47003826,  0.30063224, -5.73702254,\n",
              "        9.00365495,  9.00365495])"
            ]
          },
          "metadata": {},
          "execution_count": 44
        }
      ]
    },
    {
      "cell_type": "code",
      "source": [
        "b = np.linspace(1, 3, 6) # Returns a 6 length array starts with 1, ends with 3 of equidistance values\n",
        "b"
      ],
      "metadata": {
        "colab": {
          "base_uri": "https://localhost:8080/"
        },
        "id": "-wvsz7PWpk_f",
        "outputId": "6b8b14eb-ca54-4b7c-faf6-51c64fba882d"
      },
      "execution_count": 48,
      "outputs": [
        {
          "output_type": "execute_result",
          "data": {
            "text/plain": [
              "array([1. , 1.4, 1.8, 2.2, 2.6, 3. ])"
            ]
          },
          "metadata": {},
          "execution_count": 48
        }
      ]
    },
    {
      "cell_type": "code",
      "source": [
        "b = np.linspace(1, -1, 6) # Returns a 6 length array starts with 1, ends with -1 of equidistance values\n",
        "b"
      ],
      "metadata": {
        "colab": {
          "base_uri": "https://localhost:8080/"
        },
        "id": "zt9JF4qOqRz6",
        "outputId": "5288385e-8b02-4375-e432-7c602e401de0"
      },
      "execution_count": 51,
      "outputs": [
        {
          "output_type": "execute_result",
          "data": {
            "text/plain": [
              "array([ 1. ,  0.6,  0.2, -0.2, -0.6, -1. ])"
            ]
          },
          "metadata": {},
          "execution_count": 51
        }
      ]
    },
    {
      "cell_type": "markdown",
      "source": [
        "### For 2D or nD Array"
      ],
      "metadata": {
        "id": "mEoDH4mes3sC"
      }
    },
    {
      "cell_type": "code",
      "source": [
        "import numpy as np\n",
        "np.random.seed(36)\n",
        "a = np.random.randint(10, 99, 12).reshape(3, 4)\n",
        "a"
      ],
      "metadata": {
        "colab": {
          "base_uri": "https://localhost:8080/"
        },
        "id": "urYBmQwZrPhu",
        "outputId": "4ea68f29-2a72-4a85-fe2f-840e97610d79"
      },
      "execution_count": 53,
      "outputs": [
        {
          "output_type": "execute_result",
          "data": {
            "text/plain": [
              "array([[15, 40, 50, 43],\n",
              "       [54, 19, 47, 65],\n",
              "       [16, 74, 80, 80]])"
            ]
          },
          "metadata": {},
          "execution_count": 53
        }
      ]
    },
    {
      "cell_type": "code",
      "source": [
        "np.sum(a, axis = 0) # Sum of each column"
      ],
      "metadata": {
        "colab": {
          "base_uri": "https://localhost:8080/"
        },
        "id": "2GZRlo56ryC4",
        "outputId": "f6b8d372-1fbd-41cf-f976-79bfc53fcee0"
      },
      "execution_count": 54,
      "outputs": [
        {
          "output_type": "execute_result",
          "data": {
            "text/plain": [
              "array([ 85, 133, 177, 188])"
            ]
          },
          "metadata": {},
          "execution_count": 54
        }
      ]
    },
    {
      "cell_type": "code",
      "source": [
        "np.sum(a, axis = 1) # Sum of each row"
      ],
      "metadata": {
        "colab": {
          "base_uri": "https://localhost:8080/"
        },
        "id": "xVZdbqinr6Dc",
        "outputId": "e5b85114-a776-4530-b120-83612913ee5e"
      },
      "execution_count": 55,
      "outputs": [
        {
          "output_type": "execute_result",
          "data": {
            "text/plain": [
              "array([148, 185, 250])"
            ]
          },
          "metadata": {},
          "execution_count": 55
        }
      ]
    },
    {
      "cell_type": "code",
      "source": [
        "np.cumsum(a) # Cumulative sum of each element"
      ],
      "metadata": {
        "colab": {
          "base_uri": "https://localhost:8080/"
        },
        "id": "VevDdVWYr80q",
        "outputId": "81e9b2f9-82ec-4aed-f844-925a120753d4"
      },
      "execution_count": 57,
      "outputs": [
        {
          "output_type": "execute_result",
          "data": {
            "text/plain": [
              "array([ 15,  55, 105, 148, 202, 221, 268, 333, 349, 423, 503, 583])"
            ]
          },
          "metadata": {},
          "execution_count": 57
        }
      ]
    },
    {
      "cell_type": "code",
      "source": [
        "np.cumsum(a, axis = 0) # Cumulative sum of each column"
      ],
      "metadata": {
        "colab": {
          "base_uri": "https://localhost:8080/"
        },
        "id": "HnCZjWuesIMM",
        "outputId": "22f88aa2-492e-4fd2-9390-76d08f247890"
      },
      "execution_count": 58,
      "outputs": [
        {
          "output_type": "execute_result",
          "data": {
            "text/plain": [
              "array([[ 15,  40,  50,  43],\n",
              "       [ 69,  59,  97, 108],\n",
              "       [ 85, 133, 177, 188]])"
            ]
          },
          "metadata": {},
          "execution_count": 58
        }
      ]
    },
    {
      "cell_type": "code",
      "source": [
        "np.cumsum(a, axis = 1) # Cumulative sum of each row"
      ],
      "metadata": {
        "colab": {
          "base_uri": "https://localhost:8080/"
        },
        "id": "Oy54HYbEsKOL",
        "outputId": "36f82eba-2c0f-4dc2-d1ab-e80072de89cf"
      },
      "execution_count": 59,
      "outputs": [
        {
          "output_type": "execute_result",
          "data": {
            "text/plain": [
              "array([[ 15,  55, 105, 148],\n",
              "       [ 54,  73, 120, 185],\n",
              "       [ 16,  90, 170, 250]])"
            ]
          },
          "metadata": {},
          "execution_count": 59
        }
      ]
    },
    {
      "cell_type": "code",
      "source": [
        "np.min(a, axis = 0) # Minimum of each column"
      ],
      "metadata": {
        "colab": {
          "base_uri": "https://localhost:8080/"
        },
        "id": "gD6y1LtOsNvo",
        "outputId": "fe84be31-fccf-4e60-af85-9225a4fa8904"
      },
      "execution_count": 60,
      "outputs": [
        {
          "output_type": "execute_result",
          "data": {
            "text/plain": [
              "array([15, 19, 47, 43])"
            ]
          },
          "metadata": {},
          "execution_count": 60
        }
      ]
    },
    {
      "cell_type": "code",
      "source": [
        "np.max(a, axis = 1) # Maximum of each row"
      ],
      "metadata": {
        "colab": {
          "base_uri": "https://localhost:8080/"
        },
        "id": "KoXalC82sZ9f",
        "outputId": "0b5f8169-1ef4-49c5-8f51-57e7feb99ddc"
      },
      "execution_count": 62,
      "outputs": [
        {
          "output_type": "execute_result",
          "data": {
            "text/plain": [
              "array([50, 65, 80])"
            ]
          },
          "metadata": {},
          "execution_count": 62
        }
      ]
    },
    {
      "cell_type": "code",
      "source": [
        "c = np.random.randint(10, 99, 24).reshape(2, 3, 4)\n",
        "c"
      ],
      "metadata": {
        "colab": {
          "base_uri": "https://localhost:8080/"
        },
        "id": "yRFgaAFlsfy2",
        "outputId": "e5365e1e-4a0e-430b-fa6e-4453a621bd9c"
      },
      "execution_count": 63,
      "outputs": [
        {
          "output_type": "execute_result",
          "data": {
            "text/plain": [
              "array([[[32, 41, 11, 32],\n",
              "        [46, 24, 93, 87],\n",
              "        [40, 55, 31, 23]],\n",
              "\n",
              "       [[47, 32, 56, 35],\n",
              "        [77, 34, 51, 74],\n",
              "        [84, 88, 29, 98]]])"
            ]
          },
          "metadata": {},
          "execution_count": 63
        }
      ]
    },
    {
      "cell_type": "code",
      "source": [
        "c.shape"
      ],
      "metadata": {
        "colab": {
          "base_uri": "https://localhost:8080/"
        },
        "id": "t0rPmbKFthxN",
        "outputId": "1cd26cd0-85e6-4914-e5b2-770dfe8ee976"
      },
      "execution_count": 64,
      "outputs": [
        {
          "output_type": "execute_result",
          "data": {
            "text/plain": [
              "(2, 3, 4)"
            ]
          },
          "metadata": {},
          "execution_count": 64
        }
      ]
    },
    {
      "cell_type": "code",
      "source": [
        "np.mean(c, axis = 0) # Mean of each axis = 0 (2)"
      ],
      "metadata": {
        "colab": {
          "base_uri": "https://localhost:8080/"
        },
        "id": "Wx5G9w7ntk6U",
        "outputId": "05f93e25-49ec-40f4-f547-f8147beef1ae"
      },
      "execution_count": 65,
      "outputs": [
        {
          "output_type": "execute_result",
          "data": {
            "text/plain": [
              "array([[39.5, 36.5, 33.5, 33.5],\n",
              "       [61.5, 29. , 72. , 80.5],\n",
              "       [62. , 71.5, 30. , 60.5]])"
            ]
          },
          "metadata": {},
          "execution_count": 65
        }
      ]
    },
    {
      "cell_type": "code",
      "source": [
        "np.median(c, axis = 1) # Median of each axis = 1 (3)"
      ],
      "metadata": {
        "colab": {
          "base_uri": "https://localhost:8080/"
        },
        "id": "fur56zpKtrEe",
        "outputId": "f4852a63-4edd-4128-96d4-21e2519e17b7"
      },
      "execution_count": 66,
      "outputs": [
        {
          "output_type": "execute_result",
          "data": {
            "text/plain": [
              "array([[40., 41., 31., 32.],\n",
              "       [77., 34., 51., 74.]])"
            ]
          },
          "metadata": {},
          "execution_count": 66
        }
      ]
    },
    {
      "cell_type": "code",
      "source": [
        "np.sum(c, axis = 2) # Sum of each axis = 2 (4)"
      ],
      "metadata": {
        "colab": {
          "base_uri": "https://localhost:8080/"
        },
        "id": "1oK-y487tver",
        "outputId": "24beddef-937e-4e2c-d023-899a99d6cb09"
      },
      "execution_count": 69,
      "outputs": [
        {
          "output_type": "execute_result",
          "data": {
            "text/plain": [
              "array([[116, 250, 149],\n",
              "       [170, 236, 299]])"
            ]
          },
          "metadata": {},
          "execution_count": 69
        }
      ]
    },
    {
      "cell_type": "code",
      "source": [
        "np.random.shuffle(c) # Shuffling the array\n",
        "c"
      ],
      "metadata": {
        "colab": {
          "base_uri": "https://localhost:8080/"
        },
        "id": "EZ5x0onVt0SO",
        "outputId": "8c3c1c34-9a3b-4c85-f83f-a6e1de34b39d"
      },
      "execution_count": 77,
      "outputs": [
        {
          "output_type": "execute_result",
          "data": {
            "text/plain": [
              "array([[[32, 41, 11, 32],\n",
              "        [46, 24, 93, 87],\n",
              "        [40, 55, 31, 23]],\n",
              "\n",
              "       [[47, 32, 56, 35],\n",
              "        [77, 34, 51, 74],\n",
              "        [84, 88, 29, 98]]])"
            ]
          },
          "metadata": {},
          "execution_count": 77
        }
      ]
    },
    {
      "cell_type": "code",
      "source": [
        "np.unique(a, axis = 1) # Rowise unique elements in the array"
      ],
      "metadata": {
        "colab": {
          "base_uri": "https://localhost:8080/"
        },
        "id": "geaQAEw7vEet",
        "outputId": "675bf1d9-78d4-4fa5-d570-a4377d3b081b"
      },
      "execution_count": 78,
      "outputs": [
        {
          "output_type": "execute_result",
          "data": {
            "text/plain": [
              "array([[19, 47, 54, 65],\n",
              "       [40, 50, 15, 43],\n",
              "       [74, 80, 16, 80]])"
            ]
          },
          "metadata": {},
          "execution_count": 78
        }
      ]
    },
    {
      "cell_type": "code",
      "source": [
        "np.unique(c, axis = 0) # Unique elements in the array of axis = 0 (2)"
      ],
      "metadata": {
        "colab": {
          "base_uri": "https://localhost:8080/"
        },
        "id": "kK_Jm05fvO5H",
        "outputId": "00e22399-fbba-4979-d4b6-24bd510abe61"
      },
      "execution_count": 79,
      "outputs": [
        {
          "output_type": "execute_result",
          "data": {
            "text/plain": [
              "array([[[32, 41, 11, 32],\n",
              "        [46, 24, 93, 87],\n",
              "        [40, 55, 31, 23]],\n",
              "\n",
              "       [[47, 32, 56, 35],\n",
              "        [77, 34, 51, 74],\n",
              "        [84, 88, 29, 98]]])"
            ]
          },
          "metadata": {},
          "execution_count": 79
        }
      ]
    },
    {
      "cell_type": "code",
      "source": [
        "np.unique(c).size # Total number of unique elements in the array"
      ],
      "metadata": {
        "colab": {
          "base_uri": "https://localhost:8080/"
        },
        "id": "QRH5fEJXv7nh",
        "outputId": "3bb87ff2-d08b-474c-a27b-d16ed39095fa"
      },
      "execution_count": 80,
      "outputs": [
        {
          "output_type": "execute_result",
          "data": {
            "text/plain": [
              "22"
            ]
          },
          "metadata": {},
          "execution_count": 80
        }
      ]
    },
    {
      "cell_type": "code",
      "source": [
        "print(\"a =\\n\", a, \"\\n\")\n",
        "np.unique(a, return_index = True, return_counts = True) # Unique elements, their index and their count"
      ],
      "metadata": {
        "colab": {
          "base_uri": "https://localhost:8080/"
        },
        "id": "MZojjsJGwhFL",
        "outputId": "df359e8d-0b47-411a-e613-e86f2936c446"
      },
      "execution_count": 82,
      "outputs": [
        {
          "output_type": "stream",
          "name": "stdout",
          "text": [
            "a =\n",
            " [[54 19 47 65]\n",
            " [15 40 50 43]\n",
            " [16 74 80 80]] \n",
            "\n"
          ]
        },
        {
          "output_type": "execute_result",
          "data": {
            "text/plain": [
              "(array([15, 16, 19, 40, 43, 47, 50, 54, 65, 74, 80]),\n",
              " array([ 4,  8,  1,  5,  7,  2,  6,  0,  3,  9, 10]),\n",
              " array([1, 1, 1, 1, 1, 1, 1, 1, 1, 1, 2]))"
            ]
          },
          "metadata": {},
          "execution_count": 82
        }
      ]
    },
    {
      "cell_type": "markdown",
      "source": [
        "## Stacking in NumPy Arrays\n",
        "- There are mainly two types of stacking in 2D array, i.e. vertical stacking and horizontal stacking."
      ],
      "metadata": {
        "id": "n2nhAF7IxHdm"
      }
    },
    {
      "cell_type": "code",
      "source": [
        "import numpy as np\n"
      ],
      "metadata": {
        "id": "gB7Zh5nwwwet"
      },
      "execution_count": null,
      "outputs": []
    }
  ]
}