{
  "nbformat": 4,
  "nbformat_minor": 0,
  "metadata": {
    "colab": {
      "provenance": [],
      "authorship_tag": "ABX9TyOS0kHbF1LxeeCjQaXNlePk",
      "include_colab_link": true
    },
    "kernelspec": {
      "name": "python3",
      "display_name": "Python 3"
    },
    "language_info": {
      "name": "python"
    }
  },
  "cells": [
    {
      "cell_type": "markdown",
      "metadata": {
        "id": "view-in-github",
        "colab_type": "text"
      },
      "source": [
        "<a href=\"https://colab.research.google.com/github/Sourish168/Python/blob/main/NumPy/NumPy_Tutorial.ipynb\" target=\"_parent\"><img src=\"https://colab.research.google.com/assets/colab-badge.svg\" alt=\"Open In Colab\"/></a>"
      ]
    },
    {
      "cell_type": "markdown",
      "source": [
        "## Introduction to NumPy\n",
        "- <B>NumPy = Num(Numerical) + Py(Python)</B>\n",
        "- Mainly use for Mathematical and Logical calculations on arrays(Vector, Matrix, Tensor, n-dimensional array etc).\n",
        "- NumPy arrays are much more faster than Python Lists. Some reasons for this are \"Array is a collection of similar types of data\", NumPy is associated with C Programming etc.\n",
        "- There are many built-in functions for Linear Algebra and many more scientific calculations in NumPy.\n",
        "- For using all library functions of NumPy we can use the documentation: https://numpy.org/doc/stable/user/basics.html"
      ],
      "metadata": {
        "id": "rAF3SP4p6Fxi"
      }
    },
    {
      "cell_type": "markdown",
      "source": [
        "## Importing NumPy Library"
      ],
      "metadata": {
        "id": "UhkjljIV9hrJ"
      }
    },
    {
      "cell_type": "code",
      "execution_count": null,
      "metadata": {
        "colab": {
          "base_uri": "https://localhost:8080/"
        },
        "id": "bU-EG5dJ59PG",
        "outputId": "dcc606d2-414a-4e96-e7b8-1e435802aa12"
      },
      "outputs": [
        {
          "output_type": "stream",
          "name": "stdout",
          "text": [
            "Requirement already satisfied: numpy in /usr/local/lib/python3.10/dist-packages (1.26.4)\n"
          ]
        }
      ],
      "source": [
        "!pip install numpy # Installing NumPy Library (Only for Jupyter Command Line)"
      ]
    },
    {
      "cell_type": "code",
      "source": [
        "import numpy as np # Importing NumPy Library for using\n",
        "# Using this command we can use \"np\" in place of \"numpy\""
      ],
      "metadata": {
        "id": "v2n6m84b-JQ2"
      },
      "execution_count": null,
      "outputs": []
    },
    {
      "cell_type": "markdown",
      "source": [
        "## Executing Programs in NumPy\n",
        "- There are 2 modes in a Jupyter Notebook cell <B>(i)Command Mode</B> and <B> (ii)Edit Mode.</B>\n",
        "- We can write a code in a cell only in edit mode and after running the code it is in command mode.\n",
        "- We can use <B><I><U>HTML Tags for our markdown cell.</B></I></U>"
      ],
      "metadata": {
        "id": "fwi-m3viJla5"
      }
    },
    {
      "cell_type": "code",
      "source": [
        "import numpy as np\n",
        "a = [1, 2, 3, 5]\n",
        "a"
      ],
      "metadata": {
        "colab": {
          "base_uri": "https://localhost:8080/"
        },
        "id": "eT6d1SAn-aRd",
        "outputId": "b44d00e7-3a70-41f3-8305-c07c7cc76dcc"
      },
      "execution_count": null,
      "outputs": [
        {
          "output_type": "execute_result",
          "data": {
            "text/plain": [
              "[1, 2, 3, 5]"
            ]
          },
          "metadata": {},
          "execution_count": 3
        }
      ]
    },
    {
      "cell_type": "markdown",
      "source": [
        "## Creating an Array using NumPy\n",
        "- Using NumPy we can create n-dimensional arrays.\n",
        "- We can input the values of the array from the user and make the numpy array."
      ],
      "metadata": {
        "id": "1oOx7zjZ9Nqi"
      }
    },
    {
      "cell_type": "code",
      "source": [
        "import numpy as np\n",
        "a = [1, 2, 3, 4, 5]\n",
        "arr = np.array(a)\n",
        "arr"
      ],
      "metadata": {
        "id": "nsJbA9RSK9w-",
        "colab": {
          "base_uri": "https://localhost:8080/"
        },
        "outputId": "0df45232-3ea4-4def-f9bb-defdb77c645e"
      },
      "execution_count": null,
      "outputs": [
        {
          "output_type": "execute_result",
          "data": {
            "text/plain": [
              "array([1, 2, 3, 4, 5])"
            ]
          },
          "metadata": {},
          "execution_count": 4
        }
      ]
    },
    {
      "cell_type": "code",
      "source": [
        "arr = np.array([1, 2, 3, 4, 5])\n",
        "arr"
      ],
      "metadata": {
        "id": "6f_KNAFke2j0",
        "colab": {
          "base_uri": "https://localhost:8080/"
        },
        "outputId": "d6f07b00-8e73-4478-d1ac-b5d3dd94ee19"
      },
      "execution_count": null,
      "outputs": [
        {
          "output_type": "execute_result",
          "data": {
            "text/plain": [
              "array([1, 2, 3, 4, 5])"
            ]
          },
          "metadata": {},
          "execution_count": 5
        }
      ]
    },
    {
      "cell_type": "code",
      "source": [
        "a = []\n",
        "n = int(input(\"Enter the size of an array: \"))\n",
        "for i in range(n):\n",
        "    val = int(input(f\"Enter input number {i+1}: \"))\n",
        "    a.append(val)\n",
        "arr = np.array(a)\n",
        "print(\"\\nThe created array is:\", arr)"
      ],
      "metadata": {
        "colab": {
          "base_uri": "https://localhost:8080/"
        },
        "id": "IEVZwvBaBYze",
        "outputId": "dd5de859-2f5a-4155-a678-8a452d03901a"
      },
      "execution_count": null,
      "outputs": [
        {
          "output_type": "stream",
          "name": "stdout",
          "text": [
            "Enter the size of an array: 5\n",
            "Enter input number 1: 6\n",
            "Enter input number 2: 11\n",
            "Enter input number 3: 5\n",
            "Enter input number 4: 2\n",
            "Enter input number 5: 9\n",
            "\n",
            "The created array is: [ 6 11  5  2  9]\n"
          ]
        }
      ]
    },
    {
      "cell_type": "markdown",
      "source": [
        "## Creating Higher Dimensional Arrays using NumPy"
      ],
      "metadata": {
        "id": "Hn_qKcRiD1Jt"
      }
    },
    {
      "cell_type": "code",
      "source": [
        "import numpy as np\n",
        "a = [[1, 2, 3],[4, 5, 6], [7, 8, 9]]\n",
        "arr = np.array(a)\n",
        "arr"
      ],
      "metadata": {
        "colab": {
          "base_uri": "https://localhost:8080/"
        },
        "id": "K6xVbLxmDGck",
        "outputId": "192c2dee-ec25-4dd8-e8e3-6d9864f3d398"
      },
      "execution_count": null,
      "outputs": [
        {
          "output_type": "execute_result",
          "data": {
            "text/plain": [
              "array([[1, 2, 3],\n",
              "       [4, 5, 6],\n",
              "       [7, 8, 9]])"
            ]
          },
          "metadata": {},
          "execution_count": 7
        }
      ]
    },
    {
      "cell_type": "code",
      "source": [
        "arr.ndim # Checking the dimension of the array"
      ],
      "metadata": {
        "colab": {
          "base_uri": "https://localhost:8080/"
        },
        "id": "FzGO3uxbAZlD",
        "outputId": "48ffa7bd-183d-41af-c763-8ebf801cfb53"
      },
      "execution_count": null,
      "outputs": [
        {
          "output_type": "execute_result",
          "data": {
            "text/plain": [
              "2"
            ]
          },
          "metadata": {},
          "execution_count": 9
        }
      ]
    },
    {
      "cell_type": "code",
      "source": [
        "arr.shape # Checking the shape of the array"
      ],
      "metadata": {
        "colab": {
          "base_uri": "https://localhost:8080/"
        },
        "id": "XLCXri5GAdaL",
        "outputId": "a32ceabb-b30a-42a0-d1e3-834a257b5ac8"
      },
      "execution_count": null,
      "outputs": [
        {
          "output_type": "execute_result",
          "data": {
            "text/plain": [
              "(3, 3)"
            ]
          },
          "metadata": {},
          "execution_count": 14
        }
      ]
    },
    {
      "cell_type": "markdown",
      "source": [
        "## NumPy Built-in Functions\n",
        "- Special Functions, that can easily implemented by NumPy.\n",
        "- E.g. numpy.zeros, numpy.ones, numpy.eye etc."
      ],
      "metadata": {
        "id": "hIfHTX8IB20j"
      }
    },
    {
      "cell_type": "code",
      "source": [
        "import numpy as np\n",
        "a = np.zeros(4) # Creating an one dimensional array of zeros\n",
        "b = np.zeros((3, 4)) # Creating a two dimensional array of zeros\n",
        "c = np.zeros((3, 4, 2)) # Creating a three dimensional array of zeros\n",
        "print(\"Array a:\\n\", a)\n",
        "print(\"\\nArray b:\\n\", b)\n",
        "print(\"\\nArray c:\\n\", c)"
      ],
      "metadata": {
        "id": "QA6GWKC5BjPx",
        "colab": {
          "base_uri": "https://localhost:8080/"
        },
        "outputId": "79bd5f52-32a5-469d-ddb1-73b04d8e2c00"
      },
      "execution_count": 1,
      "outputs": [
        {
          "output_type": "stream",
          "name": "stdout",
          "text": [
            "Array a:\n",
            " [0. 0. 0. 0.]\n",
            "\n",
            "Array b:\n",
            " [[0. 0. 0. 0.]\n",
            " [0. 0. 0. 0.]\n",
            " [0. 0. 0. 0.]]\n",
            "\n",
            "Array c:\n",
            " [[[0. 0.]\n",
            "  [0. 0.]\n",
            "  [0. 0.]\n",
            "  [0. 0.]]\n",
            "\n",
            " [[0. 0.]\n",
            "  [0. 0.]\n",
            "  [0. 0.]\n",
            "  [0. 0.]]\n",
            "\n",
            " [[0. 0.]\n",
            "  [0. 0.]\n",
            "  [0. 0.]\n",
            "  [0. 0.]]]\n"
          ]
        }
      ]
    },
    {
      "cell_type": "code",
      "source": [
        "a = np.ones(4) # Creating an one dimensional array of ones\n",
        "b = np.ones((3, 4)) # Creating a two dimensional array of ones\n",
        "c = np.ones((3, 4, 2)) # Creating a three dimensional array of ones\n",
        "print(\"Array a:\\n\", a)\n",
        "print(\"\\nArray b:\\n\", b)\n",
        "print(\"\\nArray c:\\n\", c)"
      ],
      "metadata": {
        "colab": {
          "base_uri": "https://localhost:8080/"
        },
        "id": "QGulbm4fFqOi",
        "outputId": "0f5185d5-7635-4cb3-8b58-fc55255ff849"
      },
      "execution_count": 2,
      "outputs": [
        {
          "output_type": "stream",
          "name": "stdout",
          "text": [
            "Array a:\n",
            " [1. 1. 1. 1.]\n",
            "\n",
            "Array b:\n",
            " [[1. 1. 1. 1.]\n",
            " [1. 1. 1. 1.]\n",
            " [1. 1. 1. 1.]]\n",
            "\n",
            "Array c:\n",
            " [[[1. 1.]\n",
            "  [1. 1.]\n",
            "  [1. 1.]\n",
            "  [1. 1.]]\n",
            "\n",
            " [[1. 1.]\n",
            "  [1. 1.]\n",
            "  [1. 1.]\n",
            "  [1. 1.]]\n",
            "\n",
            " [[1. 1.]\n",
            "  [1. 1.]\n",
            "  [1. 1.]\n",
            "  [1. 1.]]]\n"
          ]
        }
      ]
    },
    {
      "cell_type": "code",
      "source": [
        "a = np.eye(3) # Creating an identity matrix\n",
        "b = np.eye(3, 4) # Creating a matrix with ones on the diagonal\n",
        "c = np.eye(3, 4, 1) # Creating a matrix with ones on the diagonal with a shift of 1\n",
        "print(\"Array a:\\n\", a)\n",
        "print(\"\\nArray b:\\n\", b)\n",
        "print(\"\\nArray c:\\n\", c)"
      ],
      "metadata": {
        "colab": {
          "base_uri": "https://localhost:8080/"
        },
        "id": "n9bDw_JwF2ep",
        "outputId": "ee755ff5-877e-4db1-c6f6-63a48a1540b9"
      },
      "execution_count": 3,
      "outputs": [
        {
          "output_type": "stream",
          "name": "stdout",
          "text": [
            "Array a:\n",
            " [[1. 0. 0.]\n",
            " [0. 1. 0.]\n",
            " [0. 0. 1.]]\n",
            "\n",
            "Array b:\n",
            " [[1. 0. 0. 0.]\n",
            " [0. 1. 0. 0.]\n",
            " [0. 0. 1. 0.]]\n",
            "\n",
            "Array c:\n",
            " [[0. 1. 0. 0.]\n",
            " [0. 0. 1. 0.]\n",
            " [0. 0. 0. 1.]]\n"
          ]
        }
      ]
    },
    {
      "cell_type": "code",
      "source": [
        "a = np.diag([1, 2, 3, 4]) # Creating a diagonal matrix\n",
        "b = np.diag(a) # Extracting the diagonal elements of a matrix\n",
        "c = np.diag(a, 1) # Extracting the diagonal elements of a matrix with a shift of 1\n",
        "print(\"Array a:\\n\", a)\n",
        "print(\"\\nArray b:\\n\", b)\n",
        "print(\"\\nArray c:\\n\", c)"
      ],
      "metadata": {
        "colab": {
          "base_uri": "https://localhost:8080/"
        },
        "id": "Tr5PSJ3pGEGL",
        "outputId": "51bc04b5-d888-4a3c-bbff-5697dc8a5f62"
      },
      "execution_count": 4,
      "outputs": [
        {
          "output_type": "stream",
          "name": "stdout",
          "text": [
            "Array a:\n",
            " [[1 0 0 0]\n",
            " [0 2 0 0]\n",
            " [0 0 3 0]\n",
            " [0 0 0 4]]\n",
            "\n",
            "Array b:\n",
            " [1 2 3 4]\n",
            "\n",
            "Array c:\n",
            " [0 0 0]\n"
          ]
        }
      ]
    },
    {
      "cell_type": "code",
      "source": [
        "a = np.random.randint(1, 10, 3) # Creating an array of random integers\n",
        "print(\"Array a:\\n\", a) # Generating 3 random integers from [1, 10)\n",
        "b = np.random.randint(1, 10, (3, 4)) # Creating a 2D array of random integers\n",
        "print(\"\\nArray b:\\n\", b) # Generating 3x4 random integers from [1, 10)"
      ],
      "metadata": {
        "colab": {
          "base_uri": "https://localhost:8080/"
        },
        "id": "tmUC5OqZGpIv",
        "outputId": "730a383f-c442-4228-d34f-1213231b31e5"
      },
      "execution_count": 12,
      "outputs": [
        {
          "output_type": "stream",
          "name": "stdout",
          "text": [
            "Array a:\n",
            " [7 4 1]\n",
            "\n",
            "Array b:\n",
            " [[1 5 8 1]\n",
            " [3 9 3 7]\n",
            " [4 6 7 8]]\n"
          ]
        }
      ]
    },
    {
      "cell_type": "code",
      "source": [
        "a = np.random.rand(5) # Creating an array of random floats\n",
        "print(\"Array a:\\n\", a) # Generating 5 random floats from [0, 1)\n",
        "b = np.random.rand(2, 3) # Creating a 2D array of random floats\n",
        "print(\"\\nArray b:\\n\", b) # Generating 2x3 random floats from [0, 1)"
      ],
      "metadata": {
        "colab": {
          "base_uri": "https://localhost:8080/"
        },
        "id": "gVTH_cpl_8ug",
        "outputId": "3d47ca7d-3497-4cd3-cb09-dad54894d92d"
      },
      "execution_count": 13,
      "outputs": [
        {
          "output_type": "stream",
          "name": "stdout",
          "text": [
            "Array a:\n",
            " [0.55277799 0.5176199  0.40930526 0.72178699 0.76080423]\n",
            "\n",
            "Array b:\n",
            " [[0.48978169 0.25775549 0.58591398]\n",
            " [0.46457312 0.56777098 0.24875954]]\n"
          ]
        }
      ]
    },
    {
      "cell_type": "code",
      "source": [
        "a = np.random.randn(5) # Creating an array of random floats from Normal Distribution\n",
        "print(\"Array a:\\n\", a) # Generating 5 random floats from N(0, 1)\n",
        "b = np.random.randn(2, 3) # Creating a 2D array of random floats from Normal Distribution\n",
        "print(\"\\nArray b:\\n\", b) # Generating 2x3 random floats from N(0, 1)"
      ],
      "metadata": {
        "colab": {
          "base_uri": "https://localhost:8080/"
        },
        "id": "01G1E3KCAoQp",
        "outputId": "99334488-be56-4689-e99c-1f90d55d4e2e"
      },
      "execution_count": 14,
      "outputs": [
        {
          "output_type": "stream",
          "name": "stdout",
          "text": [
            "Array a:\n",
            " [ 1.36204427  0.04571876 -1.57136699 -0.83153114  0.77537055]\n",
            "\n",
            "Array b:\n",
            " [[-0.81121094  0.9561041  -0.57351008]\n",
            " [ 0.12873472  1.83902549  0.13402432]]\n"
          ]
        }
      ]
    },
    {
      "cell_type": "code",
      "source": [],
      "metadata": {
        "id": "WlulJy2-B5RA"
      },
      "execution_count": null,
      "outputs": []
    }
  ]
}