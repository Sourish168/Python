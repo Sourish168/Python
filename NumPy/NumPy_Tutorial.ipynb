{
  "nbformat": 4,
  "nbformat_minor": 0,
  "metadata": {
    "colab": {
      "provenance": [],
      "collapsed_sections": [
        "UhkjljIV9hrJ",
        "fwi-m3viJla5",
        "1oOx7zjZ9Nqi",
        "Hn_qKcRiD1Jt",
        "hIfHTX8IB20j",
        "IKavqWuFCoNl",
        "3rcTNYw9RxbV",
        "W7kAWcdxXWx8",
        "9PfkooDVZ-KC",
        "I84a44xCPcmT",
        "1VMMSCk5DvC9",
        "Y6N-kfSglj7T",
        "HtXBtOB4sxMW",
        "mEoDH4mes3sC"
      ],
      "authorship_tag": "ABX9TyPzReM2850dK0NipWcEIXE8",
      "include_colab_link": true
    },
    "kernelspec": {
      "name": "python3",
      "display_name": "Python 3"
    },
    "language_info": {
      "name": "python"
    }
  },
  "cells": [
    {
      "cell_type": "markdown",
      "metadata": {
        "id": "view-in-github",
        "colab_type": "text"
      },
      "source": [
        "<a href=\"https://colab.research.google.com/github/Sourish168/Python/blob/main/NumPy/NumPy_Tutorial.ipynb\" target=\"_parent\"><img src=\"https://colab.research.google.com/assets/colab-badge.svg\" alt=\"Open In Colab\"/></a>"
      ]
    },
    {
      "cell_type": "markdown",
      "source": [
        "## Introduction to NumPy\n",
        "- <B>NumPy = Num(Numerical) + Py(Python)</B>\n",
        "- Mainly use for Mathematical and Logical calculations on arrays(Vector, Matrix, Tensor, n-dimensional array etc).\n",
        "- NumPy arrays are much more faster than Python Lists. Some reasons for this are \"Array is a collection of similar types of data\", NumPy is associated with C Programming etc.\n",
        "- There are many built-in functions for Linear Algebra and many more scientific calculations in NumPy.\n",
        "- For using all library functions of NumPy we can use the documentation: https://numpy.org/doc/stable/user/basics.html"
      ],
      "metadata": {
        "id": "rAF3SP4p6Fxi"
      }
    },
    {
      "cell_type": "markdown",
      "source": [
        "## Importing NumPy Library"
      ],
      "metadata": {
        "id": "UhkjljIV9hrJ"
      }
    },
    {
      "cell_type": "code",
      "execution_count": 1,
      "metadata": {
        "colab": {
          "base_uri": "https://localhost:8080/"
        },
        "id": "bU-EG5dJ59PG",
        "outputId": "d775b3b8-575e-46ad-e577-95931a3fba21"
      },
      "outputs": [
        {
          "output_type": "stream",
          "name": "stdout",
          "text": [
            "Requirement already satisfied: numpy in /usr/local/lib/python3.10/dist-packages (1.26.4)\n"
          ]
        }
      ],
      "source": [
        "!pip install numpy # Installing NumPy Library (Only for Jupyter Command Line)"
      ]
    },
    {
      "cell_type": "code",
      "source": [
        "import numpy as np # Importing NumPy Library for using\n",
        "# Using this command we can use \"np\" in place of \"numpy\""
      ],
      "metadata": {
        "id": "v2n6m84b-JQ2"
      },
      "execution_count": 2,
      "outputs": []
    },
    {
      "cell_type": "markdown",
      "source": [
        "## Executing Programs in NumPy\n",
        "- There are 2 modes in a Jupyter Notebook cell <B>(i)Command Mode</B> and <B> (ii)Edit Mode.</B>\n",
        "- We can write a code in a cell only in edit mode and after running the code it is in command mode.\n",
        "- We can use <B><I><U>HTML Tags for our markdown cell.</B></I></U>"
      ],
      "metadata": {
        "id": "fwi-m3viJla5"
      }
    },
    {
      "cell_type": "code",
      "source": [
        "import numpy as np\n",
        "a = [1, 2, 3, 5]\n",
        "a"
      ],
      "metadata": {
        "colab": {
          "base_uri": "https://localhost:8080/"
        },
        "id": "eT6d1SAn-aRd",
        "outputId": "935ba5ca-f442-410b-908e-5fc1acce1c9a"
      },
      "execution_count": 3,
      "outputs": [
        {
          "output_type": "execute_result",
          "data": {
            "text/plain": [
              "[1, 2, 3, 5]"
            ]
          },
          "metadata": {},
          "execution_count": 3
        }
      ]
    },
    {
      "cell_type": "markdown",
      "source": [
        "## Creating an Array using NumPy\n",
        "- Using NumPy we can create n-dimensional arrays.\n",
        "- We can input the values of the array from the user and make the numpy array."
      ],
      "metadata": {
        "id": "1oOx7zjZ9Nqi"
      }
    },
    {
      "cell_type": "code",
      "source": [
        "import numpy as np\n",
        "a = [1, 2, 3, 4, 5]\n",
        "arr = np.array(a)\n",
        "arr"
      ],
      "metadata": {
        "id": "nsJbA9RSK9w-",
        "colab": {
          "base_uri": "https://localhost:8080/"
        },
        "outputId": "bfe7553a-89c8-4e55-8446-9e63563fdd43"
      },
      "execution_count": 4,
      "outputs": [
        {
          "output_type": "execute_result",
          "data": {
            "text/plain": [
              "array([1, 2, 3, 4, 5])"
            ]
          },
          "metadata": {},
          "execution_count": 4
        }
      ]
    },
    {
      "cell_type": "code",
      "source": [
        "arr = np.array([1, 2, 3, 4, 5])\n",
        "arr"
      ],
      "metadata": {
        "id": "6f_KNAFke2j0",
        "colab": {
          "base_uri": "https://localhost:8080/"
        },
        "outputId": "4e4da9db-2270-4e28-f108-47681c99df7c"
      },
      "execution_count": 5,
      "outputs": [
        {
          "output_type": "execute_result",
          "data": {
            "text/plain": [
              "array([1, 2, 3, 4, 5])"
            ]
          },
          "metadata": {},
          "execution_count": 5
        }
      ]
    },
    {
      "cell_type": "code",
      "source": [
        "a = []\n",
        "n = int(input(\"Enter the size of an array: \"))\n",
        "for i in range(n):\n",
        "    val = int(input(f\"Enter input number {i+1}: \"))\n",
        "    a.append(val)\n",
        "arr = np.array(a)\n",
        "print(\"\\nThe created array is:\", arr)"
      ],
      "metadata": {
        "colab": {
          "base_uri": "https://localhost:8080/"
        },
        "id": "IEVZwvBaBYze",
        "outputId": "994eaa0c-73e7-4dd0-eb2f-252cd24fcc7e"
      },
      "execution_count": 6,
      "outputs": [
        {
          "output_type": "stream",
          "name": "stdout",
          "text": [
            "Enter the size of an array: 6\n",
            "Enter input number 1: 14\n",
            "Enter input number 2: 22\n",
            "Enter input number 3: 16\n",
            "Enter input number 4: 9\n",
            "Enter input number 5: 3\n",
            "Enter input number 6: 134\n",
            "\n",
            "The created array is: [ 14  22  16   9   3 134]\n"
          ]
        }
      ]
    },
    {
      "cell_type": "markdown",
      "source": [
        "## Creating Higher Dimensional Arrays using NumPy"
      ],
      "metadata": {
        "id": "Hn_qKcRiD1Jt"
      }
    },
    {
      "cell_type": "code",
      "source": [
        "import numpy as np\n",
        "a = [[1, 2, 3],[4, 5, 6], [7, 8, 9]]\n",
        "arr = np.array(a)\n",
        "arr"
      ],
      "metadata": {
        "colab": {
          "base_uri": "https://localhost:8080/"
        },
        "id": "K6xVbLxmDGck",
        "outputId": "96653e93-e409-4879-bdba-e01a4e723e76"
      },
      "execution_count": 7,
      "outputs": [
        {
          "output_type": "execute_result",
          "data": {
            "text/plain": [
              "array([[1, 2, 3],\n",
              "       [4, 5, 6],\n",
              "       [7, 8, 9]])"
            ]
          },
          "metadata": {},
          "execution_count": 7
        }
      ]
    },
    {
      "cell_type": "code",
      "source": [
        "arr.ndim # Checking the dimension of the array"
      ],
      "metadata": {
        "colab": {
          "base_uri": "https://localhost:8080/"
        },
        "id": "FzGO3uxbAZlD",
        "outputId": "10e039bd-2980-41ff-f1a5-c2acab55da0c"
      },
      "execution_count": 8,
      "outputs": [
        {
          "output_type": "execute_result",
          "data": {
            "text/plain": [
              "2"
            ]
          },
          "metadata": {},
          "execution_count": 8
        }
      ]
    },
    {
      "cell_type": "code",
      "source": [
        "arr.shape # Checking the shape of the array"
      ],
      "metadata": {
        "colab": {
          "base_uri": "https://localhost:8080/"
        },
        "id": "XLCXri5GAdaL",
        "outputId": "4a9d8399-97e5-468c-d384-09384cd86dab"
      },
      "execution_count": 9,
      "outputs": [
        {
          "output_type": "execute_result",
          "data": {
            "text/plain": [
              "(3, 3)"
            ]
          },
          "metadata": {},
          "execution_count": 9
        }
      ]
    },
    {
      "cell_type": "markdown",
      "source": [
        "## NumPy Built-in Functions\n",
        "- Special Functions, that can easily implemented by NumPy.\n",
        "- E.g. numpy.zeros, numpy.ones, numpy.eye, numpy.random etc."
      ],
      "metadata": {
        "id": "hIfHTX8IB20j"
      }
    },
    {
      "cell_type": "code",
      "source": [
        "import numpy as np\n",
        "a = np.zeros(4) # Creating an one dimensional array of zeros\n",
        "b = np.zeros((3, 4)) # Creating a two dimensional array of zeros\n",
        "c = np.zeros((3, 4, 2)) # Creating a three dimensional array of zeros\n",
        "print(\"Array a:\\n\", a)\n",
        "print(\"\\nArray b:\\n\", b)\n",
        "print(\"\\nArray c:\\n\", c)"
      ],
      "metadata": {
        "id": "QA6GWKC5BjPx",
        "colab": {
          "base_uri": "https://localhost:8080/"
        },
        "outputId": "cd38d661-b716-43ba-8dd8-bef69834bbf5"
      },
      "execution_count": 10,
      "outputs": [
        {
          "output_type": "stream",
          "name": "stdout",
          "text": [
            "Array a:\n",
            " [0. 0. 0. 0.]\n",
            "\n",
            "Array b:\n",
            " [[0. 0. 0. 0.]\n",
            " [0. 0. 0. 0.]\n",
            " [0. 0. 0. 0.]]\n",
            "\n",
            "Array c:\n",
            " [[[0. 0.]\n",
            "  [0. 0.]\n",
            "  [0. 0.]\n",
            "  [0. 0.]]\n",
            "\n",
            " [[0. 0.]\n",
            "  [0. 0.]\n",
            "  [0. 0.]\n",
            "  [0. 0.]]\n",
            "\n",
            " [[0. 0.]\n",
            "  [0. 0.]\n",
            "  [0. 0.]\n",
            "  [0. 0.]]]\n"
          ]
        }
      ]
    },
    {
      "cell_type": "code",
      "source": [
        "a = np.ones(4) # Creating an one dimensional array of ones\n",
        "b = np.ones((3, 4)) # Creating a two dimensional array of ones\n",
        "c = np.ones((3, 4, 2)) # Creating a three dimensional array of ones\n",
        "print(\"Array a:\\n\", a)\n",
        "print(\"\\nArray b:\\n\", b)\n",
        "print(\"\\nArray c:\\n\", c)"
      ],
      "metadata": {
        "colab": {
          "base_uri": "https://localhost:8080/"
        },
        "id": "QGulbm4fFqOi",
        "outputId": "a356af23-e3c3-4dba-d86a-1d3abcd8bbc4"
      },
      "execution_count": 11,
      "outputs": [
        {
          "output_type": "stream",
          "name": "stdout",
          "text": [
            "Array a:\n",
            " [1. 1. 1. 1.]\n",
            "\n",
            "Array b:\n",
            " [[1. 1. 1. 1.]\n",
            " [1. 1. 1. 1.]\n",
            " [1. 1. 1. 1.]]\n",
            "\n",
            "Array c:\n",
            " [[[1. 1.]\n",
            "  [1. 1.]\n",
            "  [1. 1.]\n",
            "  [1. 1.]]\n",
            "\n",
            " [[1. 1.]\n",
            "  [1. 1.]\n",
            "  [1. 1.]\n",
            "  [1. 1.]]\n",
            "\n",
            " [[1. 1.]\n",
            "  [1. 1.]\n",
            "  [1. 1.]\n",
            "  [1. 1.]]]\n"
          ]
        }
      ]
    },
    {
      "cell_type": "code",
      "source": [
        "a = np.eye(3) # Creating an identity matrix\n",
        "b = np.eye(3, 4) # Creating a matrix with ones on the diagonal\n",
        "c = np.eye(3, 4, 1) # Creating a matrix with ones on the diagonal with a shift of 1\n",
        "print(\"Array a:\\n\", a)\n",
        "print(\"\\nArray b:\\n\", b)\n",
        "print(\"\\nArray c:\\n\", c)"
      ],
      "metadata": {
        "colab": {
          "base_uri": "https://localhost:8080/"
        },
        "id": "n9bDw_JwF2ep",
        "outputId": "9cd12692-88cd-46e1-97c2-03841f0ceba9"
      },
      "execution_count": 12,
      "outputs": [
        {
          "output_type": "stream",
          "name": "stdout",
          "text": [
            "Array a:\n",
            " [[1. 0. 0.]\n",
            " [0. 1. 0.]\n",
            " [0. 0. 1.]]\n",
            "\n",
            "Array b:\n",
            " [[1. 0. 0. 0.]\n",
            " [0. 1. 0. 0.]\n",
            " [0. 0. 1. 0.]]\n",
            "\n",
            "Array c:\n",
            " [[0. 1. 0. 0.]\n",
            " [0. 0. 1. 0.]\n",
            " [0. 0. 0. 1.]]\n"
          ]
        }
      ]
    },
    {
      "cell_type": "code",
      "source": [
        "a = np.diag([1, 2, 3, 4]) # Creating a diagonal matrix\n",
        "b = np.diag(a) # Extracting the diagonal elements of a matrix\n",
        "c = np.diag(a, 1) # Extracting the diagonal elements of a matrix with a shift of 1\n",
        "print(\"Array a:\\n\", a)\n",
        "print(\"\\nArray b:\\n\", b)\n",
        "print(\"\\nArray c:\\n\", c)"
      ],
      "metadata": {
        "colab": {
          "base_uri": "https://localhost:8080/"
        },
        "id": "Tr5PSJ3pGEGL",
        "outputId": "c83cfb62-f27e-4466-c240-c0221237b17d"
      },
      "execution_count": 13,
      "outputs": [
        {
          "output_type": "stream",
          "name": "stdout",
          "text": [
            "Array a:\n",
            " [[1 0 0 0]\n",
            " [0 2 0 0]\n",
            " [0 0 3 0]\n",
            " [0 0 0 4]]\n",
            "\n",
            "Array b:\n",
            " [1 2 3 4]\n",
            "\n",
            "Array c:\n",
            " [0 0 0]\n"
          ]
        }
      ]
    },
    {
      "cell_type": "code",
      "source": [
        "a = np.random.randint(1, 10, 3) # Creating an array of random integers\n",
        "print(\"Array a:\\n\", a) # Generating 3 random integers from [1, 10)\n",
        "b = np.random.randint(1, 10, (3, 4)) # Creating a 2D array of random integers\n",
        "print(\"\\nArray b:\\n\", b) # Generating 3x4 random integers from [1, 10)"
      ],
      "metadata": {
        "colab": {
          "base_uri": "https://localhost:8080/"
        },
        "id": "tmUC5OqZGpIv",
        "outputId": "99ef92a7-a894-41d2-ee56-0125f117da80"
      },
      "execution_count": 14,
      "outputs": [
        {
          "output_type": "stream",
          "name": "stdout",
          "text": [
            "Array a:\n",
            " [8 6 8]\n",
            "\n",
            "Array b:\n",
            " [[9 7 7 9]\n",
            " [1 5 9 5]\n",
            " [8 9 8 6]]\n"
          ]
        }
      ]
    },
    {
      "cell_type": "code",
      "source": [
        "a = np.random.rand(5) # Creating an array of random floats\n",
        "print(\"Array a:\\n\", a) # Generating 5 random floats from [0, 1)\n",
        "b = np.random.rand(2, 3) # Creating a 2D array of random floats\n",
        "print(\"\\nArray b:\\n\", b) # Generating 2x3 random floats from [0, 1)"
      ],
      "metadata": {
        "colab": {
          "base_uri": "https://localhost:8080/"
        },
        "id": "gVTH_cpl_8ug",
        "outputId": "37da6c79-fcb5-47cf-f8a9-a508305f6b24"
      },
      "execution_count": 15,
      "outputs": [
        {
          "output_type": "stream",
          "name": "stdout",
          "text": [
            "Array a:\n",
            " [0.66370314 0.26710126 0.02765466 0.4286807  0.19789998]\n",
            "\n",
            "Array b:\n",
            " [[0.58734245 0.50733892 0.07531211]\n",
            " [0.16039443 0.25859461 0.82623417]]\n"
          ]
        }
      ]
    },
    {
      "cell_type": "code",
      "source": [
        "a = np.random.randn(5) # Creating an array of random floats from Normal Distribution\n",
        "print(\"Array a:\\n\", a) # Generating 5 random floats from N(0, 1)\n",
        "b = np.random.randn(2, 3) # Creating a 2D array of random floats from Normal Distribution\n",
        "print(\"\\nArray b:\\n\", b) # Generating 2x3 random floats from N(0, 1)"
      ],
      "metadata": {
        "colab": {
          "base_uri": "https://localhost:8080/"
        },
        "id": "01G1E3KCAoQp",
        "outputId": "cd1a5a2d-02f0-4296-e46e-457401917ac1"
      },
      "execution_count": 16,
      "outputs": [
        {
          "output_type": "stream",
          "name": "stdout",
          "text": [
            "Array a:\n",
            " [ 0.70608384 -0.12269648 -1.26892076  1.25446932  0.62411166]\n",
            "\n",
            "Array b:\n",
            " [[ 0.21271688 -1.8809171  -0.01167222]\n",
            " [-1.78383246 -0.30532739  1.38706355]]\n"
          ]
        }
      ]
    },
    {
      "cell_type": "markdown",
      "source": [
        "## Indexing & Slicing of NumPy Array\n",
        "- To get any values from a NumPy array we can use indexing and slicing method.\n",
        "- Always remember indexing in python starts from 0 upto n-1, where n = lenth of the array.\n",
        "- For a n-dimensional array, we have to mention n different indexes, not more than that.\n",
        "- In some cases less number of indexing by default considers the first m indexes of the array (m<n).\n",
        "- We can use negetive indexing and slicing. Rule: index(n-k) = index(-k)"
      ],
      "metadata": {
        "id": "IKavqWuFCoNl"
      }
    },
    {
      "cell_type": "code",
      "source": [
        "import numpy as np\n",
        "a = np.array([1, 2, 3, 4, 5, 6, 7, 8, 9]) # 1D array\n",
        "print(\"Array a:\\n\", a, \"\\n\")\n",
        "\n",
        "for i in range(len(a)):\n",
        "    print(f\"The {i} indexed element is:\", a[i]) # 1D array indexing"
      ],
      "metadata": {
        "colab": {
          "base_uri": "https://localhost:8080/"
        },
        "id": "WlulJy2-B5RA",
        "outputId": "2435ccc3-afb5-4c8a-88c0-8226c60d5d98"
      },
      "execution_count": 17,
      "outputs": [
        {
          "output_type": "stream",
          "name": "stdout",
          "text": [
            "Array a:\n",
            " [1 2 3 4 5 6 7 8 9] \n",
            "\n",
            "The 0 indexed element is: 1\n",
            "The 1 indexed element is: 2\n",
            "The 2 indexed element is: 3\n",
            "The 3 indexed element is: 4\n",
            "The 4 indexed element is: 5\n",
            "The 5 indexed element is: 6\n",
            "The 6 indexed element is: 7\n",
            "The 7 indexed element is: 8\n",
            "The 8 indexed element is: 9\n"
          ]
        }
      ]
    },
    {
      "cell_type": "code",
      "source": [
        "a = np.array([[1, 2, 3],[4, 5, 6], [7, 8, 9]]) # 2D array\n",
        "print(\"Array a:\\n\", a, \"\\n\")\n",
        "\n",
        "for i in range(len(a)):\n",
        "    print(f\"The {i} indexed element is:\", a[i]) # 1D array indexing but for each index it is giving a 1D array"
      ],
      "metadata": {
        "colab": {
          "base_uri": "https://localhost:8080/"
        },
        "id": "nJ_evqn6EliB",
        "outputId": "4a1584ca-d093-42b4-eb28-6bf0a369cc59"
      },
      "execution_count": 18,
      "outputs": [
        {
          "output_type": "stream",
          "name": "stdout",
          "text": [
            "Array a:\n",
            " [[1 2 3]\n",
            " [4 5 6]\n",
            " [7 8 9]] \n",
            "\n",
            "The 0 indexed element is: [1 2 3]\n",
            "The 1 indexed element is: [4 5 6]\n",
            "The 2 indexed element is: [7 8 9]\n"
          ]
        }
      ]
    },
    {
      "cell_type": "code",
      "source": [
        "a = np.array([[[1, 2, 3], [4, 5, 6], [7, 8, 9]],\n",
        "              [[11, 12, 13], [14, 15, 16], [17, 18, 19]],\n",
        "              [[21, 22, 23], [24, 25, 26], [27, 28, 29]]]) # 3D array\n",
        "print(\"Array a:\\n\", a, \"\\n\")\n",
        "\n",
        "for i in range(len(a)):\n",
        "    print(f\"\\nThe {i} indexed element is:\\n\", a[i]) # 1D array indexing but for each index it is giving a 2D array\n",
        "\n",
        "for i in range(len(a)):\n",
        "    for j in range(len(a[i])):\n",
        "        print(f\"\\nThe ({i}, {j}) indexed element is:\\n\", a[i][j]) # 2D array indexing but for each index it is giving a 1D array"
      ],
      "metadata": {
        "colab": {
          "base_uri": "https://localhost:8080/"
        },
        "id": "mUHisFBCFQjq",
        "outputId": "c61c2e86-fc07-43d2-ec26-96649ed7914a"
      },
      "execution_count": 19,
      "outputs": [
        {
          "output_type": "stream",
          "name": "stdout",
          "text": [
            "Array a:\n",
            " [[[ 1  2  3]\n",
            "  [ 4  5  6]\n",
            "  [ 7  8  9]]\n",
            "\n",
            " [[11 12 13]\n",
            "  [14 15 16]\n",
            "  [17 18 19]]\n",
            "\n",
            " [[21 22 23]\n",
            "  [24 25 26]\n",
            "  [27 28 29]]] \n",
            "\n",
            "\n",
            "The 0 indexed element is:\n",
            " [[1 2 3]\n",
            " [4 5 6]\n",
            " [7 8 9]]\n",
            "\n",
            "The 1 indexed element is:\n",
            " [[11 12 13]\n",
            " [14 15 16]\n",
            " [17 18 19]]\n",
            "\n",
            "The 2 indexed element is:\n",
            " [[21 22 23]\n",
            " [24 25 26]\n",
            " [27 28 29]]\n",
            "\n",
            "The (0, 0) indexed element is:\n",
            " [1 2 3]\n",
            "\n",
            "The (0, 1) indexed element is:\n",
            " [4 5 6]\n",
            "\n",
            "The (0, 2) indexed element is:\n",
            " [7 8 9]\n",
            "\n",
            "The (1, 0) indexed element is:\n",
            " [11 12 13]\n",
            "\n",
            "The (1, 1) indexed element is:\n",
            " [14 15 16]\n",
            "\n",
            "The (1, 2) indexed element is:\n",
            " [17 18 19]\n",
            "\n",
            "The (2, 0) indexed element is:\n",
            " [21 22 23]\n",
            "\n",
            "The (2, 1) indexed element is:\n",
            " [24 25 26]\n",
            "\n",
            "The (2, 2) indexed element is:\n",
            " [27 28 29]\n"
          ]
        }
      ]
    },
    {
      "cell_type": "code",
      "source": [
        "a = np.array([[[1, 2, 3], [4, 5, 6], [7, 8, 9]],\n",
        "              [[11, 12, 13], [14, 15, 16], [17, 18, 19]],\n",
        "              [[21, 22, 23], [24, 25, 26], [27, 28, 29]]]) # 3D array\n",
        "\n",
        "print(\"The (0, 1, 2) indexed element of a is:\", a[0, 1, 2]) # Indexing a 3D array\n",
        "print(\"The (2, 1, 0) indexed element of a is:\", a[2, 1, 0]) # Indexing a 3D array\n",
        "\n",
        "print(a[1, 0, 2] == a[1][0][2]) # Checking if both are same, another way of indexing\n",
        "print(a[1, 0] == a[1][0]) # Checking if both are same, another way of indexing\n",
        "print(a[1] == a[1][0][2]) # Checking if both are same, another way of indexing\n",
        "# For the 2nd and 3rd case it is checking element wise equality for both the arrays"
      ],
      "metadata": {
        "colab": {
          "base_uri": "https://localhost:8080/"
        },
        "id": "WRCxt0ckG7aZ",
        "outputId": "4ec3964e-caf8-427d-adb0-a256c35c65a9"
      },
      "execution_count": 20,
      "outputs": [
        {
          "output_type": "stream",
          "name": "stdout",
          "text": [
            "The (0, 1, 2) indexed element of a is: 6\n",
            "The (2, 1, 0) indexed element of a is: 24\n",
            "True\n",
            "[ True  True  True]\n",
            "[[False False  True]\n",
            " [False False False]\n",
            " [False False False]]\n"
          ]
        }
      ]
    },
    {
      "cell_type": "code",
      "source": [
        "a = np.array([[[1, 2, 3], [4, 5, 6], [7, 8, 9]],\n",
        "              [[11, 12, 13], [14, 15, 16], [17, 18, 19]],\n",
        "              [[21, 22, 23], [24, 25, 26], [27, 28, 29]]]) # 3D array\n",
        "b = np.array([1, 2, 3, 4, 5, 6, 7, 8, 9]) # 1D array\n",
        "print(\"The slicing of b from 3rd index to 7th index is:\", b[3:8])\n",
        "print(\"\\nThe slicing of a from 3rd index to 7th index is:\\n\", a[3:8]) # Since the index are empty\n",
        "print(\"\\nThe slicing of b from 0th index to 2nd index is:\\n\", a[0:2])"
      ],
      "metadata": {
        "colab": {
          "base_uri": "https://localhost:8080/"
        },
        "id": "_JbND2WoIX9s",
        "outputId": "11834bd6-cb31-4172-cfe1-30319aae9790"
      },
      "execution_count": 21,
      "outputs": [
        {
          "output_type": "stream",
          "name": "stdout",
          "text": [
            "The slicing of b from 3rd index to 7th index is: [4 5 6 7 8]\n",
            "\n",
            "The slicing of a from 3rd index to 7th index is:\n",
            " []\n",
            "\n",
            "The slicing of b from 0th index to 2nd index is:\n",
            " [[[ 1  2  3]\n",
            "  [ 4  5  6]\n",
            "  [ 7  8  9]]\n",
            "\n",
            " [[11 12 13]\n",
            "  [14 15 16]\n",
            "  [17 18 19]]]\n"
          ]
        }
      ]
    },
    {
      "cell_type": "code",
      "source": [
        "a = np.array([[[1, 2, 3], [4, 5, 6], [7, 8, 9]],\n",
        "              [[11, 12, 13], [14, 15, 16], [17, 18, 19]],\n",
        "              [[21, 22, 23], [24, 25, 26], [27, 28, 29]]]) # 3D array\n",
        "print(\"a[1:] =\\n\", a[1:]) # Returns every element after and including 1\n",
        "print(\"\\na[:2] =\\n\", a[:2]) # Returns every element before 2 (excluding 2)\n",
        "print(\"\\na[1:, 1:] =\\n\", a[1:, 1:]) # Returns every element after and including [1, 1]\n",
        "print(\"\\na[:2, :2] =\\n\", a[:2, :2]) # Returns every element before [2, 2] (excluding [2, 2])"
      ],
      "metadata": {
        "colab": {
          "base_uri": "https://localhost:8080/"
        },
        "id": "bzE9x_rcMYMi",
        "outputId": "03b27201-4abf-43fa-9dc3-7284d80522f8"
      },
      "execution_count": 22,
      "outputs": [
        {
          "output_type": "stream",
          "name": "stdout",
          "text": [
            "a[1:] =\n",
            " [[[11 12 13]\n",
            "  [14 15 16]\n",
            "  [17 18 19]]\n",
            "\n",
            " [[21 22 23]\n",
            "  [24 25 26]\n",
            "  [27 28 29]]]\n",
            "\n",
            "a[:2] =\n",
            " [[[ 1  2  3]\n",
            "  [ 4  5  6]\n",
            "  [ 7  8  9]]\n",
            "\n",
            " [[11 12 13]\n",
            "  [14 15 16]\n",
            "  [17 18 19]]]\n",
            "\n",
            "a[1:, 1:] =\n",
            " [[[14 15 16]\n",
            "  [17 18 19]]\n",
            "\n",
            " [[24 25 26]\n",
            "  [27 28 29]]]\n",
            "\n",
            "a[:2, :2] =\n",
            " [[[ 1  2  3]\n",
            "  [ 4  5  6]]\n",
            "\n",
            " [[11 12 13]\n",
            "  [14 15 16]]]\n"
          ]
        }
      ]
    },
    {
      "cell_type": "code",
      "source": [
        "a = np.array([[[1, 2, 3], [4, 5, 6], [7, 8, 9]],\n",
        "              [[11, 12, 13], [14, 15, 16], [17, 18, 19]],\n",
        "              [[21, 22, 23], [24, 25, 26], [27, 28, 29]]]) # 3D array\n",
        "\n",
        "a[0:2, -1] == a[0:2, 2] # Checking if both are same, index(n-k) = index(-k), here k=1, n=3"
      ],
      "metadata": {
        "colab": {
          "base_uri": "https://localhost:8080/"
        },
        "id": "iRXq4jwgNZvU",
        "outputId": "bcdae8b1-b578-4654-b7cc-1e2543462704"
      },
      "execution_count": 23,
      "outputs": [
        {
          "output_type": "execute_result",
          "data": {
            "text/plain": [
              "array([[ True,  True,  True],\n",
              "       [ True,  True,  True]])"
            ]
          },
          "metadata": {},
          "execution_count": 23
        }
      ]
    },
    {
      "cell_type": "code",
      "source": [
        "a = np.array([[[1, 2, 3], [4, 5, 6], [7, 8, 9]],\n",
        "              [[11, 12, 13], [14, 15, 16], [17, 18, 19]],\n",
        "              [[21, 22, 23], [24, 25, 26], [27, 28, 29]]]) # 3D array\n",
        "\n",
        "print(\"a[0:2] =\\n\", a[0:2])\n",
        "print(\"\\na[1:3] =\\n\", a[1:3])\n",
        "print(\"\\nSum of the above array slices is:\\n\", a[0:2]+a[1:3])\n",
        "print(\"\\nLet's divide the array sum by 2:\\n\", (a[0:2]+a[1:3])/2) # Note there is float value now\n",
        "print(\"\\nLet's divide the array sum by 8:\\n\", (a[0:2]+a[1:3])/8) # The float is clear now\n",
        "print(\"\\nLet's now convert the final array into integer array:\")\n",
        "np.array((a[0:2]+a[1:3])/8, dtype = np.int64)"
      ],
      "metadata": {
        "colab": {
          "base_uri": "https://localhost:8080/"
        },
        "id": "mAWo_aetOwSd",
        "outputId": "87d6f18b-4bb9-4214-f110-844a32a45443"
      },
      "execution_count": 24,
      "outputs": [
        {
          "output_type": "stream",
          "name": "stdout",
          "text": [
            "a[0:2] =\n",
            " [[[ 1  2  3]\n",
            "  [ 4  5  6]\n",
            "  [ 7  8  9]]\n",
            "\n",
            " [[11 12 13]\n",
            "  [14 15 16]\n",
            "  [17 18 19]]]\n",
            "\n",
            "a[1:3] =\n",
            " [[[11 12 13]\n",
            "  [14 15 16]\n",
            "  [17 18 19]]\n",
            "\n",
            " [[21 22 23]\n",
            "  [24 25 26]\n",
            "  [27 28 29]]]\n",
            "\n",
            "Sum of the above array slices is:\n",
            " [[[12 14 16]\n",
            "  [18 20 22]\n",
            "  [24 26 28]]\n",
            "\n",
            " [[32 34 36]\n",
            "  [38 40 42]\n",
            "  [44 46 48]]]\n",
            "\n",
            "Let's divide the array sum by 2:\n",
            " [[[ 6.  7.  8.]\n",
            "  [ 9. 10. 11.]\n",
            "  [12. 13. 14.]]\n",
            "\n",
            " [[16. 17. 18.]\n",
            "  [19. 20. 21.]\n",
            "  [22. 23. 24.]]]\n",
            "\n",
            "Let's divide the array sum by 8:\n",
            " [[[1.5  1.75 2.  ]\n",
            "  [2.25 2.5  2.75]\n",
            "  [3.   3.25 3.5 ]]\n",
            "\n",
            " [[4.   4.25 4.5 ]\n",
            "  [4.75 5.   5.25]\n",
            "  [5.5  5.75 6.  ]]]\n",
            "\n",
            "Let's now convert the final array into integer array:\n"
          ]
        },
        {
          "output_type": "execute_result",
          "data": {
            "text/plain": [
              "array([[[1, 1, 2],\n",
              "        [2, 2, 2],\n",
              "        [3, 3, 3]],\n",
              "\n",
              "       [[4, 4, 4],\n",
              "        [4, 5, 5],\n",
              "        [5, 5, 6]]])"
            ]
          },
          "metadata": {},
          "execution_count": 24
        }
      ]
    },
    {
      "cell_type": "markdown",
      "source": [
        "## Reshaping of Array\n",
        "- We can reshape an array as required.\n",
        "- But always remember that original array shape and reshaping array shape should be matching, or there is an error."
      ],
      "metadata": {
        "id": "3rcTNYw9RxbV"
      }
    },
    {
      "cell_type": "code",
      "source": [
        "import numpy as np\n",
        "a = np.random.randint(0, 99, (4, 3))\n",
        "a"
      ],
      "metadata": {
        "colab": {
          "base_uri": "https://localhost:8080/"
        },
        "id": "lVqS7hR6Raie",
        "outputId": "d0189eeb-aa42-416f-ff7c-0ab0299e2c72"
      },
      "execution_count": 25,
      "outputs": [
        {
          "output_type": "execute_result",
          "data": {
            "text/plain": [
              "array([[69, 91, 86],\n",
              "       [50,  3, 55],\n",
              "       [84, 40, 69],\n",
              "       [91, 88, 81]])"
            ]
          },
          "metadata": {},
          "execution_count": 25
        }
      ]
    },
    {
      "cell_type": "code",
      "source": [
        "a.shape # Total 12 elements are there"
      ],
      "metadata": {
        "colab": {
          "base_uri": "https://localhost:8080/"
        },
        "id": "iRurznUISb2-",
        "outputId": "c140bce8-af98-4992-bd1f-d9bf3134bdd7"
      },
      "execution_count": 26,
      "outputs": [
        {
          "output_type": "execute_result",
          "data": {
            "text/plain": [
              "(4, 3)"
            ]
          },
          "metadata": {},
          "execution_count": 26
        }
      ]
    },
    {
      "cell_type": "code",
      "source": [
        "a.reshape(2, 6) # 2 rows and 6 columns, 12 elements"
      ],
      "metadata": {
        "colab": {
          "base_uri": "https://localhost:8080/"
        },
        "id": "mTncRFNzT6UW",
        "outputId": "840fdb3f-fc22-4ec8-c74e-671ae7fdcf43"
      },
      "execution_count": 27,
      "outputs": [
        {
          "output_type": "execute_result",
          "data": {
            "text/plain": [
              "array([[69, 91, 86, 50,  3, 55],\n",
              "       [84, 40, 69, 91, 88, 81]])"
            ]
          },
          "metadata": {},
          "execution_count": 27
        }
      ]
    },
    {
      "cell_type": "code",
      "source": [
        "a.reshape(3, 4) # 3 rows and 4 columns, 12 elements"
      ],
      "metadata": {
        "colab": {
          "base_uri": "https://localhost:8080/"
        },
        "id": "hySAgWviUXeq",
        "outputId": "54054c32-491d-45fc-9ec8-1ea27d62a692"
      },
      "execution_count": 28,
      "outputs": [
        {
          "output_type": "execute_result",
          "data": {
            "text/plain": [
              "array([[69, 91, 86, 50],\n",
              "       [ 3, 55, 84, 40],\n",
              "       [69, 91, 88, 81]])"
            ]
          },
          "metadata": {},
          "execution_count": 28
        }
      ]
    },
    {
      "cell_type": "code",
      "source": [
        "a.reshape(2, 3, 2) # 3D array"
      ],
      "metadata": {
        "colab": {
          "base_uri": "https://localhost:8080/"
        },
        "id": "Ovpdn5yhUnmL",
        "outputId": "1e0084a4-db18-414e-e174-75fdd45989e8"
      },
      "execution_count": 29,
      "outputs": [
        {
          "output_type": "execute_result",
          "data": {
            "text/plain": [
              "array([[[69, 91],\n",
              "        [86, 50],\n",
              "        [ 3, 55]],\n",
              "\n",
              "       [[84, 40],\n",
              "        [69, 91],\n",
              "        [88, 81]]])"
            ]
          },
          "metadata": {},
          "execution_count": 29
        }
      ]
    },
    {
      "cell_type": "code",
      "source": [
        "a.reshape(2, 1, 2, 3) # 4D array"
      ],
      "metadata": {
        "colab": {
          "base_uri": "https://localhost:8080/"
        },
        "id": "he3o0T-_Uy6t",
        "outputId": "8fd15cdb-dbfb-4ed4-a376-85d7ce6d368d"
      },
      "execution_count": 30,
      "outputs": [
        {
          "output_type": "execute_result",
          "data": {
            "text/plain": [
              "array([[[[69, 91, 86],\n",
              "         [50,  3, 55]]],\n",
              "\n",
              "\n",
              "       [[[84, 40, 69],\n",
              "         [91, 88, 81]]]])"
            ]
          },
          "metadata": {},
          "execution_count": 30
        }
      ]
    },
    {
      "cell_type": "code",
      "source": [
        "a.reshape(1, 12) # 2D array"
      ],
      "metadata": {
        "colab": {
          "base_uri": "https://localhost:8080/"
        },
        "id": "Om4xrMRXUKk9",
        "outputId": "c68dbe78-45e8-4c77-cc59-082887eda669"
      },
      "execution_count": 31,
      "outputs": [
        {
          "output_type": "execute_result",
          "data": {
            "text/plain": [
              "array([[69, 91, 86, 50,  3, 55, 84, 40, 69, 91, 88, 81]])"
            ]
          },
          "metadata": {},
          "execution_count": 31
        }
      ]
    },
    {
      "cell_type": "code",
      "source": [
        "a.reshape(12) # 1D array"
      ],
      "metadata": {
        "colab": {
          "base_uri": "https://localhost:8080/"
        },
        "id": "QnQPKIi3VPsC",
        "outputId": "66ba7270-3358-4b88-cef4-6e1ec5a35351"
      },
      "execution_count": 32,
      "outputs": [
        {
          "output_type": "execute_result",
          "data": {
            "text/plain": [
              "array([69, 91, 86, 50,  3, 55, 84, 40, 69, 91, 88, 81])"
            ]
          },
          "metadata": {},
          "execution_count": 32
        }
      ]
    },
    {
      "cell_type": "code",
      "source": [
        "a.reshape(2, 7) # 2 rows and 7 columns, 14 elements, not 12 elements, gives error"
      ],
      "metadata": {
        "colab": {
          "base_uri": "https://localhost:8080/",
          "height": 158
        },
        "id": "k2bqXDP9UTBU",
        "outputId": "9f495787-5ddb-4151-ede9-bc6e3d7e0da5"
      },
      "execution_count": 34,
      "outputs": [
        {
          "output_type": "error",
          "ename": "ValueError",
          "evalue": "cannot reshape array of size 12 into shape (2,7)",
          "traceback": [
            "\u001b[0;31m---------------------------------------------------------------------------\u001b[0m",
            "\u001b[0;31mValueError\u001b[0m                                Traceback (most recent call last)",
            "\u001b[0;32m<ipython-input-34-dd857f7b1333>\u001b[0m in \u001b[0;36m<cell line: 1>\u001b[0;34m()\u001b[0m\n\u001b[0;32m----> 1\u001b[0;31m \u001b[0ma\u001b[0m\u001b[0;34m.\u001b[0m\u001b[0mreshape\u001b[0m\u001b[0;34m(\u001b[0m\u001b[0;36m2\u001b[0m\u001b[0;34m,\u001b[0m \u001b[0;36m7\u001b[0m\u001b[0;34m)\u001b[0m \u001b[0;31m# 2 rows and 7 columns, 14 elements, not 12 elements, gives error\u001b[0m\u001b[0;34m\u001b[0m\u001b[0;34m\u001b[0m\u001b[0m\n\u001b[0m",
            "\u001b[0;31mValueError\u001b[0m: cannot reshape array of size 12 into shape (2,7)"
          ]
        }
      ]
    },
    {
      "cell_type": "code",
      "source": [
        "a # The actual array is not changing"
      ],
      "metadata": {
        "colab": {
          "base_uri": "https://localhost:8080/"
        },
        "id": "sOWbhXU0UG-H",
        "outputId": "30f12580-6406-4bf1-94b1-5b408a4882e3"
      },
      "execution_count": 35,
      "outputs": [
        {
          "output_type": "execute_result",
          "data": {
            "text/plain": [
              "array([[69, 91, 86],\n",
              "       [50,  3, 55],\n",
              "       [84, 40, 69],\n",
              "       [91, 88, 81]])"
            ]
          },
          "metadata": {},
          "execution_count": 35
        }
      ]
    },
    {
      "cell_type": "code",
      "source": [
        "a = a.reshape(2, 2, 3) # To change the actual array\n",
        "a"
      ],
      "metadata": {
        "colab": {
          "base_uri": "https://localhost:8080/"
        },
        "id": "4YPC1R0EVbk_",
        "outputId": "c89b2831-24c7-4877-9e5d-a7efc6ac3e43"
      },
      "execution_count": 36,
      "outputs": [
        {
          "output_type": "execute_result",
          "data": {
            "text/plain": [
              "array([[[69, 91, 86],\n",
              "        [50,  3, 55]],\n",
              "\n",
              "       [[84, 40, 69],\n",
              "        [91, 88, 81]]])"
            ]
          },
          "metadata": {},
          "execution_count": 36
        }
      ]
    },
    {
      "cell_type": "code",
      "source": [
        "a.reshape(-1, 6) # Only assigning the column value"
      ],
      "metadata": {
        "colab": {
          "base_uri": "https://localhost:8080/"
        },
        "id": "zGcJ-8uLVnCO",
        "outputId": "aaf43a15-2044-4caf-e7ec-c28ea7ea7f1f"
      },
      "execution_count": 37,
      "outputs": [
        {
          "output_type": "execute_result",
          "data": {
            "text/plain": [
              "array([[69, 91, 86, 50,  3, 55],\n",
              "       [84, 40, 69, 91, 88, 81]])"
            ]
          },
          "metadata": {},
          "execution_count": 37
        }
      ]
    },
    {
      "cell_type": "code",
      "source": [
        "a.reshape(6, -1) # Only assigning the row value"
      ],
      "metadata": {
        "colab": {
          "base_uri": "https://localhost:8080/"
        },
        "id": "MUhL1_s1WSKA",
        "outputId": "e5b4f692-87dd-49c5-dee8-8d3cb0dca6d8"
      },
      "execution_count": 38,
      "outputs": [
        {
          "output_type": "execute_result",
          "data": {
            "text/plain": [
              "array([[69, 91],\n",
              "       [86, 50],\n",
              "       [ 3, 55],\n",
              "       [84, 40],\n",
              "       [69, 91],\n",
              "       [88, 81]])"
            ]
          },
          "metadata": {},
          "execution_count": 38
        }
      ]
    },
    {
      "cell_type": "code",
      "source": [
        "a.reshape(2, 2, -1) # Only assigning the row and column"
      ],
      "metadata": {
        "colab": {
          "base_uri": "https://localhost:8080/"
        },
        "id": "xynffya0WdLr",
        "outputId": "9502b065-9b99-46b3-f11d-70b016b70d1b"
      },
      "execution_count": 39,
      "outputs": [
        {
          "output_type": "execute_result",
          "data": {
            "text/plain": [
              "array([[[69, 91, 86],\n",
              "        [50,  3, 55]],\n",
              "\n",
              "       [[84, 40, 69],\n",
              "        [91, 88, 81]]])"
            ]
          },
          "metadata": {},
          "execution_count": 39
        }
      ]
    },
    {
      "cell_type": "code",
      "source": [
        "a.reshape(-4, 4) # Only assigning the column value"
      ],
      "metadata": {
        "colab": {
          "base_uri": "https://localhost:8080/"
        },
        "id": "Mgu3RvUvWuSN",
        "outputId": "771ef56c-80de-48c5-ca22-c78551cdeebe"
      },
      "execution_count": 40,
      "outputs": [
        {
          "output_type": "execute_result",
          "data": {
            "text/plain": [
              "array([[69, 91, 86, 50],\n",
              "       [ 3, 55, 84, 40],\n",
              "       [69, 91, 88, 81]])"
            ]
          },
          "metadata": {},
          "execution_count": 40
        }
      ]
    },
    {
      "cell_type": "code",
      "source": [
        "a.reshape(0, 12) # Since 0 cannot be a dimension"
      ],
      "metadata": {
        "colab": {
          "base_uri": "https://localhost:8080/",
          "height": 141
        },
        "id": "-JOqB7XtW-qd",
        "outputId": "9f267d5f-3a09-4137-f0b4-fe2fff503c2e"
      },
      "execution_count": 42,
      "outputs": [
        {
          "output_type": "error",
          "ename": "ValueError",
          "evalue": "cannot reshape array of size 12 into shape (0,12)",
          "traceback": [
            "\u001b[0;31m---------------------------------------------------------------------------\u001b[0m",
            "\u001b[0;31mValueError\u001b[0m                                Traceback (most recent call last)",
            "\u001b[0;32m<ipython-input-42-e20a9627b6bf>\u001b[0m in \u001b[0;36m<cell line: 1>\u001b[0;34m()\u001b[0m\n\u001b[0;32m----> 1\u001b[0;31m \u001b[0ma\u001b[0m\u001b[0;34m.\u001b[0m\u001b[0mreshape\u001b[0m\u001b[0;34m(\u001b[0m\u001b[0;36m0\u001b[0m\u001b[0;34m,\u001b[0m \u001b[0;36m12\u001b[0m\u001b[0;34m)\u001b[0m \u001b[0;31m# Since 0 cannot be a dimension\u001b[0m\u001b[0;34m\u001b[0m\u001b[0;34m\u001b[0m\u001b[0m\n\u001b[0m",
            "\u001b[0;31mValueError\u001b[0m: cannot reshape array of size 12 into shape (0,12)"
          ]
        }
      ]
    },
    {
      "cell_type": "markdown",
      "source": [
        "## NumPy Seed Function\n",
        "- Used for many important purpose where we need to fix our randomly generated array.\n",
        "- The pseudo number generator gives us the same output for a particular seed number."
      ],
      "metadata": {
        "id": "W7kAWcdxXWx8"
      }
    },
    {
      "cell_type": "code",
      "source": [
        "import numpy as np\n",
        "np.random.seed(10)\n",
        "arr = np.random.randint(0, 100, 10)\n",
        "arr # Seed always comes with Random number"
      ],
      "metadata": {
        "colab": {
          "base_uri": "https://localhost:8080/"
        },
        "id": "ArFxJiGqXWPc",
        "outputId": "541fecc3-0ec8-47dd-d218-9d77612d9d20"
      },
      "execution_count": 43,
      "outputs": [
        {
          "output_type": "execute_result",
          "data": {
            "text/plain": [
              "array([ 9, 15, 64, 28, 89, 93, 29,  8, 73,  0])"
            ]
          },
          "metadata": {},
          "execution_count": 43
        }
      ]
    },
    {
      "cell_type": "code",
      "source": [
        "np.random.seed(10)\n",
        "arr = np.random.randint(0, 100, 10)\n",
        "arr # Note the same random number is generated"
      ],
      "metadata": {
        "colab": {
          "base_uri": "https://localhost:8080/"
        },
        "id": "M-hFyWk5Ynhk",
        "outputId": "39641c27-9e21-4b84-caa9-7176990379e3"
      },
      "execution_count": 44,
      "outputs": [
        {
          "output_type": "execute_result",
          "data": {
            "text/plain": [
              "array([ 9, 15, 64, 28, 89, 93, 29,  8, 73,  0])"
            ]
          },
          "metadata": {},
          "execution_count": 44
        }
      ]
    },
    {
      "cell_type": "code",
      "source": [
        "np.random.seed(10)\n",
        "arr = np.random.randint(0, 50, 10)\n",
        "arr # Seed is same but the variation in range or dimension can change the array"
      ],
      "metadata": {
        "colab": {
          "base_uri": "https://localhost:8080/"
        },
        "id": "OZBNhk_fYp5e",
        "outputId": "76bf2743-1326-4dba-ae57-6ce55014abe8"
      },
      "execution_count": 45,
      "outputs": [
        {
          "output_type": "execute_result",
          "data": {
            "text/plain": [
              "array([ 9, 36, 15,  0, 49, 28, 25, 29, 48, 29])"
            ]
          },
          "metadata": {},
          "execution_count": 45
        }
      ]
    },
    {
      "cell_type": "code",
      "source": [
        "arr.size # Checking the size of the array"
      ],
      "metadata": {
        "colab": {
          "base_uri": "https://localhost:8080/"
        },
        "id": "ETTptDsdZVPR",
        "outputId": "3dfc20f9-ebd8-4294-fdaa-15f35f14954c"
      },
      "execution_count": 46,
      "outputs": [
        {
          "output_type": "execute_result",
          "data": {
            "text/plain": [
              "10"
            ]
          },
          "metadata": {},
          "execution_count": 46
        }
      ]
    },
    {
      "cell_type": "markdown",
      "source": [
        "## NumPy Functions: View vs Copy\n",
        "- We can slice an array by two ways, making view or using a copy of it.\n",
        "- <B>View:</B> In this method if we change any part of the subarray then it is replicated in original.\n",
        "- <B>Copy:</B> In this method if we change any part of the subarray then it is not replicated in original."
      ],
      "metadata": {
        "id": "9PfkooDVZ-KC"
      }
    },
    {
      "cell_type": "code",
      "source": [
        "import numpy as np\n",
        "a = np.array([10, 20, 30, 40, 50, 60, 70, 80])\n",
        "b = a[4:7] # Slicing a subarray, by default it is using view technique\n",
        "print(\"b =\", b)\n",
        "b[:] = 0\n",
        "print(\"\\nModified b =\", b)\n",
        "print(\"\\nNote that, now a =\", a)"
      ],
      "metadata": {
        "id": "cl5zfakLZ7m5",
        "colab": {
          "base_uri": "https://localhost:8080/"
        },
        "outputId": "aee6e2b9-9a28-4b7f-fb5f-e650c892b7d9"
      },
      "execution_count": 47,
      "outputs": [
        {
          "output_type": "stream",
          "name": "stdout",
          "text": [
            "b = [50 60 70]\n",
            "\n",
            "Modified b = [0 0 0]\n",
            "\n",
            "Note that, now a = [10 20 30 40  0  0  0 80]\n"
          ]
        }
      ]
    },
    {
      "cell_type": "code",
      "source": [
        "a = np.array([10, 20, 30, 40, 50, 60, 70, 80])\n",
        "b = a[4:7].copy() # Slicing a subarray, but this time using copy technique\n",
        "print(\"b =\", b)\n",
        "b[:] = 0\n",
        "print(\"\\nModified b =\", b)\n",
        "print(\"\\nNote that, now a =\", a)"
      ],
      "metadata": {
        "id": "C6uLa77-c9sE",
        "colab": {
          "base_uri": "https://localhost:8080/"
        },
        "outputId": "97a9cf21-d815-4be6-a188-61855effa07c"
      },
      "execution_count": 48,
      "outputs": [
        {
          "output_type": "stream",
          "name": "stdout",
          "text": [
            "b = [50 60 70]\n",
            "\n",
            "Modified b = [0 0 0]\n",
            "\n",
            "Note that, now a = [10 20 30 40 50 60 70 80]\n"
          ]
        }
      ]
    },
    {
      "cell_type": "markdown",
      "source": [
        "## Conditional Selection in NumPy Array\n",
        "- We can use logical symbols for conditioning. E.g. logical or, logical and etc.\n",
        "- We can update an array using conditional selection rule."
      ],
      "metadata": {
        "id": "I84a44xCPcmT"
      }
    },
    {
      "cell_type": "code",
      "source": [
        "import numpy as np\n",
        "a = np.arange(1, 15) # Arranging array elements starting from 1 to 14\n",
        "a"
      ],
      "metadata": {
        "colab": {
          "base_uri": "https://localhost:8080/"
        },
        "id": "-6zwSt_kO5QY",
        "outputId": "1a6f6b2c-9636-4ad2-a62e-477bb4cdcf5d"
      },
      "execution_count": 49,
      "outputs": [
        {
          "output_type": "execute_result",
          "data": {
            "text/plain": [
              "array([ 1,  2,  3,  4,  5,  6,  7,  8,  9, 10, 11, 12, 13, 14])"
            ]
          },
          "metadata": {},
          "execution_count": 49
        }
      ]
    },
    {
      "cell_type": "code",
      "source": [
        "a > 7 # Elementwise condition checking, creating binary array"
      ],
      "metadata": {
        "colab": {
          "base_uri": "https://localhost:8080/"
        },
        "id": "QdzdvlTN9aQM",
        "outputId": "b9e2fc11-7b64-4a83-d0a7-c786b5db6b12"
      },
      "execution_count": 50,
      "outputs": [
        {
          "output_type": "execute_result",
          "data": {
            "text/plain": [
              "array([False, False, False, False, False, False, False,  True,  True,\n",
              "        True,  True,  True,  True,  True])"
            ]
          },
          "metadata": {},
          "execution_count": 50
        }
      ]
    },
    {
      "cell_type": "code",
      "source": [
        "a = np.arange(1, 15, 2) # Arranging array elements starting from 1 to 14 with gap 2\n",
        "print(\"a =\", a)\n",
        "b = a >= 7 # Conditional selection\n",
        "print(\"\\nb =\", b)\n",
        "print(\"\\na[b] =\", a[b]) # Binary Indexing for retriving elements"
      ],
      "metadata": {
        "colab": {
          "base_uri": "https://localhost:8080/"
        },
        "id": "jNWRezZS9gHf",
        "outputId": "bbf0dfe9-1b53-42a9-8766-ab4a07514b98"
      },
      "execution_count": 51,
      "outputs": [
        {
          "output_type": "stream",
          "name": "stdout",
          "text": [
            "a = [ 1  3  5  7  9 11 13]\n",
            "\n",
            "b = [False False False  True  True  True  True]\n",
            "\n",
            "a[b] = [ 7  9 11 13]\n"
          ]
        }
      ]
    },
    {
      "cell_type": "code",
      "source": [
        "a = np.arange(0, 15)\n",
        "print(\"a =\", a, \"\\n\")\n",
        "a[a%2 == 0] # Conditional selection"
      ],
      "metadata": {
        "colab": {
          "base_uri": "https://localhost:8080/"
        },
        "id": "47sJUlVE-IsG",
        "outputId": "c3ee949d-aa7c-484e-af51-41156a7da340"
      },
      "execution_count": 52,
      "outputs": [
        {
          "output_type": "stream",
          "name": "stdout",
          "text": [
            "a = [ 0  1  2  3  4  5  6  7  8  9 10 11 12 13 14] \n",
            "\n"
          ]
        },
        {
          "output_type": "execute_result",
          "data": {
            "text/plain": [
              "array([ 0,  2,  4,  6,  8, 10, 12, 14])"
            ]
          },
          "metadata": {},
          "execution_count": 52
        }
      ]
    },
    {
      "cell_type": "code",
      "source": [
        "print(\"a == 10:\\n\", a == 10, \"\\n\") # == is logical equal\n",
        "a[a == 10] # Conditional selection"
      ],
      "metadata": {
        "colab": {
          "base_uri": "https://localhost:8080/"
        },
        "id": "JgQzyZ4N_ITl",
        "outputId": "4089772a-4d8e-4575-cb6e-f7f768ddac7a"
      },
      "execution_count": 53,
      "outputs": [
        {
          "output_type": "stream",
          "name": "stdout",
          "text": [
            "a == 10:\n",
            " [False False False False False False False False False False  True False\n",
            " False False False] \n",
            "\n"
          ]
        },
        {
          "output_type": "execute_result",
          "data": {
            "text/plain": [
              "array([10])"
            ]
          },
          "metadata": {},
          "execution_count": 53
        }
      ]
    },
    {
      "cell_type": "code",
      "source": [
        "print(\"(a > 5) & (a < 10):\\n\", (a > 5) & (a < 10), \"\\n\") # & is logical and\n",
        "a[(a > 5) & (a < 10)] # Conditional selection"
      ],
      "metadata": {
        "colab": {
          "base_uri": "https://localhost:8080/"
        },
        "id": "aF2AuN87_QeA",
        "outputId": "dedfbd68-06c9-4058-e10a-9add85f3a439"
      },
      "execution_count": 54,
      "outputs": [
        {
          "output_type": "stream",
          "name": "stdout",
          "text": [
            "(a > 5) & (a < 10):\n",
            " [False False False False False False  True  True  True  True False False\n",
            " False False False] \n",
            "\n"
          ]
        },
        {
          "output_type": "execute_result",
          "data": {
            "text/plain": [
              "array([6, 7, 8, 9])"
            ]
          },
          "metadata": {},
          "execution_count": 54
        }
      ]
    },
    {
      "cell_type": "code",
      "source": [
        "print(\"(a < 5) & (a > 10):\\n\", (a < 5) & (a > 10), \"\\n\")\n",
        "a[(a < 5) & (a > 10)] # Conditional selection, everything is false, thus null array"
      ],
      "metadata": {
        "colab": {
          "base_uri": "https://localhost:8080/"
        },
        "id": "o26-xvP0_2Gz",
        "outputId": "ac95214e-a8a9-4d55-fea5-663a65644c81"
      },
      "execution_count": 55,
      "outputs": [
        {
          "output_type": "stream",
          "name": "stdout",
          "text": [
            "(a < 5) & (a > 10):\n",
            " [False False False False False False False False False False False False\n",
            " False False False] \n",
            "\n"
          ]
        },
        {
          "output_type": "execute_result",
          "data": {
            "text/plain": [
              "array([], dtype=int64)"
            ]
          },
          "metadata": {},
          "execution_count": 55
        }
      ]
    },
    {
      "cell_type": "code",
      "source": [
        "print(\"(a < 5) | (a > 10):\\n\", (a < 5) | (a > 10), \"\\n\") # | is logical or\n",
        "a[(a < 5) | (a > 10)] # Conditional selection"
      ],
      "metadata": {
        "colab": {
          "base_uri": "https://localhost:8080/"
        },
        "id": "QufExE5oAFBR",
        "outputId": "db83a5ab-9580-4898-a88f-da453396d4f5"
      },
      "execution_count": 56,
      "outputs": [
        {
          "output_type": "stream",
          "name": "stdout",
          "text": [
            "(a < 5) | (a > 10):\n",
            " [ True  True  True  True  True False False False False False False  True\n",
            "  True  True  True] \n",
            "\n"
          ]
        },
        {
          "output_type": "execute_result",
          "data": {
            "text/plain": [
              "array([ 0,  1,  2,  3,  4, 11, 12, 13, 14])"
            ]
          },
          "metadata": {},
          "execution_count": 56
        }
      ]
    },
    {
      "cell_type": "code",
      "source": [
        "a[a%2 == 0] = 0 # Conditional update\n",
        "a # Replacing 0 for all True values"
      ],
      "metadata": {
        "colab": {
          "base_uri": "https://localhost:8080/"
        },
        "id": "ncqEdjlEAxux",
        "outputId": "d6746939-08be-4b50-e90e-66b4eaf68363"
      },
      "execution_count": 57,
      "outputs": [
        {
          "output_type": "execute_result",
          "data": {
            "text/plain": [
              "array([ 0,  1,  0,  3,  0,  5,  0,  7,  0,  9,  0, 11,  0, 13,  0])"
            ]
          },
          "metadata": {},
          "execution_count": 57
        }
      ]
    },
    {
      "cell_type": "code",
      "source": [
        "a = np.arange(1, 25).reshape(3, 4, 2)\n",
        "a[(a%2 == 0) | (a%5 == 1)] = 0 # All even and 1, 11, 21 are in True position\n",
        "a"
      ],
      "metadata": {
        "colab": {
          "base_uri": "https://localhost:8080/"
        },
        "id": "Jpgl52FxBbzZ",
        "outputId": "ea9ccc76-8d33-4511-e25b-2a4e465b820f"
      },
      "execution_count": 58,
      "outputs": [
        {
          "output_type": "execute_result",
          "data": {
            "text/plain": [
              "array([[[ 0,  0],\n",
              "        [ 3,  0],\n",
              "        [ 5,  0],\n",
              "        [ 7,  0]],\n",
              "\n",
              "       [[ 9,  0],\n",
              "        [ 0,  0],\n",
              "        [13,  0],\n",
              "        [15,  0]],\n",
              "\n",
              "       [[17,  0],\n",
              "        [19,  0],\n",
              "        [ 0,  0],\n",
              "        [23,  0]]])"
            ]
          },
          "metadata": {},
          "execution_count": 58
        }
      ]
    },
    {
      "cell_type": "markdown",
      "source": [
        "## Various Operations on NumPy Array\n",
        "- There are various operations in NumPy  array which are not our usual operations."
      ],
      "metadata": {
        "id": "1VMMSCk5DvC9"
      }
    },
    {
      "cell_type": "code",
      "source": [
        "import numpy as np\n",
        "a = np.arange(1, 6)\n",
        "a"
      ],
      "metadata": {
        "colab": {
          "base_uri": "https://localhost:8080/"
        },
        "id": "Q9th1-_RCkma",
        "outputId": "87b1e6d9-9290-4d1b-b32f-6d1e5126e06b"
      },
      "execution_count": 59,
      "outputs": [
        {
          "output_type": "execute_result",
          "data": {
            "text/plain": [
              "array([1, 2, 3, 4, 5])"
            ]
          },
          "metadata": {},
          "execution_count": 59
        }
      ]
    },
    {
      "cell_type": "code",
      "source": [
        "a+2 # Adding 2 to each element"
      ],
      "metadata": {
        "colab": {
          "base_uri": "https://localhost:8080/"
        },
        "id": "xwoSwanuELmp",
        "outputId": "a3444b19-1bee-4121-ed7f-b0a2152d3f03"
      },
      "execution_count": 60,
      "outputs": [
        {
          "output_type": "execute_result",
          "data": {
            "text/plain": [
              "array([3, 4, 5, 6, 7])"
            ]
          },
          "metadata": {},
          "execution_count": 60
        }
      ]
    },
    {
      "cell_type": "code",
      "source": [
        "a-2 # Substracting 2 to each element"
      ],
      "metadata": {
        "colab": {
          "base_uri": "https://localhost:8080/"
        },
        "id": "-dYKUId-g7y8",
        "outputId": "cde796d0-57c1-49b1-c027-91800b44d4fe"
      },
      "execution_count": 61,
      "outputs": [
        {
          "output_type": "execute_result",
          "data": {
            "text/plain": [
              "array([-1,  0,  1,  2,  3])"
            ]
          },
          "metadata": {},
          "execution_count": 61
        }
      ]
    },
    {
      "cell_type": "code",
      "source": [
        "a*2 # Multiplying 2 to each element"
      ],
      "metadata": {
        "colab": {
          "base_uri": "https://localhost:8080/"
        },
        "id": "aaQZAmmyg9nZ",
        "outputId": "96fd6717-e015-4577-eb33-4b166a656fdc"
      },
      "execution_count": 62,
      "outputs": [
        {
          "output_type": "execute_result",
          "data": {
            "text/plain": [
              "array([ 2,  4,  6,  8, 10])"
            ]
          },
          "metadata": {},
          "execution_count": 62
        }
      ]
    },
    {
      "cell_type": "code",
      "source": [
        "a/2 # Dividing 2 to each element"
      ],
      "metadata": {
        "colab": {
          "base_uri": "https://localhost:8080/"
        },
        "id": "lpcNkJmWg_eJ",
        "outputId": "5e0780c1-753c-4b40-a628-e6a1bd20df06"
      },
      "execution_count": 63,
      "outputs": [
        {
          "output_type": "execute_result",
          "data": {
            "text/plain": [
              "array([0.5, 1. , 1.5, 2. , 2.5])"
            ]
          },
          "metadata": {},
          "execution_count": 63
        }
      ]
    },
    {
      "cell_type": "code",
      "source": [
        "a//2 # Integer Dividing 2 to each element"
      ],
      "metadata": {
        "colab": {
          "base_uri": "https://localhost:8080/"
        },
        "id": "pSaW7-GEhC9-",
        "outputId": "dee2df13-594e-4bcd-b26f-c940ed75b94a"
      },
      "execution_count": 64,
      "outputs": [
        {
          "output_type": "execute_result",
          "data": {
            "text/plain": [
              "array([0, 1, 1, 2, 2])"
            ]
          },
          "metadata": {},
          "execution_count": 64
        }
      ]
    },
    {
      "cell_type": "code",
      "source": [
        "a**2 # Powering 2 to each element"
      ],
      "metadata": {
        "colab": {
          "base_uri": "https://localhost:8080/"
        },
        "id": "5bWBKuz0hEaN",
        "outputId": "09e05d2c-976d-4336-dff9-1289388ad28d"
      },
      "execution_count": 65,
      "outputs": [
        {
          "output_type": "execute_result",
          "data": {
            "text/plain": [
              "array([ 1,  4,  9, 16, 25])"
            ]
          },
          "metadata": {},
          "execution_count": 65
        }
      ]
    },
    {
      "cell_type": "code",
      "source": [
        "a%2 # Modulus Dividing 2 to each element"
      ],
      "metadata": {
        "colab": {
          "base_uri": "https://localhost:8080/"
        },
        "id": "OiN2xX09hwe3",
        "outputId": "6e73c660-2833-4a15-f9fb-728a07c30560"
      },
      "execution_count": 66,
      "outputs": [
        {
          "output_type": "execute_result",
          "data": {
            "text/plain": [
              "array([1, 0, 1, 0, 1])"
            ]
          },
          "metadata": {},
          "execution_count": 66
        }
      ]
    },
    {
      "cell_type": "code",
      "source": [
        "a/0 # Dividing 0 to each element, giving \"inf\" i.e. infinite as output"
      ],
      "metadata": {
        "colab": {
          "base_uri": "https://localhost:8080/"
        },
        "id": "NZoSvD2sh7jE",
        "outputId": "5f1fa09f-44f7-4798-82bf-c6cc2336a252"
      },
      "execution_count": 67,
      "outputs": [
        {
          "output_type": "stream",
          "name": "stderr",
          "text": [
            "<ipython-input-67-23fc9b5b92dd>:1: RuntimeWarning: divide by zero encountered in divide\n",
            "  a/0 # Dividing 0 to each element, giving \"inf\" i.e. infinite as output\n"
          ]
        },
        {
          "output_type": "execute_result",
          "data": {
            "text/plain": [
              "array([inf, inf, inf, inf, inf])"
            ]
          },
          "metadata": {},
          "execution_count": 67
        }
      ]
    },
    {
      "cell_type": "code",
      "source": [
        "b = np.arange(0, 5)\n",
        "print(\"a =\", a)\n",
        "print(\"\\nb =\", b)"
      ],
      "metadata": {
        "colab": {
          "base_uri": "https://localhost:8080/"
        },
        "id": "xuif4zfYiNpt",
        "outputId": "d4f6ea51-27ed-477a-934e-16e4412f38b6"
      },
      "execution_count": 68,
      "outputs": [
        {
          "output_type": "stream",
          "name": "stdout",
          "text": [
            "a = [1 2 3 4 5]\n",
            "\n",
            "b = [0 1 2 3 4]\n"
          ]
        }
      ]
    },
    {
      "cell_type": "code",
      "source": [
        "a+b # Addition of two arrays, elementwise addition"
      ],
      "metadata": {
        "colab": {
          "base_uri": "https://localhost:8080/"
        },
        "id": "MToS_FocifhD",
        "outputId": "a4e8b280-050a-4ade-9b69-b5942eeb07a6"
      },
      "execution_count": 69,
      "outputs": [
        {
          "output_type": "execute_result",
          "data": {
            "text/plain": [
              "array([1, 3, 5, 7, 9])"
            ]
          },
          "metadata": {},
          "execution_count": 69
        }
      ]
    },
    {
      "cell_type": "code",
      "source": [
        "a-b # Substraction of two arrays, elementwise substraction"
      ],
      "metadata": {
        "colab": {
          "base_uri": "https://localhost:8080/"
        },
        "id": "GnMzBFxYjG4n",
        "outputId": "0dd99dcc-947f-4150-aa26-fa63ace43a60"
      },
      "execution_count": 70,
      "outputs": [
        {
          "output_type": "execute_result",
          "data": {
            "text/plain": [
              "array([1, 1, 1, 1, 1])"
            ]
          },
          "metadata": {},
          "execution_count": 70
        }
      ]
    },
    {
      "cell_type": "code",
      "source": [
        "a*b # Multiplication of two arrays, elementwise multiplication"
      ],
      "metadata": {
        "colab": {
          "base_uri": "https://localhost:8080/"
        },
        "id": "vLdGkNSPihjb",
        "outputId": "e6677035-a48a-41d9-a6cd-0e59e6cc48c2"
      },
      "execution_count": 71,
      "outputs": [
        {
          "output_type": "execute_result",
          "data": {
            "text/plain": [
              "array([ 0,  2,  6, 12, 20])"
            ]
          },
          "metadata": {},
          "execution_count": 71
        }
      ]
    },
    {
      "cell_type": "code",
      "source": [
        "a/b # Division of two arrays, elementwise division"
      ],
      "metadata": {
        "colab": {
          "base_uri": "https://localhost:8080/"
        },
        "id": "Q6pzDoJvizts",
        "outputId": "34a2acbf-3c99-4a12-8a48-b23cf069f172"
      },
      "execution_count": 72,
      "outputs": [
        {
          "output_type": "stream",
          "name": "stderr",
          "text": [
            "<ipython-input-72-c7ce1f903b76>:1: RuntimeWarning: divide by zero encountered in divide\n",
            "  a/b # Division of two arrays, elementwise division\n"
          ]
        },
        {
          "output_type": "execute_result",
          "data": {
            "text/plain": [
              "array([       inf, 2.        , 1.5       , 1.33333333, 1.25      ])"
            ]
          },
          "metadata": {},
          "execution_count": 72
        }
      ]
    },
    {
      "cell_type": "code",
      "source": [
        "a**b # Powering of two arrays, elementwise powering"
      ],
      "metadata": {
        "colab": {
          "base_uri": "https://localhost:8080/"
        },
        "id": "_4to7aRpkraW",
        "outputId": "8f3da2b2-59cc-4a95-a401-027d32929904"
      },
      "execution_count": 73,
      "outputs": [
        {
          "output_type": "execute_result",
          "data": {
            "text/plain": [
              "array([  1,   2,   9,  64, 625])"
            ]
          },
          "metadata": {},
          "execution_count": 73
        }
      ]
    },
    {
      "cell_type": "code",
      "source": [
        "a%b # Modulus of two arrays, elementwise modulus, carefully look the output"
      ],
      "metadata": {
        "colab": {
          "base_uri": "https://localhost:8080/"
        },
        "id": "r55IQKN7k4oD",
        "outputId": "362618de-a986-4c4e-e8e7-a752ed5bfd6f"
      },
      "execution_count": 74,
      "outputs": [
        {
          "output_type": "stream",
          "name": "stderr",
          "text": [
            "<ipython-input-74-8c8a96040aed>:1: RuntimeWarning: divide by zero encountered in remainder\n",
            "  a%b # Modulus of two arrays, elementwise modulus, carefully look the output\n"
          ]
        },
        {
          "output_type": "execute_result",
          "data": {
            "text/plain": [
              "array([0, 0, 1, 1, 1])"
            ]
          },
          "metadata": {},
          "execution_count": 74
        }
      ]
    },
    {
      "cell_type": "code",
      "source": [
        "a//b # Integer Division of two arrays, elementwise integer division, look the output carefully"
      ],
      "metadata": {
        "colab": {
          "base_uri": "https://localhost:8080/"
        },
        "id": "mo1kTVCYk8cg",
        "outputId": "aa15c322-929b-48c4-afcb-fed009348f77"
      },
      "execution_count": 75,
      "outputs": [
        {
          "output_type": "stream",
          "name": "stderr",
          "text": [
            "<ipython-input-75-29a295f202ac>:1: RuntimeWarning: divide by zero encountered in floor_divide\n",
            "  a//b # Integer Division of two arrays, elementwise integer division, look the output carefully\n"
          ]
        },
        {
          "output_type": "execute_result",
          "data": {
            "text/plain": [
              "array([0, 2, 1, 1, 1])"
            ]
          },
          "metadata": {},
          "execution_count": 75
        }
      ]
    },
    {
      "cell_type": "code",
      "source": [
        "a = np.array([1, 2, 3, 4]).reshape(2, 2)\n",
        "print(\"a =\\n\", a)\n",
        "b = np.array([5, 6, 7, 8]).reshape(2, 2)\n",
        "print(\"\\nb =\\n\", b)"
      ],
      "metadata": {
        "colab": {
          "base_uri": "https://localhost:8080/"
        },
        "id": "ohXU6Q7oi_J5",
        "outputId": "5c308ab1-ea90-4a3a-fca2-4c0f5c581fc1"
      },
      "execution_count": 76,
      "outputs": [
        {
          "output_type": "stream",
          "name": "stdout",
          "text": [
            "a =\n",
            " [[1 2]\n",
            " [3 4]]\n",
            "\n",
            "b =\n",
            " [[5 6]\n",
            " [7 8]]\n"
          ]
        }
      ]
    },
    {
      "cell_type": "code",
      "source": [
        "a*b # Elementwise multiplication"
      ],
      "metadata": {
        "colab": {
          "base_uri": "https://localhost:8080/"
        },
        "id": "M-s1rsvqkDHe",
        "outputId": "db2901d1-d33b-434b-ca53-cd3867b2a419"
      },
      "execution_count": 77,
      "outputs": [
        {
          "output_type": "execute_result",
          "data": {
            "text/plain": [
              "array([[ 5, 12],\n",
              "       [21, 32]])"
            ]
          },
          "metadata": {},
          "execution_count": 77
        }
      ]
    },
    {
      "cell_type": "code",
      "source": [
        "a.dot(b) # Matrix Multiplication i.e. ab"
      ],
      "metadata": {
        "colab": {
          "base_uri": "https://localhost:8080/"
        },
        "id": "2tRJbHu0kIMb",
        "outputId": "08c04970-440e-40e6-a242-76b435d202b2"
      },
      "execution_count": 78,
      "outputs": [
        {
          "output_type": "execute_result",
          "data": {
            "text/plain": [
              "array([[19, 22],\n",
              "       [43, 50]])"
            ]
          },
          "metadata": {},
          "execution_count": 78
        }
      ]
    },
    {
      "cell_type": "markdown",
      "source": [
        "## Various Built-in Functions in NumPy\n",
        "- There are many built-in functions in NumPy library.\n",
        "- These functions have very less computational cost i.e. cost effective."
      ],
      "metadata": {
        "id": "Y6N-kfSglj7T"
      }
    },
    {
      "cell_type": "markdown",
      "source": [
        "### For 1D Array"
      ],
      "metadata": {
        "id": "HtXBtOB4sxMW"
      }
    },
    {
      "cell_type": "code",
      "source": [
        "import numpy as np\n",
        "np.random.seed(36)\n",
        "a = np.random.randint(10, 99, 12)\n",
        "a"
      ],
      "metadata": {
        "colab": {
          "base_uri": "https://localhost:8080/"
        },
        "id": "4tageIGykTYi",
        "outputId": "4e72b154-f29c-41a5-8caa-bdbc4280e782"
      },
      "execution_count": 79,
      "outputs": [
        {
          "output_type": "execute_result",
          "data": {
            "text/plain": [
              "array([15, 40, 50, 43, 54, 19, 47, 65, 16, 74, 80, 80])"
            ]
          },
          "metadata": {},
          "execution_count": 79
        }
      ]
    },
    {
      "cell_type": "code",
      "source": [
        "np.sum(a) # Sum of all elements in the array"
      ],
      "metadata": {
        "colab": {
          "base_uri": "https://localhost:8080/"
        },
        "id": "SG9CsJGQrjYF",
        "outputId": "deaf6fcd-6535-49f4-fed2-54be1293a0d2"
      },
      "execution_count": 80,
      "outputs": [
        {
          "output_type": "execute_result",
          "data": {
            "text/plain": [
              "583"
            ]
          },
          "metadata": {},
          "execution_count": 80
        }
      ]
    },
    {
      "cell_type": "code",
      "source": [
        "np.min(a) # Minimum element in the array"
      ],
      "metadata": {
        "colab": {
          "base_uri": "https://localhost:8080/"
        },
        "id": "nWT34-ZZmBqB",
        "outputId": "c7fbcc5e-a2a5-4d53-89cc-8137eeaf72b6"
      },
      "execution_count": 81,
      "outputs": [
        {
          "output_type": "execute_result",
          "data": {
            "text/plain": [
              "15"
            ]
          },
          "metadata": {},
          "execution_count": 81
        }
      ]
    },
    {
      "cell_type": "code",
      "source": [
        "np.max(a) # Maximum element in the array"
      ],
      "metadata": {
        "colab": {
          "base_uri": "https://localhost:8080/"
        },
        "id": "_rRoIlyVmQSz",
        "outputId": "cf04d728-7aae-4c87-f70b-2c505ce8389c"
      },
      "execution_count": 82,
      "outputs": [
        {
          "output_type": "execute_result",
          "data": {
            "text/plain": [
              "80"
            ]
          },
          "metadata": {},
          "execution_count": 82
        }
      ]
    },
    {
      "cell_type": "code",
      "source": [
        "np.argmin(a) # Index of the minimum element in the array"
      ],
      "metadata": {
        "colab": {
          "base_uri": "https://localhost:8080/"
        },
        "id": "IDRIpj9rmXcb",
        "outputId": "61972a91-e2f9-449f-faf8-6e1f7c4519e7"
      },
      "execution_count": 83,
      "outputs": [
        {
          "output_type": "execute_result",
          "data": {
            "text/plain": [
              "0"
            ]
          },
          "metadata": {},
          "execution_count": 83
        }
      ]
    },
    {
      "cell_type": "code",
      "source": [
        "np.argmax(a) # Index of the maximum element in the array"
      ],
      "metadata": {
        "colab": {
          "base_uri": "https://localhost:8080/"
        },
        "id": "cur2Bp6Pmesc",
        "outputId": "a1ee7794-9804-4b47-9566-50d60092b3ae"
      },
      "execution_count": 84,
      "outputs": [
        {
          "output_type": "execute_result",
          "data": {
            "text/plain": [
              "10"
            ]
          },
          "metadata": {},
          "execution_count": 84
        }
      ]
    },
    {
      "cell_type": "code",
      "source": [
        "np.sqrt(a) # Square root of each element in the array"
      ],
      "metadata": {
        "colab": {
          "base_uri": "https://localhost:8080/"
        },
        "id": "FbjSqoTimlMV",
        "outputId": "885022e0-fefb-4141-a553-d137c4a4c879"
      },
      "execution_count": 85,
      "outputs": [
        {
          "output_type": "execute_result",
          "data": {
            "text/plain": [
              "array([3.87298335, 6.32455532, 7.07106781, 6.55743852, 7.34846923,\n",
              "       4.35889894, 6.8556546 , 8.06225775, 4.        , 8.60232527,\n",
              "       8.94427191, 8.94427191])"
            ]
          },
          "metadata": {},
          "execution_count": 85
        }
      ]
    },
    {
      "cell_type": "code",
      "source": [
        "np.sin(a) # Sine of each element in the array"
      ],
      "metadata": {
        "colab": {
          "base_uri": "https://localhost:8080/"
        },
        "id": "7D1JadZjmv14",
        "outputId": "bed4b901-8aca-480a-b26b-c72ebf521c7f"
      },
      "execution_count": 86,
      "outputs": [
        {
          "output_type": "execute_result",
          "data": {
            "text/plain": [
              "array([ 0.65028784,  0.74511316, -0.26237485, -0.83177474, -0.55878905,\n",
              "        0.14987721,  0.12357312,  0.82682868, -0.28790332, -0.98514626,\n",
              "       -0.99388865, -0.99388865])"
            ]
          },
          "metadata": {},
          "execution_count": 86
        }
      ]
    },
    {
      "cell_type": "code",
      "source": [
        "np.cos(a) # Cosine of each element in the array"
      ],
      "metadata": {
        "colab": {
          "base_uri": "https://localhost:8080/"
        },
        "id": "soG5MPP0mzI2",
        "outputId": "6e09aa7c-e4b0-4031-c19b-07e73ab6e568"
      },
      "execution_count": 87,
      "outputs": [
        {
          "output_type": "execute_result",
          "data": {
            "text/plain": [
              "array([-0.75968791, -0.66693806,  0.96496603,  0.5551133 , -0.82930983,\n",
              "        0.98870462, -0.99233547, -0.56245385, -0.95765948,  0.17171734,\n",
              "       -0.11038724, -0.11038724])"
            ]
          },
          "metadata": {},
          "execution_count": 87
        }
      ]
    },
    {
      "cell_type": "code",
      "source": [
        "np.tan(a) # Tangent of each element in the array"
      ],
      "metadata": {
        "colab": {
          "base_uri": "https://localhost:8080/"
        },
        "id": "lDNxIM3Cm09n",
        "outputId": "f43ee931-e2b8-48de-f154-0e47eb0adba4"
      },
      "execution_count": 88,
      "outputs": [
        {
          "output_type": "execute_result",
          "data": {
            "text/plain": [
              "array([-0.8559934 , -1.11721493, -0.27190061, -1.49838734,  0.6738001 ,\n",
              "        0.15158947, -0.12452757, -1.47003826,  0.30063224, -5.73702254,\n",
              "        9.00365495,  9.00365495])"
            ]
          },
          "metadata": {},
          "execution_count": 88
        }
      ]
    },
    {
      "cell_type": "code",
      "source": [
        "b = np.linspace(1, 3, 6) # Returns a 6 length array starts with 1, ends with 3 of equidistance values\n",
        "b"
      ],
      "metadata": {
        "colab": {
          "base_uri": "https://localhost:8080/"
        },
        "id": "-wvsz7PWpk_f",
        "outputId": "d1a37129-1cea-4071-b28f-704a29f5733d"
      },
      "execution_count": 89,
      "outputs": [
        {
          "output_type": "execute_result",
          "data": {
            "text/plain": [
              "array([1. , 1.4, 1.8, 2.2, 2.6, 3. ])"
            ]
          },
          "metadata": {},
          "execution_count": 89
        }
      ]
    },
    {
      "cell_type": "code",
      "source": [
        "b = np.linspace(1, -1, 6) # Returns a 6 length array starts with 1, ends with -1 of equidistance values\n",
        "b"
      ],
      "metadata": {
        "colab": {
          "base_uri": "https://localhost:8080/"
        },
        "id": "zt9JF4qOqRz6",
        "outputId": "d9e956ce-c94a-4749-b14f-0847285c63f3"
      },
      "execution_count": 90,
      "outputs": [
        {
          "output_type": "execute_result",
          "data": {
            "text/plain": [
              "array([ 1. ,  0.6,  0.2, -0.2, -0.6, -1. ])"
            ]
          },
          "metadata": {},
          "execution_count": 90
        }
      ]
    },
    {
      "cell_type": "markdown",
      "source": [
        "### For 2D or nD Array"
      ],
      "metadata": {
        "id": "mEoDH4mes3sC"
      }
    },
    {
      "cell_type": "code",
      "source": [
        "import numpy as np\n",
        "np.random.seed(36)\n",
        "a = np.random.randint(10, 99, 12).reshape(3, 4)\n",
        "a"
      ],
      "metadata": {
        "colab": {
          "base_uri": "https://localhost:8080/"
        },
        "id": "urYBmQwZrPhu",
        "outputId": "1f2d8e54-8c14-4034-f22b-da89ecad831c"
      },
      "execution_count": 91,
      "outputs": [
        {
          "output_type": "execute_result",
          "data": {
            "text/plain": [
              "array([[15, 40, 50, 43],\n",
              "       [54, 19, 47, 65],\n",
              "       [16, 74, 80, 80]])"
            ]
          },
          "metadata": {},
          "execution_count": 91
        }
      ]
    },
    {
      "cell_type": "code",
      "source": [
        "np.sum(a, axis = 0) # Sum of each column"
      ],
      "metadata": {
        "colab": {
          "base_uri": "https://localhost:8080/"
        },
        "id": "2GZRlo56ryC4",
        "outputId": "61966731-b5d0-497a-b66c-f59b6311203a"
      },
      "execution_count": 92,
      "outputs": [
        {
          "output_type": "execute_result",
          "data": {
            "text/plain": [
              "array([ 85, 133, 177, 188])"
            ]
          },
          "metadata": {},
          "execution_count": 92
        }
      ]
    },
    {
      "cell_type": "code",
      "source": [
        "np.sum(a, axis = 1) # Sum of each row"
      ],
      "metadata": {
        "colab": {
          "base_uri": "https://localhost:8080/"
        },
        "id": "xVZdbqinr6Dc",
        "outputId": "05c09958-ee4c-4a7a-a22e-be2cc0878dfa"
      },
      "execution_count": 93,
      "outputs": [
        {
          "output_type": "execute_result",
          "data": {
            "text/plain": [
              "array([148, 185, 250])"
            ]
          },
          "metadata": {},
          "execution_count": 93
        }
      ]
    },
    {
      "cell_type": "code",
      "source": [
        "np.cumsum(a) # Cumulative sum of each element"
      ],
      "metadata": {
        "colab": {
          "base_uri": "https://localhost:8080/"
        },
        "id": "VevDdVWYr80q",
        "outputId": "bdb55898-6b81-4d28-c562-b15add7f022a"
      },
      "execution_count": 94,
      "outputs": [
        {
          "output_type": "execute_result",
          "data": {
            "text/plain": [
              "array([ 15,  55, 105, 148, 202, 221, 268, 333, 349, 423, 503, 583])"
            ]
          },
          "metadata": {},
          "execution_count": 94
        }
      ]
    },
    {
      "cell_type": "code",
      "source": [
        "np.cumsum(a, axis = 0) # Cumulative sum of each column"
      ],
      "metadata": {
        "colab": {
          "base_uri": "https://localhost:8080/"
        },
        "id": "HnCZjWuesIMM",
        "outputId": "02504991-6cfc-45dd-dd7f-e4db45ae0aa3"
      },
      "execution_count": 95,
      "outputs": [
        {
          "output_type": "execute_result",
          "data": {
            "text/plain": [
              "array([[ 15,  40,  50,  43],\n",
              "       [ 69,  59,  97, 108],\n",
              "       [ 85, 133, 177, 188]])"
            ]
          },
          "metadata": {},
          "execution_count": 95
        }
      ]
    },
    {
      "cell_type": "code",
      "source": [
        "np.cumsum(a, axis = 1) # Cumulative sum of each row"
      ],
      "metadata": {
        "colab": {
          "base_uri": "https://localhost:8080/"
        },
        "id": "Oy54HYbEsKOL",
        "outputId": "559c8b8c-c16f-43a3-c581-4a4f7469d646"
      },
      "execution_count": 96,
      "outputs": [
        {
          "output_type": "execute_result",
          "data": {
            "text/plain": [
              "array([[ 15,  55, 105, 148],\n",
              "       [ 54,  73, 120, 185],\n",
              "       [ 16,  90, 170, 250]])"
            ]
          },
          "metadata": {},
          "execution_count": 96
        }
      ]
    },
    {
      "cell_type": "code",
      "source": [
        "np.min(a, axis = 0) # Minimum of each column"
      ],
      "metadata": {
        "colab": {
          "base_uri": "https://localhost:8080/"
        },
        "id": "gD6y1LtOsNvo",
        "outputId": "2eb15425-c922-4289-c014-3f205cd20561"
      },
      "execution_count": 97,
      "outputs": [
        {
          "output_type": "execute_result",
          "data": {
            "text/plain": [
              "array([15, 19, 47, 43])"
            ]
          },
          "metadata": {},
          "execution_count": 97
        }
      ]
    },
    {
      "cell_type": "code",
      "source": [
        "np.max(a, axis = 1) # Maximum of each row"
      ],
      "metadata": {
        "colab": {
          "base_uri": "https://localhost:8080/"
        },
        "id": "KoXalC82sZ9f",
        "outputId": "d92fd37d-69f0-4784-cf6a-e6cb4fb07737"
      },
      "execution_count": 98,
      "outputs": [
        {
          "output_type": "execute_result",
          "data": {
            "text/plain": [
              "array([50, 65, 80])"
            ]
          },
          "metadata": {},
          "execution_count": 98
        }
      ]
    },
    {
      "cell_type": "code",
      "source": [
        "c = np.random.randint(10, 99, 24).reshape(2, 3, 4)\n",
        "c"
      ],
      "metadata": {
        "colab": {
          "base_uri": "https://localhost:8080/"
        },
        "id": "yRFgaAFlsfy2",
        "outputId": "787f4e34-fa68-45be-f061-ecf5ca7e7783"
      },
      "execution_count": 99,
      "outputs": [
        {
          "output_type": "execute_result",
          "data": {
            "text/plain": [
              "array([[[32, 41, 11, 32],\n",
              "        [46, 24, 93, 87],\n",
              "        [40, 55, 31, 23]],\n",
              "\n",
              "       [[47, 32, 56, 35],\n",
              "        [77, 34, 51, 74],\n",
              "        [84, 88, 29, 98]]])"
            ]
          },
          "metadata": {},
          "execution_count": 99
        }
      ]
    },
    {
      "cell_type": "code",
      "source": [
        "c.shape"
      ],
      "metadata": {
        "colab": {
          "base_uri": "https://localhost:8080/"
        },
        "id": "t0rPmbKFthxN",
        "outputId": "79c840c1-be72-40e1-f753-d6dbb57745eb"
      },
      "execution_count": 100,
      "outputs": [
        {
          "output_type": "execute_result",
          "data": {
            "text/plain": [
              "(2, 3, 4)"
            ]
          },
          "metadata": {},
          "execution_count": 100
        }
      ]
    },
    {
      "cell_type": "code",
      "source": [
        "np.mean(c, axis = 0) # Mean of each axis = 0 (2)"
      ],
      "metadata": {
        "colab": {
          "base_uri": "https://localhost:8080/"
        },
        "id": "Wx5G9w7ntk6U",
        "outputId": "cc76f208-a40b-4e37-bbd5-0393eb14868f"
      },
      "execution_count": 101,
      "outputs": [
        {
          "output_type": "execute_result",
          "data": {
            "text/plain": [
              "array([[39.5, 36.5, 33.5, 33.5],\n",
              "       [61.5, 29. , 72. , 80.5],\n",
              "       [62. , 71.5, 30. , 60.5]])"
            ]
          },
          "metadata": {},
          "execution_count": 101
        }
      ]
    },
    {
      "cell_type": "code",
      "source": [
        "np.median(c, axis = 1) # Median of each axis = 1 (3)"
      ],
      "metadata": {
        "colab": {
          "base_uri": "https://localhost:8080/"
        },
        "id": "fur56zpKtrEe",
        "outputId": "b09b5df6-6e68-453f-ac8c-4bec18d9ad35"
      },
      "execution_count": 102,
      "outputs": [
        {
          "output_type": "execute_result",
          "data": {
            "text/plain": [
              "array([[40., 41., 31., 32.],\n",
              "       [77., 34., 51., 74.]])"
            ]
          },
          "metadata": {},
          "execution_count": 102
        }
      ]
    },
    {
      "cell_type": "code",
      "source": [
        "np.sum(c, axis = 2) # Sum of each axis = 2 (4)"
      ],
      "metadata": {
        "colab": {
          "base_uri": "https://localhost:8080/"
        },
        "id": "1oK-y487tver",
        "outputId": "391b1d6b-f0cb-4055-b3e2-a9aaadf0a226"
      },
      "execution_count": 103,
      "outputs": [
        {
          "output_type": "execute_result",
          "data": {
            "text/plain": [
              "array([[116, 250, 149],\n",
              "       [170, 236, 299]])"
            ]
          },
          "metadata": {},
          "execution_count": 103
        }
      ]
    },
    {
      "cell_type": "code",
      "source": [
        "np.random.shuffle(c) # Shuffling the array\n",
        "c"
      ],
      "metadata": {
        "colab": {
          "base_uri": "https://localhost:8080/"
        },
        "id": "EZ5x0onVt0SO",
        "outputId": "5309afae-50ed-48cb-c7c9-917305332f02"
      },
      "execution_count": 104,
      "outputs": [
        {
          "output_type": "execute_result",
          "data": {
            "text/plain": [
              "array([[[47, 32, 56, 35],\n",
              "        [77, 34, 51, 74],\n",
              "        [84, 88, 29, 98]],\n",
              "\n",
              "       [[32, 41, 11, 32],\n",
              "        [46, 24, 93, 87],\n",
              "        [40, 55, 31, 23]]])"
            ]
          },
          "metadata": {},
          "execution_count": 104
        }
      ]
    },
    {
      "cell_type": "code",
      "source": [
        "np.unique(a, axis = 1) # Rowise unique elements in the array"
      ],
      "metadata": {
        "colab": {
          "base_uri": "https://localhost:8080/"
        },
        "id": "geaQAEw7vEet",
        "outputId": "927f560d-a268-4df3-c49c-77266ad9fb52"
      },
      "execution_count": 105,
      "outputs": [
        {
          "output_type": "execute_result",
          "data": {
            "text/plain": [
              "array([[15, 40, 43, 50],\n",
              "       [54, 19, 65, 47],\n",
              "       [16, 74, 80, 80]])"
            ]
          },
          "metadata": {},
          "execution_count": 105
        }
      ]
    },
    {
      "cell_type": "code",
      "source": [
        "np.unique(c, axis = 0) # Unique elements in the array of axis = 0 (2)"
      ],
      "metadata": {
        "colab": {
          "base_uri": "https://localhost:8080/"
        },
        "id": "kK_Jm05fvO5H",
        "outputId": "2c80ba6b-c370-48c0-ff24-26ee9061dacf"
      },
      "execution_count": 106,
      "outputs": [
        {
          "output_type": "execute_result",
          "data": {
            "text/plain": [
              "array([[[32, 41, 11, 32],\n",
              "        [46, 24, 93, 87],\n",
              "        [40, 55, 31, 23]],\n",
              "\n",
              "       [[47, 32, 56, 35],\n",
              "        [77, 34, 51, 74],\n",
              "        [84, 88, 29, 98]]])"
            ]
          },
          "metadata": {},
          "execution_count": 106
        }
      ]
    },
    {
      "cell_type": "code",
      "source": [
        "np.unique(c).size # Total number of unique elements in the array"
      ],
      "metadata": {
        "colab": {
          "base_uri": "https://localhost:8080/"
        },
        "id": "QRH5fEJXv7nh",
        "outputId": "091b5ead-8ba7-408d-d04c-f1e4a81209e3"
      },
      "execution_count": 107,
      "outputs": [
        {
          "output_type": "execute_result",
          "data": {
            "text/plain": [
              "22"
            ]
          },
          "metadata": {},
          "execution_count": 107
        }
      ]
    },
    {
      "cell_type": "code",
      "source": [
        "print(\"a =\\n\", a, \"\\n\")\n",
        "np.unique(a, return_index = True, return_counts = True) # Unique elements, their index and their count"
      ],
      "metadata": {
        "colab": {
          "base_uri": "https://localhost:8080/"
        },
        "id": "MZojjsJGwhFL",
        "outputId": "50214315-f7c0-4db5-baff-3b8f776be8f1"
      },
      "execution_count": 108,
      "outputs": [
        {
          "output_type": "stream",
          "name": "stdout",
          "text": [
            "a =\n",
            " [[15 40 50 43]\n",
            " [54 19 47 65]\n",
            " [16 74 80 80]] \n",
            "\n"
          ]
        },
        {
          "output_type": "execute_result",
          "data": {
            "text/plain": [
              "(array([15, 16, 19, 40, 43, 47, 50, 54, 65, 74, 80]),\n",
              " array([ 0,  8,  5,  1,  3,  6,  2,  4,  7,  9, 10]),\n",
              " array([1, 1, 1, 1, 1, 1, 1, 1, 1, 1, 2]))"
            ]
          },
          "metadata": {},
          "execution_count": 108
        }
      ]
    },
    {
      "cell_type": "markdown",
      "source": [
        "## Stacking in NumPy Arrays\n",
        "- There are mainly two types of stacking in 2D array, i.e. vertical stacking and horizontal stacking."
      ],
      "metadata": {
        "id": "n2nhAF7IxHdm"
      }
    },
    {
      "cell_type": "code",
      "source": [
        "import numpy as np\n",
        "np.random.seed(22)\n",
        "a = np.random.randint(0, 5, 4)\n",
        "b = np.random.randint(5, 10, 4)\n",
        "print(\"a =\", a)\n",
        "print(\"\\nb =\", b)"
      ],
      "metadata": {
        "colab": {
          "base_uri": "https://localhost:8080/"
        },
        "id": "gB7Zh5nwwwet",
        "outputId": "ef3918b7-f586-4e79-8618-f65eb15a57c4"
      },
      "execution_count": 109,
      "outputs": [
        {
          "output_type": "stream",
          "name": "stdout",
          "text": [
            "a = [4 4 0 4]\n",
            "\n",
            "b = [8 9 5 9]\n"
          ]
        }
      ]
    },
    {
      "cell_type": "code",
      "source": [
        "np.hstack((a, b)) # Horizontal stacking of a and b"
      ],
      "metadata": {
        "colab": {
          "base_uri": "https://localhost:8080/"
        },
        "id": "LCFR6uDDknbx",
        "outputId": "66771402-7f4a-40d1-f215-51c9564eaaf0"
      },
      "execution_count": 110,
      "outputs": [
        {
          "output_type": "execute_result",
          "data": {
            "text/plain": [
              "array([4, 4, 0, 4, 8, 9, 5, 9])"
            ]
          },
          "metadata": {},
          "execution_count": 110
        }
      ]
    },
    {
      "cell_type": "code",
      "source": [
        "np.vstack((a, b)) # Vertical stacking of a and b"
      ],
      "metadata": {
        "colab": {
          "base_uri": "https://localhost:8080/"
        },
        "id": "imleyahZksHo",
        "outputId": "d139aa16-7973-4323-811f-915146cc2a73"
      },
      "execution_count": 111,
      "outputs": [
        {
          "output_type": "execute_result",
          "data": {
            "text/plain": [
              "array([[4, 4, 0, 4],\n",
              "       [8, 9, 5, 9]])"
            ]
          },
          "metadata": {},
          "execution_count": 111
        }
      ]
    },
    {
      "cell_type": "code",
      "source": [
        "np.random.seed(22)\n",
        "a = np.random.randint(0, 5, (3, 4))\n",
        "b = np.random.randint(5, 10, (3, 4))\n",
        "print(\"a =\", a)\n",
        "print(\"\\nb =\", b)"
      ],
      "metadata": {
        "colab": {
          "base_uri": "https://localhost:8080/"
        },
        "id": "fqm4MtY5k7B-",
        "outputId": "d83f4c5d-a648-48e2-ec05-cb81e35bdade"
      },
      "execution_count": 112,
      "outputs": [
        {
          "output_type": "stream",
          "name": "stdout",
          "text": [
            "a = [[4 4 0 4]\n",
            " [3 4 0 4]\n",
            " [2 4 0 2]]\n",
            "\n",
            "b = [[7 6 5 5]\n",
            " [8 9 7 7]\n",
            " [6 6 8 8]]\n"
          ]
        }
      ]
    },
    {
      "cell_type": "code",
      "source": [
        "np.hstack((a, b)) # Horizontal stacking of a and b"
      ],
      "metadata": {
        "colab": {
          "base_uri": "https://localhost:8080/"
        },
        "id": "jibh3af3leCi",
        "outputId": "daf13646-ac4d-4be1-8fbe-caa2bad68772"
      },
      "execution_count": 113,
      "outputs": [
        {
          "output_type": "execute_result",
          "data": {
            "text/plain": [
              "array([[4, 4, 0, 4, 7, 6, 5, 5],\n",
              "       [3, 4, 0, 4, 8, 9, 7, 7],\n",
              "       [2, 4, 0, 2, 6, 6, 8, 8]])"
            ]
          },
          "metadata": {},
          "execution_count": 113
        }
      ]
    },
    {
      "cell_type": "code",
      "source": [
        "np.vstack((a, b)) # Vertical stacking of a and b"
      ],
      "metadata": {
        "colab": {
          "base_uri": "https://localhost:8080/"
        },
        "id": "RO5VO1pilkIW",
        "outputId": "3555521d-f272-419a-d819-3291feeb946f"
      },
      "execution_count": 114,
      "outputs": [
        {
          "output_type": "execute_result",
          "data": {
            "text/plain": [
              "array([[4, 4, 0, 4],\n",
              "       [3, 4, 0, 4],\n",
              "       [2, 4, 0, 2],\n",
              "       [7, 6, 5, 5],\n",
              "       [8, 9, 7, 7],\n",
              "       [6, 6, 8, 8]])"
            ]
          },
          "metadata": {},
          "execution_count": 114
        }
      ]
    },
    {
      "cell_type": "markdown",
      "source": [
        "## NumPy Array vs Python List\n",
        "- <B>Size:</B> NumPy data structure take up less space.\n",
        "- <B>Performance:</B> NumPy arrays are faster than Python lists.\n",
        "- <B>Functionality:</B> SciPy and NumPy have optimized built-in functions, such as linear algebra operations."
      ],
      "metadata": {
        "id": "gE8SJVzRmv1R"
      }
    },
    {
      "cell_type": "code",
      "source": [
        "import numpy as np"
      ],
      "metadata": {
        "id": "ITp9olv1pbyO"
      },
      "execution_count": 115,
      "outputs": []
    },
    {
      "cell_type": "code",
      "source": [
        "%timeit [i**2 for i in range(1, 11)] # Python list\n",
        "%timeit np.arange(1, 11)**2 # NumPy array"
      ],
      "metadata": {
        "colab": {
          "base_uri": "https://localhost:8080/"
        },
        "id": "aGZn8PC9ll7U",
        "outputId": "1c57bad4-7487-495b-f840-938f00cbafdf"
      },
      "execution_count": 116,
      "outputs": [
        {
          "output_type": "stream",
          "name": "stdout",
          "text": [
            "3.94 µs ± 651 ns per loop (mean ± std. dev. of 7 runs, 100000 loops each)\n",
            "1.53 µs ± 406 ns per loop (mean ± std. dev. of 7 runs, 1000000 loops each)\n"
          ]
        }
      ]
    },
    {
      "cell_type": "code",
      "source": [
        "%%timeit\n",
        "l = [] # Python list\n",
        "for i in range(1, 100000):\n",
        "    l.append(i**2)"
      ],
      "metadata": {
        "colab": {
          "base_uri": "https://localhost:8080/"
        },
        "id": "qB2aORXGoaUb",
        "outputId": "716635b3-8957-4a78-f72a-a40f66ba4365"
      },
      "execution_count": 117,
      "outputs": [
        {
          "output_type": "stream",
          "name": "stdout",
          "text": [
            "44.7 ms ± 10.8 ms per loop (mean ± std. dev. of 7 runs, 10 loops each)\n"
          ]
        }
      ]
    },
    {
      "cell_type": "code",
      "source": [
        "%%timeit\n",
        "np.arange(1, 100000)**2 # NumPy array"
      ],
      "metadata": {
        "colab": {
          "base_uri": "https://localhost:8080/"
        },
        "id": "YQT0E-TvoeOC",
        "outputId": "a7ef00de-38bf-4db6-dd12-4e39270a7ee4"
      },
      "execution_count": 118,
      "outputs": [
        {
          "output_type": "stream",
          "name": "stdout",
          "text": [
            "114 µs ± 809 ns per loop (mean ± std. dev. of 7 runs, 10000 loops each)\n"
          ]
        }
      ]
    },
    {
      "cell_type": "markdown",
      "source": [
        "## Searching and Inserting an Element in NumPy Array\n",
        "- After finding the value in the array the function returns the index of the value in the array.\n",
        "- For this inserting method the array should be sorted. Since it performs a Binary search to the array and then inserts the element."
      ],
      "metadata": {
        "id": "9wQSutLvpmrz"
      }
    },
    {
      "cell_type": "code",
      "source": [
        "import numpy as np\n",
        "np.random.seed(24)\n",
        "a = np.random.randint(0, 10, 12)\n",
        "np.random.shuffle(a)\n",
        "a"
      ],
      "metadata": {
        "colab": {
          "base_uri": "https://localhost:8080/"
        },
        "id": "HGgnaR1opDoR",
        "outputId": "3719c419-1909-4f4d-b32a-537625f377d3"
      },
      "execution_count": 119,
      "outputs": [
        {
          "output_type": "execute_result",
          "data": {
            "text/plain": [
              "array([1, 1, 4, 2, 1, 3, 3, 2, 0, 3, 4, 7])"
            ]
          },
          "metadata": {},
          "execution_count": 119
        }
      ]
    },
    {
      "cell_type": "code",
      "source": [
        "x = np.where(a == 3) # Returns the index of the value\n",
        "x"
      ],
      "metadata": {
        "colab": {
          "base_uri": "https://localhost:8080/"
        },
        "id": "1tPxT-FyqcXH",
        "outputId": "b14d0fb3-739b-4a56-d98a-1c01cf1c3c96"
      },
      "execution_count": 120,
      "outputs": [
        {
          "output_type": "execute_result",
          "data": {
            "text/plain": [
              "(array([5, 6, 9]),)"
            ]
          },
          "metadata": {},
          "execution_count": 120
        }
      ]
    },
    {
      "cell_type": "code",
      "source": [
        "a[x] # Returns the value of the index"
      ],
      "metadata": {
        "colab": {
          "base_uri": "https://localhost:8080/"
        },
        "id": "08MOHuoSrj-V",
        "outputId": "b639d4fb-67b6-4c1c-8b85-74518b027b94"
      },
      "execution_count": 121,
      "outputs": [
        {
          "output_type": "execute_result",
          "data": {
            "text/plain": [
              "array([3, 3, 3])"
            ]
          },
          "metadata": {},
          "execution_count": 121
        }
      ]
    },
    {
      "cell_type": "code",
      "source": [
        "a = a.reshape((2, 3, 2))\n",
        "a"
      ],
      "metadata": {
        "colab": {
          "base_uri": "https://localhost:8080/"
        },
        "id": "6YvlN6CPrs3T",
        "outputId": "1410b03d-9c78-4e0e-d6d1-e8378e0284f7"
      },
      "execution_count": 122,
      "outputs": [
        {
          "output_type": "execute_result",
          "data": {
            "text/plain": [
              "array([[[1, 1],\n",
              "        [4, 2],\n",
              "        [1, 3]],\n",
              "\n",
              "       [[3, 2],\n",
              "        [0, 3],\n",
              "        [4, 7]]])"
            ]
          },
          "metadata": {},
          "execution_count": 122
        }
      ]
    },
    {
      "cell_type": "code",
      "source": [
        "x = np.where(a == 4) # Returns the index of the value\n",
        "x"
      ],
      "metadata": {
        "colab": {
          "base_uri": "https://localhost:8080/"
        },
        "id": "d8ONVeOur2Id",
        "outputId": "0b9308d3-26cd-4271-c35c-e8940b763664"
      },
      "execution_count": 123,
      "outputs": [
        {
          "output_type": "execute_result",
          "data": {
            "text/plain": [
              "(array([0, 1]), array([1, 2]), array([0, 0]))"
            ]
          },
          "metadata": {},
          "execution_count": 123
        }
      ]
    },
    {
      "cell_type": "code",
      "source": [
        "a[x] # Returns the value of the index"
      ],
      "metadata": {
        "colab": {
          "base_uri": "https://localhost:8080/"
        },
        "id": "Zp0hCuzhr6Zw",
        "outputId": "0edabcc1-ba27-476a-b071-83e31744eca1"
      },
      "execution_count": 124,
      "outputs": [
        {
          "output_type": "execute_result",
          "data": {
            "text/plain": [
              "array([4, 4])"
            ]
          },
          "metadata": {},
          "execution_count": 124
        }
      ]
    },
    {
      "cell_type": "code",
      "source": [
        "b = np.arange(1, 9)\n",
        "evens = np.where(b%2 == 0) # Returns the index of the value\n",
        "evens"
      ],
      "metadata": {
        "colab": {
          "base_uri": "https://localhost:8080/"
        },
        "id": "z42p0jLcr_gQ",
        "outputId": "719acd52-e936-4279-90cd-d0a33e77f60b"
      },
      "execution_count": 125,
      "outputs": [
        {
          "output_type": "execute_result",
          "data": {
            "text/plain": [
              "(array([1, 3, 5, 7]),)"
            ]
          },
          "metadata": {},
          "execution_count": 125
        }
      ]
    },
    {
      "cell_type": "code",
      "source": [
        "b[evens] # Returns the value of the index"
      ],
      "metadata": {
        "colab": {
          "base_uri": "https://localhost:8080/"
        },
        "id": "nftv_goBsvvo",
        "outputId": "dda4ca90-2b02-465a-c314-38cb62838965"
      },
      "execution_count": 126,
      "outputs": [
        {
          "output_type": "execute_result",
          "data": {
            "text/plain": [
              "array([2, 4, 6, 8])"
            ]
          },
          "metadata": {},
          "execution_count": 126
        }
      ]
    },
    {
      "cell_type": "code",
      "source": [
        "np.random.seed(16)\n",
        "c = np.random.randint(0, 10, 8)\n",
        "c.sort() # We always have to sort it, else it give us a baseless output\n",
        "c"
      ],
      "metadata": {
        "colab": {
          "base_uri": "https://localhost:8080/"
        },
        "id": "q57rmaLDsylk",
        "outputId": "d610aaa4-ba4c-47c9-d7aa-f520c8d0beb7"
      },
      "execution_count": 127,
      "outputs": [
        {
          "output_type": "execute_result",
          "data": {
            "text/plain": [
              "array([0, 1, 4, 4, 5, 9, 9, 9])"
            ]
          },
          "metadata": {},
          "execution_count": 127
        }
      ]
    },
    {
      "cell_type": "code",
      "source": [
        "x = 7\n",
        "np.searchsorted(c, x) # Returns the index of the value"
      ],
      "metadata": {
        "colab": {
          "base_uri": "https://localhost:8080/"
        },
        "id": "OxSkh7L8t2LW",
        "outputId": "03117751-9564-4f95-c928-e118f02c91aa"
      },
      "execution_count": 128,
      "outputs": [
        {
          "output_type": "execute_result",
          "data": {
            "text/plain": [
              "5"
            ]
          },
          "metadata": {},
          "execution_count": 128
        }
      ]
    },
    {
      "cell_type": "code",
      "source": [
        "np.insert(c, np.searchsorted(c, x), x) # Inserts the value at the given index\n",
        "c"
      ],
      "metadata": {
        "colab": {
          "base_uri": "https://localhost:8080/"
        },
        "id": "jhTw4MlUvGR_",
        "outputId": "73bcab9b-9082-47fd-e875-fa785b307f47"
      },
      "execution_count": 129,
      "outputs": [
        {
          "output_type": "execute_result",
          "data": {
            "text/plain": [
              "array([0, 1, 4, 4, 5, 9, 9, 9])"
            ]
          },
          "metadata": {},
          "execution_count": 129
        }
      ]
    },
    {
      "cell_type": "code",
      "source": [],
      "metadata": {
        "id": "BozoxT7dwxbb"
      },
      "execution_count": 129,
      "outputs": []
    }
  ]
}