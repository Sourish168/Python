{
 "cells": [
  {
   "cell_type": "markdown",
   "id": "79c50e07",
   "metadata": {},
   "source": [
    "## NumPy Functions: View vs Copy\n",
    "- We can slice an array by two ways, making view or using a copy of it.\n",
    "- <B>View:</B> In this method if we change any part of the subarray then it is replicated in original.\n",
    "- <B>Copy:</B> In this method if we change any part of the subarray then it is not replicated in original."
   ]
  },
  {
   "cell_type": "code",
   "execution_count": 1,
   "id": "773eab6e",
   "metadata": {},
   "outputs": [
    {
     "name": "stdout",
     "output_type": "stream",
     "text": [
      "b = [50 60 70]\n",
      "\n",
      "Modified b = [0 0 0]\n",
      "\n",
      "Note that, now a = [10 20 30 40  0  0  0 80]\n"
     ]
    }
   ],
   "source": [
    "import numpy as np\n",
    "a = np.array([10, 20, 30, 40, 50, 60, 70, 80])\n",
    "b = a[4:7] # Slicing a subarray, by default it is using view technique\n",
    "print(\"b =\", b)\n",
    "b[:] = 0\n",
    "print(\"\\nModified b =\", b)\n",
    "print(\"\\nNote that, now a =\", a)"
   ]
  },
  {
   "cell_type": "code",
   "execution_count": 2,
   "id": "41a996d5",
   "metadata": {},
   "outputs": [
    {
     "name": "stdout",
     "output_type": "stream",
     "text": [
      "b = [50 60 70]\n",
      "\n",
      "Modified b = [0 0 0]\n",
      "\n",
      "Note that, now a = [10 20 30 40 50 60 70 80]\n"
     ]
    }
   ],
   "source": [
    "a = np.array([10, 20, 30, 40, 50, 60, 70, 80])\n",
    "b = a[4:7].copy() # Slicing a subarray, but this time using copy technique\n",
    "print(\"b =\", b)\n",
    "b[:] = 0\n",
    "print(\"\\nModified b =\", b)\n",
    "print(\"\\nNote that, now a =\", a)"
   ]
  },
  {
   "cell_type": "code",
   "execution_count": null,
   "id": "819601ea",
   "metadata": {},
   "outputs": [],
   "source": []
  }
 ],
 "metadata": {
  "kernelspec": {
   "display_name": "test_env",
   "language": "python",
   "name": "python3"
  },
  "language_info": {
   "codemirror_mode": {
    "name": "ipython",
    "version": 3
   },
   "file_extension": ".py",
   "mimetype": "text/x-python",
   "name": "python",
   "nbconvert_exporter": "python",
   "pygments_lexer": "ipython3",
   "version": "3.13.5"
  }
 },
 "nbformat": 4,
 "nbformat_minor": 5
}
