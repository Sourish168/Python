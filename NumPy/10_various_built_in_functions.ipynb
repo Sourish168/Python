{
 "cells": [
  {
   "cell_type": "markdown",
   "id": "0ada9294",
   "metadata": {},
   "source": [
    "## Various Built-in Functions in NumPy\n",
    "- There are many built-in functions in NumPy library.\n",
    "- These functions have very less computational cost i.e. cost effective."
   ]
  },
  {
   "cell_type": "markdown",
   "id": "ed6f9d4a",
   "metadata": {},
   "source": [
    "### For 1D Array"
   ]
  },
  {
   "cell_type": "code",
   "execution_count": 1,
   "id": "e9640cf3",
   "metadata": {},
   "outputs": [
    {
     "data": {
      "text/plain": [
       "array([15, 40, 50, 43, 54, 19, 47, 65, 16, 74, 80, 80])"
      ]
     },
     "execution_count": 1,
     "metadata": {},
     "output_type": "execute_result"
    }
   ],
   "source": [
    "import numpy as np\n",
    "np.random.seed(36)\n",
    "a = np.random.randint(10, 99, 12)\n",
    "a"
   ]
  },
  {
   "cell_type": "code",
   "execution_count": 2,
   "id": "0ac1570b",
   "metadata": {},
   "outputs": [
    {
     "data": {
      "text/plain": [
       "np.int64(583)"
      ]
     },
     "execution_count": 2,
     "metadata": {},
     "output_type": "execute_result"
    }
   ],
   "source": [
    "np.sum(a) # Sum of all elements in the array"
   ]
  },
  {
   "cell_type": "code",
   "execution_count": 3,
   "id": "e7f669c1",
   "metadata": {},
   "outputs": [
    {
     "data": {
      "text/plain": [
       "np.int64(15)"
      ]
     },
     "execution_count": 3,
     "metadata": {},
     "output_type": "execute_result"
    }
   ],
   "source": [
    "np.min(a) # Minimum element in the array"
   ]
  },
  {
   "cell_type": "code",
   "execution_count": 4,
   "id": "d6104e0a",
   "metadata": {},
   "outputs": [
    {
     "data": {
      "text/plain": [
       "np.int64(80)"
      ]
     },
     "execution_count": 4,
     "metadata": {},
     "output_type": "execute_result"
    }
   ],
   "source": [
    "np.max(a) # Maximum element in the array"
   ]
  },
  {
   "cell_type": "code",
   "execution_count": 5,
   "id": "1b2c99ad",
   "metadata": {},
   "outputs": [
    {
     "data": {
      "text/plain": [
       "np.int64(0)"
      ]
     },
     "execution_count": 5,
     "metadata": {},
     "output_type": "execute_result"
    }
   ],
   "source": [
    "np.argmin(a) # Index of the minimum element in the array"
   ]
  },
  {
   "cell_type": "code",
   "execution_count": 6,
   "id": "285e2dca",
   "metadata": {},
   "outputs": [
    {
     "data": {
      "text/plain": [
       "np.int64(10)"
      ]
     },
     "execution_count": 6,
     "metadata": {},
     "output_type": "execute_result"
    }
   ],
   "source": [
    "np.argmax(a) # Index of the maximum element in the array"
   ]
  },
  {
   "cell_type": "code",
   "execution_count": 7,
   "id": "df5158df",
   "metadata": {},
   "outputs": [
    {
     "data": {
      "text/plain": [
       "array([3.87298335, 6.32455532, 7.07106781, 6.55743852, 7.34846923,\n",
       "       4.35889894, 6.8556546 , 8.06225775, 4.        , 8.60232527,\n",
       "       8.94427191, 8.94427191])"
      ]
     },
     "execution_count": 7,
     "metadata": {},
     "output_type": "execute_result"
    }
   ],
   "source": [
    "np.sqrt(a) # Square root of each element in the array"
   ]
  },
  {
   "cell_type": "code",
   "execution_count": 8,
   "id": "15f9d15f",
   "metadata": {},
   "outputs": [
    {
     "data": {
      "text/plain": [
       "array([ 0.65028784,  0.74511316, -0.26237485, -0.83177474, -0.55878905,\n",
       "        0.14987721,  0.12357312,  0.82682868, -0.28790332, -0.98514626,\n",
       "       -0.99388865, -0.99388865])"
      ]
     },
     "execution_count": 8,
     "metadata": {},
     "output_type": "execute_result"
    }
   ],
   "source": [
    "np.sin(a) # Sine of each element in the array"
   ]
  },
  {
   "cell_type": "code",
   "execution_count": 9,
   "id": "a6c7a544",
   "metadata": {},
   "outputs": [
    {
     "data": {
      "text/plain": [
       "array([-0.75968791, -0.66693806,  0.96496603,  0.5551133 , -0.82930983,\n",
       "        0.98870462, -0.99233547, -0.56245385, -0.95765948,  0.17171734,\n",
       "       -0.11038724, -0.11038724])"
      ]
     },
     "execution_count": 9,
     "metadata": {},
     "output_type": "execute_result"
    }
   ],
   "source": [
    "np.cos(a) # Cosine of each element in the array"
   ]
  },
  {
   "cell_type": "code",
   "execution_count": 10,
   "id": "6fa0d924",
   "metadata": {},
   "outputs": [
    {
     "data": {
      "text/plain": [
       "array([-0.8559934 , -1.11721493, -0.27190061, -1.49838734,  0.6738001 ,\n",
       "        0.15158947, -0.12452757, -1.47003826,  0.30063224, -5.73702254,\n",
       "        9.00365495,  9.00365495])"
      ]
     },
     "execution_count": 10,
     "metadata": {},
     "output_type": "execute_result"
    }
   ],
   "source": [
    "np.tan(a) # Tangent of each element in the array"
   ]
  },
  {
   "cell_type": "code",
   "execution_count": 11,
   "id": "4aee242f",
   "metadata": {},
   "outputs": [
    {
     "data": {
      "text/plain": [
       "array([1. , 1.4, 1.8, 2.2, 2.6, 3. ])"
      ]
     },
     "execution_count": 11,
     "metadata": {},
     "output_type": "execute_result"
    }
   ],
   "source": [
    "b = np.linspace(1, 3, 6) # Returns a 6 length array starts with 1, ends with 3 of equidistance values\n",
    "b"
   ]
  },
  {
   "cell_type": "code",
   "execution_count": 12,
   "id": "0d4cd1c3",
   "metadata": {},
   "outputs": [
    {
     "data": {
      "text/plain": [
       "array([ 1. ,  0.6,  0.2, -0.2, -0.6, -1. ])"
      ]
     },
     "execution_count": 12,
     "metadata": {},
     "output_type": "execute_result"
    }
   ],
   "source": [
    "b = np.linspace(1, -1, 6) # Returns a 6 length array starts with 1, ends with -1 of equidistance values\n",
    "b"
   ]
  },
  {
   "cell_type": "markdown",
   "id": "978fdb47",
   "metadata": {},
   "source": [
    "### For 2D or nD Array"
   ]
  },
  {
   "cell_type": "code",
   "execution_count": 13,
   "id": "8853409b",
   "metadata": {},
   "outputs": [
    {
     "data": {
      "text/plain": [
       "array([[15, 40, 50, 43],\n",
       "       [54, 19, 47, 65],\n",
       "       [16, 74, 80, 80]])"
      ]
     },
     "execution_count": 13,
     "metadata": {},
     "output_type": "execute_result"
    }
   ],
   "source": [
    "import numpy as np\n",
    "np.random.seed(36)\n",
    "a = np.random.randint(10, 99, 12).reshape(3, 4)\n",
    "a"
   ]
  },
  {
   "cell_type": "code",
   "execution_count": 14,
   "id": "9bd6d72a",
   "metadata": {},
   "outputs": [
    {
     "data": {
      "text/plain": [
       "array([ 85, 133, 177, 188])"
      ]
     },
     "execution_count": 14,
     "metadata": {},
     "output_type": "execute_result"
    }
   ],
   "source": [
    "np.sum(a, axis = 0) # Sum of each column"
   ]
  },
  {
   "cell_type": "code",
   "execution_count": 15,
   "id": "2eb1d9c2",
   "metadata": {},
   "outputs": [
    {
     "data": {
      "text/plain": [
       "array([148, 185, 250])"
      ]
     },
     "execution_count": 15,
     "metadata": {},
     "output_type": "execute_result"
    }
   ],
   "source": [
    "np.sum(a, axis = 1) # Sum of each row"
   ]
  },
  {
   "cell_type": "code",
   "execution_count": 16,
   "id": "946f47ac",
   "metadata": {},
   "outputs": [
    {
     "data": {
      "text/plain": [
       "array([ 15,  55, 105, 148, 202, 221, 268, 333, 349, 423, 503, 583])"
      ]
     },
     "execution_count": 16,
     "metadata": {},
     "output_type": "execute_result"
    }
   ],
   "source": [
    "np.cumsum(a) # Cumulative sum of each element"
   ]
  },
  {
   "cell_type": "code",
   "execution_count": 17,
   "id": "519c6ef1",
   "metadata": {},
   "outputs": [
    {
     "data": {
      "text/plain": [
       "array([[ 15,  40,  50,  43],\n",
       "       [ 69,  59,  97, 108],\n",
       "       [ 85, 133, 177, 188]])"
      ]
     },
     "execution_count": 17,
     "metadata": {},
     "output_type": "execute_result"
    }
   ],
   "source": [
    "np.cumsum(a, axis = 0) # Cumulative sum of each column"
   ]
  },
  {
   "cell_type": "code",
   "execution_count": 18,
   "id": "18c768b8",
   "metadata": {},
   "outputs": [
    {
     "data": {
      "text/plain": [
       "array([[ 15,  55, 105, 148],\n",
       "       [ 54,  73, 120, 185],\n",
       "       [ 16,  90, 170, 250]])"
      ]
     },
     "execution_count": 18,
     "metadata": {},
     "output_type": "execute_result"
    }
   ],
   "source": [
    "np.cumsum(a, axis = 1) # Cumulative sum of each row"
   ]
  },
  {
   "cell_type": "code",
   "execution_count": 19,
   "id": "6b3e208a",
   "metadata": {},
   "outputs": [
    {
     "data": {
      "text/plain": [
       "array([15, 19, 47, 43])"
      ]
     },
     "execution_count": 19,
     "metadata": {},
     "output_type": "execute_result"
    }
   ],
   "source": [
    "np.min(a, axis = 0) # Minimum of each column"
   ]
  },
  {
   "cell_type": "code",
   "execution_count": 20,
   "id": "caa76028",
   "metadata": {},
   "outputs": [
    {
     "data": {
      "text/plain": [
       "array([50, 65, 80])"
      ]
     },
     "execution_count": 20,
     "metadata": {},
     "output_type": "execute_result"
    }
   ],
   "source": [
    "np.max(a, axis = 1) # Maximum of each row"
   ]
  },
  {
   "cell_type": "code",
   "execution_count": 21,
   "id": "b8d58411",
   "metadata": {},
   "outputs": [
    {
     "data": {
      "text/plain": [
       "array([[[32, 41, 11, 32],\n",
       "        [46, 24, 93, 87],\n",
       "        [40, 55, 31, 23]],\n",
       "\n",
       "       [[47, 32, 56, 35],\n",
       "        [77, 34, 51, 74],\n",
       "        [84, 88, 29, 98]]])"
      ]
     },
     "execution_count": 21,
     "metadata": {},
     "output_type": "execute_result"
    }
   ],
   "source": [
    "c = np.random.randint(10, 99, 24).reshape(2, 3, 4)\n",
    "c"
   ]
  },
  {
   "cell_type": "code",
   "execution_count": 22,
   "id": "ad2d9693",
   "metadata": {},
   "outputs": [
    {
     "data": {
      "text/plain": [
       "(2, 3, 4)"
      ]
     },
     "execution_count": 22,
     "metadata": {},
     "output_type": "execute_result"
    }
   ],
   "source": [
    "c.shape"
   ]
  },
  {
   "cell_type": "code",
   "execution_count": 23,
   "id": "6c20a210",
   "metadata": {},
   "outputs": [
    {
     "data": {
      "text/plain": [
       "array([[39.5, 36.5, 33.5, 33.5],\n",
       "       [61.5, 29. , 72. , 80.5],\n",
       "       [62. , 71.5, 30. , 60.5]])"
      ]
     },
     "execution_count": 23,
     "metadata": {},
     "output_type": "execute_result"
    }
   ],
   "source": [
    "np.mean(c, axis = 0) # Mean of each axis = 0 (2)"
   ]
  },
  {
   "cell_type": "code",
   "execution_count": 24,
   "id": "bc7b3085",
   "metadata": {},
   "outputs": [
    {
     "data": {
      "text/plain": [
       "array([[40., 41., 31., 32.],\n",
       "       [77., 34., 51., 74.]])"
      ]
     },
     "execution_count": 24,
     "metadata": {},
     "output_type": "execute_result"
    }
   ],
   "source": [
    "np.median(c, axis = 1) # Median of each axis = 1 (3)"
   ]
  },
  {
   "cell_type": "code",
   "execution_count": 25,
   "id": "85074ffe",
   "metadata": {},
   "outputs": [
    {
     "data": {
      "text/plain": [
       "array([[116, 250, 149],\n",
       "       [170, 236, 299]])"
      ]
     },
     "execution_count": 25,
     "metadata": {},
     "output_type": "execute_result"
    }
   ],
   "source": [
    "np.sum(c, axis = 2) # Sum of each axis = 2 (4)"
   ]
  },
  {
   "cell_type": "code",
   "execution_count": 26,
   "id": "36619752",
   "metadata": {},
   "outputs": [
    {
     "data": {
      "text/plain": [
       "array([[[47, 32, 56, 35],\n",
       "        [77, 34, 51, 74],\n",
       "        [84, 88, 29, 98]],\n",
       "\n",
       "       [[32, 41, 11, 32],\n",
       "        [46, 24, 93, 87],\n",
       "        [40, 55, 31, 23]]])"
      ]
     },
     "execution_count": 26,
     "metadata": {},
     "output_type": "execute_result"
    }
   ],
   "source": [
    "np.random.shuffle(c) # Shuffling the array\n",
    "c"
   ]
  },
  {
   "cell_type": "code",
   "execution_count": 27,
   "id": "85b80406",
   "metadata": {},
   "outputs": [
    {
     "data": {
      "text/plain": [
       "array([[15, 40, 43, 50],\n",
       "       [54, 19, 65, 47],\n",
       "       [16, 74, 80, 80]])"
      ]
     },
     "execution_count": 27,
     "metadata": {},
     "output_type": "execute_result"
    }
   ],
   "source": [
    "np.unique(a, axis = 1) # Rowise unique elements in the array"
   ]
  },
  {
   "cell_type": "code",
   "execution_count": 28,
   "id": "651cccf7",
   "metadata": {},
   "outputs": [
    {
     "data": {
      "text/plain": [
       "array([[[32, 41, 11, 32],\n",
       "        [46, 24, 93, 87],\n",
       "        [40, 55, 31, 23]],\n",
       "\n",
       "       [[47, 32, 56, 35],\n",
       "        [77, 34, 51, 74],\n",
       "        [84, 88, 29, 98]]])"
      ]
     },
     "execution_count": 28,
     "metadata": {},
     "output_type": "execute_result"
    }
   ],
   "source": [
    "np.unique(c, axis = 0) # Unique elements in the array of axis = 0 (2)"
   ]
  },
  {
   "cell_type": "code",
   "execution_count": 29,
   "id": "b68c5661",
   "metadata": {},
   "outputs": [
    {
     "data": {
      "text/plain": [
       "22"
      ]
     },
     "execution_count": 29,
     "metadata": {},
     "output_type": "execute_result"
    }
   ],
   "source": [
    "np.unique(c).size # Total number of unique elements in the array"
   ]
  },
  {
   "cell_type": "code",
   "execution_count": 30,
   "id": "d88d16b2",
   "metadata": {},
   "outputs": [
    {
     "name": "stdout",
     "output_type": "stream",
     "text": [
      "a =\n",
      " [[15 40 50 43]\n",
      " [54 19 47 65]\n",
      " [16 74 80 80]] \n",
      "\n"
     ]
    },
    {
     "data": {
      "text/plain": [
       "(array([15, 16, 19, 40, 43, 47, 50, 54, 65, 74, 80]),\n",
       " array([ 0,  8,  5,  1,  3,  6,  2,  4,  7,  9, 10]),\n",
       " array([1, 1, 1, 1, 1, 1, 1, 1, 1, 1, 2]))"
      ]
     },
     "execution_count": 30,
     "metadata": {},
     "output_type": "execute_result"
    }
   ],
   "source": [
    "print(\"a =\\n\", a, \"\\n\")\n",
    "np.unique(a, return_index = True, return_counts = True) # Unique elements, their index and their count"
   ]
  },
  {
   "cell_type": "code",
   "execution_count": null,
   "id": "75f35183",
   "metadata": {},
   "outputs": [],
   "source": []
  }
 ],
 "metadata": {
  "kernelspec": {
   "display_name": "test_env",
   "language": "python",
   "name": "python3"
  },
  "language_info": {
   "codemirror_mode": {
    "name": "ipython",
    "version": 3
   },
   "file_extension": ".py",
   "mimetype": "text/x-python",
   "name": "python",
   "nbconvert_exporter": "python",
   "pygments_lexer": "ipython3",
   "version": "3.13.5"
  }
 },
 "nbformat": 4,
 "nbformat_minor": 5
}
