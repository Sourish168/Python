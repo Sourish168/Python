{
 "cells": [
  {
   "cell_type": "markdown",
   "id": "a1aa7324",
   "metadata": {},
   "source": [
    "## Introduction to NumPy\n",
    "- <B>NumPy = Num(Numerical) + Py(Python)</B>\n",
    "- Mainly use for Mathematical and Logical calculations on arrays(Vector, Matrix, Tensor, n-dimensional array etc).\n",
    "- NumPy arrays are much more faster than Python Lists. Some reasons for this are \"Array is a collection of similar types of data\", NumPy is associated with C Programming etc.\n",
    "- There are many built-in functions for Linear Algebra and many more scientific calculations in NumPy.\n",
    "- For using all library functions of NumPy we can use the documentation: https://numpy.org/doc/stable/user/basics.html"
   ]
  },
  {
   "cell_type": "markdown",
   "id": "67ca86a0",
   "metadata": {},
   "source": [
    "## Importing NumPy Library"
   ]
  },
  {
   "cell_type": "code",
   "execution_count": 1,
   "id": "75ec2d18",
   "metadata": {},
   "outputs": [
    {
     "name": "stdout",
     "output_type": "stream",
     "text": [
      "Requirement already satisfied: numpy in /Users/sou/anaconda3/envs/test_env/lib/python3.13/site-packages (2.3.1)\n"
     ]
    }
   ],
   "source": [
    "!pip install numpy # Installing NumPy Library (Only for Jupyter Command Line)"
   ]
  },
  {
   "cell_type": "code",
   "execution_count": 2,
   "id": "ef58cb27",
   "metadata": {},
   "outputs": [],
   "source": [
    "import numpy as np # Importing NumPy Library for using\n",
    "# Using this command we can use \"np\" in place of \"numpy\""
   ]
  },
  {
   "cell_type": "markdown",
   "id": "7da04859",
   "metadata": {},
   "source": [
    "## Executing Programs in NumPy\n",
    "- There are 2 modes in a Jupyter Notebook cell <B>(i)Command Mode</B> and <B> (ii)Edit Mode.</B>\n",
    "- We can write a code in a cell only in edit mode and after running the code it is in command mode.\n",
    "- We can use <B><I><U>HTML Tags for our markdown cell.</B></I></U>"
   ]
  },
  {
   "cell_type": "code",
   "execution_count": 3,
   "id": "bf889efd",
   "metadata": {},
   "outputs": [
    {
     "data": {
      "text/plain": [
       "[1, 2, 3, 5]"
      ]
     },
     "execution_count": 3,
     "metadata": {},
     "output_type": "execute_result"
    }
   ],
   "source": [
    "import numpy as np\n",
    "a = [1, 2, 3, 5]\n",
    "a"
   ]
  },
  {
   "cell_type": "code",
   "execution_count": null,
   "id": "c38a5b82",
   "metadata": {},
   "outputs": [],
   "source": []
  }
 ],
 "metadata": {
  "kernelspec": {
   "display_name": "test_env",
   "language": "python",
   "name": "python3"
  },
  "language_info": {
   "codemirror_mode": {
    "name": "ipython",
    "version": 3
   },
   "file_extension": ".py",
   "mimetype": "text/x-python",
   "name": "python",
   "nbconvert_exporter": "python",
   "pygments_lexer": "ipython3",
   "version": "3.13.5"
  }
 },
 "nbformat": 4,
 "nbformat_minor": 5
}
