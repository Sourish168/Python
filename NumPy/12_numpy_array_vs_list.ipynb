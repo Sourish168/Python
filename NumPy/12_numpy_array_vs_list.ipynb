{
 "cells": [
  {
   "cell_type": "markdown",
   "id": "b5d9d549",
   "metadata": {},
   "source": [
    "## NumPy Array vs Python List\n",
    "- <B>Size:</B> NumPy data structure take up less space.\n",
    "- <B>Performance:</B> NumPy arrays are faster than Python lists.\n",
    "- <B>Functionality:</B> SciPy and NumPy have optimized built-in functions, such as linear algebra operations."
   ]
  },
  {
   "cell_type": "code",
   "execution_count": 1,
   "id": "5c06a89d",
   "metadata": {},
   "outputs": [],
   "source": [
    "import numpy as np"
   ]
  },
  {
   "cell_type": "code",
   "execution_count": 2,
   "id": "e8f20d7b",
   "metadata": {},
   "outputs": [
    {
     "name": "stdout",
     "output_type": "stream",
     "text": [
      "164 ns ± 0.381 ns per loop (mean ± std. dev. of 7 runs, 10,000,000 loops each)\n",
      "538 ns ± 10.6 ns per loop (mean ± std. dev. of 7 runs, 1,000,000 loops each)\n"
     ]
    }
   ],
   "source": [
    "%timeit [i**2 for i in range(1, 11)] # Python list\n",
    "%timeit np.arange(1, 11)**2 # NumPy array"
   ]
  },
  {
   "cell_type": "code",
   "execution_count": 3,
   "id": "58e19528",
   "metadata": {},
   "outputs": [
    {
     "name": "stdout",
     "output_type": "stream",
     "text": [
      "CPU times: user 10.1 ms, sys: 1.43 ms, total: 11.5 ms\n",
      "Wall time: 11 ms\n"
     ]
    }
   ],
   "source": [
    "%%time\n",
    "l = [] # Python list\n",
    "for i in range(1, 100000):\n",
    "    l.append(i**2)"
   ]
  },
  {
   "cell_type": "code",
   "execution_count": 4,
   "id": "2f907d35",
   "metadata": {},
   "outputs": [
    {
     "name": "stdout",
     "output_type": "stream",
     "text": [
      "CPU times: user 719 μs, sys: 688 μs, total: 1.41 ms\n",
      "Wall time: 727 μs\n"
     ]
    },
    {
     "data": {
      "text/plain": [
       "array([         1,          4,          9, ..., 9999400009, 9999600004,\n",
       "       9999800001], shape=(99999,))"
      ]
     },
     "execution_count": 4,
     "metadata": {},
     "output_type": "execute_result"
    }
   ],
   "source": [
    "%%time\n",
    "np.arange(1, 100000)**2 # NumPy array"
   ]
  },
  {
   "cell_type": "code",
   "execution_count": null,
   "id": "34dc8144",
   "metadata": {},
   "outputs": [],
   "source": []
  }
 ],
 "metadata": {
  "kernelspec": {
   "display_name": "test_env",
   "language": "python",
   "name": "python3"
  },
  "language_info": {
   "codemirror_mode": {
    "name": "ipython",
    "version": 3
   },
   "file_extension": ".py",
   "mimetype": "text/x-python",
   "name": "python",
   "nbconvert_exporter": "python",
   "pygments_lexer": "ipython3",
   "version": "3.13.5"
  }
 },
 "nbformat": 4,
 "nbformat_minor": 5
}
