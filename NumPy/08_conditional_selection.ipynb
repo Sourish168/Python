{
 "cells": [
  {
   "cell_type": "markdown",
   "id": "2ca0c99f",
   "metadata": {},
   "source": [
    "## Conditional Selection in NumPy Array\n",
    "- We can use logical symbols for conditioning. E.g. logical or, logical and etc.\n",
    "- We can update an array using conditional selection rule."
   ]
  },
  {
   "cell_type": "code",
   "execution_count": 1,
   "id": "af23304c",
   "metadata": {},
   "outputs": [
    {
     "data": {
      "text/plain": [
       "array([ 1,  2,  3,  4,  5,  6,  7,  8,  9, 10, 11, 12, 13, 14])"
      ]
     },
     "execution_count": 1,
     "metadata": {},
     "output_type": "execute_result"
    }
   ],
   "source": [
    "import numpy as np\n",
    "a = np.arange(1, 15) # Arranging array elements starting from 1 to 14\n",
    "a"
   ]
  },
  {
   "cell_type": "code",
   "execution_count": 2,
   "id": "aa1239cd",
   "metadata": {},
   "outputs": [
    {
     "data": {
      "text/plain": [
       "array([False, False, False, False, False, False, False,  True,  True,\n",
       "        True,  True,  True,  True,  True])"
      ]
     },
     "execution_count": 2,
     "metadata": {},
     "output_type": "execute_result"
    }
   ],
   "source": [
    "a > 7 # Elementwise condition checking, creating binary array"
   ]
  },
  {
   "cell_type": "code",
   "execution_count": 3,
   "id": "72dedd27",
   "metadata": {},
   "outputs": [
    {
     "name": "stdout",
     "output_type": "stream",
     "text": [
      "a = [ 1  3  5  7  9 11 13]\n",
      "\n",
      "b = [False False False  True  True  True  True]\n",
      "\n",
      "a[b] = [ 7  9 11 13]\n"
     ]
    }
   ],
   "source": [
    "a = np.arange(1, 15, 2) # Arranging array elements starting from 1 to 14 with gap 2\n",
    "print(\"a =\", a)\n",
    "b = a >= 7 # Conditional selection\n",
    "print(\"\\nb =\", b)\n",
    "print(\"\\na[b] =\", a[b]) # Binary Indexing for retriving elements"
   ]
  },
  {
   "cell_type": "code",
   "execution_count": 4,
   "id": "6fb38dc7",
   "metadata": {},
   "outputs": [
    {
     "name": "stdout",
     "output_type": "stream",
     "text": [
      "a = [ 0  1  2  3  4  5  6  7  8  9 10 11 12 13 14] \n",
      "\n"
     ]
    },
    {
     "data": {
      "text/plain": [
       "array([ 0,  2,  4,  6,  8, 10, 12, 14])"
      ]
     },
     "execution_count": 4,
     "metadata": {},
     "output_type": "execute_result"
    }
   ],
   "source": [
    "a = np.arange(0, 15)\n",
    "print(\"a =\", a, \"\\n\")\n",
    "a[a%2 == 0] # Conditional selection"
   ]
  },
  {
   "cell_type": "code",
   "execution_count": 5,
   "id": "194b3b8e",
   "metadata": {},
   "outputs": [
    {
     "name": "stdout",
     "output_type": "stream",
     "text": [
      "a == 10:\n",
      " [False False False False False False False False False False  True False\n",
      " False False False] \n",
      "\n"
     ]
    },
    {
     "data": {
      "text/plain": [
       "array([10])"
      ]
     },
     "execution_count": 5,
     "metadata": {},
     "output_type": "execute_result"
    }
   ],
   "source": [
    "print(\"a == 10:\\n\", a == 10, \"\\n\") # == is logical equal\n",
    "a[a == 10] # Conditional selection"
   ]
  },
  {
   "cell_type": "code",
   "execution_count": 6,
   "id": "7bc38044",
   "metadata": {},
   "outputs": [
    {
     "name": "stdout",
     "output_type": "stream",
     "text": [
      "(a > 5) & (a < 10):\n",
      " [False False False False False False  True  True  True  True False False\n",
      " False False False] \n",
      "\n"
     ]
    },
    {
     "data": {
      "text/plain": [
       "array([6, 7, 8, 9])"
      ]
     },
     "execution_count": 6,
     "metadata": {},
     "output_type": "execute_result"
    }
   ],
   "source": [
    "print(\"(a > 5) & (a < 10):\\n\", (a > 5) & (a < 10), \"\\n\") # & is logical and\n",
    "a[(a > 5) & (a < 10)] # Conditional selection"
   ]
  },
  {
   "cell_type": "code",
   "execution_count": 7,
   "id": "5ad3f594",
   "metadata": {},
   "outputs": [
    {
     "name": "stdout",
     "output_type": "stream",
     "text": [
      "(a < 5) & (a > 10):\n",
      " [False False False False False False False False False False False False\n",
      " False False False] \n",
      "\n"
     ]
    },
    {
     "data": {
      "text/plain": [
       "array([], dtype=int64)"
      ]
     },
     "execution_count": 7,
     "metadata": {},
     "output_type": "execute_result"
    }
   ],
   "source": [
    "print(\"(a < 5) & (a > 10):\\n\", (a < 5) & (a > 10), \"\\n\")\n",
    "a[(a < 5) & (a > 10)] # Conditional selection, everything is false, thus null array"
   ]
  },
  {
   "cell_type": "code",
   "execution_count": 8,
   "id": "809c7118",
   "metadata": {},
   "outputs": [
    {
     "name": "stdout",
     "output_type": "stream",
     "text": [
      "(a < 5) | (a > 10):\n",
      " [ True  True  True  True  True False False False False False False  True\n",
      "  True  True  True] \n",
      "\n"
     ]
    },
    {
     "data": {
      "text/plain": [
       "array([ 0,  1,  2,  3,  4, 11, 12, 13, 14])"
      ]
     },
     "execution_count": 8,
     "metadata": {},
     "output_type": "execute_result"
    }
   ],
   "source": [
    "print(\"(a < 5) | (a > 10):\\n\", (a < 5) | (a > 10), \"\\n\") # | is logical or\n",
    "a[(a < 5) | (a > 10)] # Conditional selection"
   ]
  },
  {
   "cell_type": "code",
   "execution_count": 9,
   "id": "a6cf0337",
   "metadata": {},
   "outputs": [
    {
     "data": {
      "text/plain": [
       "array([ 0,  1,  0,  3,  0,  5,  0,  7,  0,  9,  0, 11,  0, 13,  0])"
      ]
     },
     "execution_count": 9,
     "metadata": {},
     "output_type": "execute_result"
    }
   ],
   "source": [
    "a[a%2 == 0] = 0 # Conditional update\n",
    "a # Replacing 0 for all True values"
   ]
  },
  {
   "cell_type": "code",
   "execution_count": 10,
   "id": "1cc4334b",
   "metadata": {},
   "outputs": [
    {
     "data": {
      "text/plain": [
       "array([[[ 0,  0],\n",
       "        [ 3,  0],\n",
       "        [ 5,  0],\n",
       "        [ 7,  0]],\n",
       "\n",
       "       [[ 9,  0],\n",
       "        [ 0,  0],\n",
       "        [13,  0],\n",
       "        [15,  0]],\n",
       "\n",
       "       [[17,  0],\n",
       "        [19,  0],\n",
       "        [ 0,  0],\n",
       "        [23,  0]]])"
      ]
     },
     "execution_count": 10,
     "metadata": {},
     "output_type": "execute_result"
    }
   ],
   "source": [
    "a = np.arange(1, 25).reshape(3, 4, 2)\n",
    "a[(a%2 == 0) | (a%5 == 1)] = 0 # All even and 1, 11, 21 are in True position\n",
    "a"
   ]
  },
  {
   "cell_type": "code",
   "execution_count": null,
   "id": "ed080e37",
   "metadata": {},
   "outputs": [],
   "source": []
  }
 ],
 "metadata": {
  "kernelspec": {
   "display_name": "test_env",
   "language": "python",
   "name": "python3"
  },
  "language_info": {
   "codemirror_mode": {
    "name": "ipython",
    "version": 3
   },
   "file_extension": ".py",
   "mimetype": "text/x-python",
   "name": "python",
   "nbconvert_exporter": "python",
   "pygments_lexer": "ipython3",
   "version": "3.13.5"
  }
 },
 "nbformat": 4,
 "nbformat_minor": 5
}
